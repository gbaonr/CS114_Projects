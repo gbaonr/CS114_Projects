{
 "cells": [
  {
   "cell_type": "code",
   "execution_count": 1,
   "id": "516bba67",
   "metadata": {
    "execution": {
     "iopub.execute_input": "2025-06-11T04:35:36.906882Z",
     "iopub.status.busy": "2025-06-11T04:35:36.906222Z",
     "iopub.status.idle": "2025-06-11T04:35:46.043276Z",
     "shell.execute_reply": "2025-06-11T04:35:46.042579Z"
    },
    "papermill": {
     "duration": 9.143076,
     "end_time": "2025-06-11T04:35:46.044454",
     "exception": false,
     "start_time": "2025-06-11T04:35:36.901378",
     "status": "completed"
    },
    "tags": []
   },
   "outputs": [
    {
     "data": {
      "text/plain": [
       "<contextlib.ExitStack at 0x7d086fb44a10>"
      ]
     },
     "execution_count": 1,
     "metadata": {},
     "output_type": "execute_result"
    }
   ],
   "source": [
    "import torch\n",
    "import torch.nn as nn\n",
    "import torch.optim as optim\n",
    "from torch.optim import lr_scheduler\n",
    "from torchvision import datasets, transforms, models\n",
    "\n",
    "# from torchvision.models import resnet18, ResNet18_Weights\n",
    "from torchvision.models import vgg16, VGG16_Weights\n",
    "\n",
    "from torch.utils.data import DataLoader\n",
    "import torch.backends.cudnn as cudnn\n",
    "\n",
    "from PIL import Image\n",
    "\n",
    "import os, time, copy\n",
    "\n",
    "import os\n",
    "import random\n",
    "import matplotlib.pyplot as plt\n",
    "from PIL import Image\n",
    "import torchvision.transforms as transforms\n",
    "from torchvision.transforms import v2\n",
    "\n",
    "cudnn.benchmark = True\n",
    "plt.ion()"
   ]
  },
  {
   "cell_type": "code",
   "execution_count": 2,
   "id": "b13d2366",
   "metadata": {
    "execution": {
     "iopub.execute_input": "2025-06-11T04:35:46.052648Z",
     "iopub.status.busy": "2025-06-11T04:35:46.052145Z",
     "iopub.status.idle": "2025-06-11T04:35:46.135647Z",
     "shell.execute_reply": "2025-06-11T04:35:46.134822Z"
    },
    "papermill": {
     "duration": 0.088553,
     "end_time": "2025-06-11T04:35:46.136746",
     "exception": false,
     "start_time": "2025-06-11T04:35:46.048193",
     "status": "completed"
    },
    "tags": []
   },
   "outputs": [
    {
     "name": "stdout",
     "output_type": "stream",
     "text": [
      "Using cuda device\n"
     ]
    }
   ],
   "source": [
    "device = torch.accelerator.current_accelerator().type if torch.accelerator.is_available() else \"cpu\"\n",
    "print(f\"Using {device} device\")\n",
    "num_classes = 10\n",
    "num_epochs = 20\n",
    "batch_size = 128\n",
    "learning_rate = 0.001"
   ]
  },
  {
   "cell_type": "markdown",
   "id": "251b6785",
   "metadata": {
    "papermill": {
     "duration": 0.003127,
     "end_time": "2025-06-11T04:35:46.143399",
     "exception": false,
     "start_time": "2025-06-11T04:35:46.140272",
     "status": "completed"
    },
    "tags": []
   },
   "source": [
    "# **Xử lí data**"
   ]
  },
  {
   "cell_type": "code",
   "execution_count": 3,
   "id": "0d2250a7",
   "metadata": {
    "execution": {
     "iopub.execute_input": "2025-06-11T04:35:46.150991Z",
     "iopub.status.busy": "2025-06-11T04:35:46.150724Z",
     "iopub.status.idle": "2025-06-11T04:35:46.154049Z",
     "shell.execute_reply": "2025-06-11T04:35:46.153538Z"
    },
    "papermill": {
     "duration": 0.008372,
     "end_time": "2025-06-11T04:35:46.155166",
     "exception": false,
     "start_time": "2025-06-11T04:35:46.146794",
     "status": "completed"
    },
    "tags": []
   },
   "outputs": [],
   "source": [
    "data_dir = \"/kaggle/input/handwritten-tl/digits_data\"\n",
    "train_dir = os.path.join(data_dir, \"train\")\n",
    "val_dir = os.path.join(data_dir, \"val\")"
   ]
  },
  {
   "cell_type": "code",
   "execution_count": 4,
   "id": "f28aad22",
   "metadata": {
    "execution": {
     "iopub.execute_input": "2025-06-11T04:35:46.162697Z",
     "iopub.status.busy": "2025-06-11T04:35:46.162333Z",
     "iopub.status.idle": "2025-06-11T04:35:46.168498Z",
     "shell.execute_reply": "2025-06-11T04:35:46.167827Z"
    },
    "papermill": {
     "duration": 0.0112,
     "end_time": "2025-06-11T04:35:46.169561",
     "exception": false,
     "start_time": "2025-06-11T04:35:46.158361",
     "status": "completed"
    },
    "tags": []
   },
   "outputs": [],
   "source": [
    "mean = [0.485, 0.456, 0.406]\n",
    "std  = [0.229, 0.224, 0.225]\n",
    "\n",
    "br = 0.65\n",
    "ct = 0.6\n",
    "\n",
    "data_transforms = {\n",
    "    'train': v2.Compose([\n",
    "        v2.ToImage(),\n",
    "        v2.Grayscale(num_output_channels=3),  # chuyển grayscale thành 3 kênh\n",
    "        v2.Resize((224, 224)),\n",
    "        v2.ToDtype(torch.float32, scale=True),\n",
    "        v2.Normalize(mean=[0.485, 0.456, 0.406], std=[0.229, 0.224, 0.225]),\n",
    "]),\n",
    "    'val': v2.Compose([\n",
    "        v2.ToImage(),\n",
    "        v2.Grayscale(num_output_channels=3),  # chuyển grayscale thành 3 kênh\n",
    "        v2.Resize((224, 224)),\n",
    "        v2.ToDtype(torch.float32, scale=True),\n",
    "        v2.Normalize(mean=[0.485, 0.456, 0.406], std=[0.229, 0.224, 0.225]),\n",
    "    ]),\n",
    "}"
   ]
  },
  {
   "cell_type": "code",
   "execution_count": 5,
   "id": "ae08948f",
   "metadata": {
    "execution": {
     "iopub.execute_input": "2025-06-11T04:35:46.176912Z",
     "iopub.status.busy": "2025-06-11T04:35:46.176431Z",
     "iopub.status.idle": "2025-06-11T04:35:56.426657Z",
     "shell.execute_reply": "2025-06-11T04:35:56.425907Z"
    },
    "papermill": {
     "duration": 10.255118,
     "end_time": "2025-06-11T04:35:56.427927",
     "exception": false,
     "start_time": "2025-06-11T04:35:46.172809",
     "status": "completed"
    },
    "tags": []
   },
   "outputs": [
    {
     "data": {
      "text/plain": [
       "{'train': 5762, 'val': 1310}"
      ]
     },
     "execution_count": 5,
     "metadata": {},
     "output_type": "execute_result"
    }
   ],
   "source": [
    "image_datasets = {\n",
    "    'train': datasets.ImageFolder(train_dir, transform=data_transforms['train']),\n",
    "    'val': datasets.ImageFolder(val_dir, transform=data_transforms['val']),\n",
    "}\n",
    "dataloaders = {\n",
    "    x: DataLoader(image_datasets[x], batch_size=batch_size, shuffle=(x=='train'))\n",
    "    for x in ['train', 'val']\n",
    "}\n",
    "dataset_sizes = {x: len(image_datasets[x]) for x in ['train', 'val']}\n",
    "dataset_sizes"
   ]
  },
  {
   "cell_type": "markdown",
   "id": "73088e59",
   "metadata": {
    "papermill": {
     "duration": 0.003192,
     "end_time": "2025-06-11T04:35:56.434672",
     "exception": false,
     "start_time": "2025-06-11T04:35:56.431480",
     "status": "completed"
    },
    "tags": []
   },
   "source": [
    "# **Transfer learning với Resnet**"
   ]
  },
  {
   "cell_type": "code",
   "execution_count": 6,
   "id": "419c3c88",
   "metadata": {
    "execution": {
     "iopub.execute_input": "2025-06-11T04:35:56.442458Z",
     "iopub.status.busy": "2025-06-11T04:35:56.441743Z",
     "iopub.status.idle": "2025-06-11T04:36:00.949472Z",
     "shell.execute_reply": "2025-06-11T04:36:00.948916Z"
    },
    "papermill": {
     "duration": 4.512854,
     "end_time": "2025-06-11T04:36:00.950663",
     "exception": false,
     "start_time": "2025-06-11T04:35:56.437809",
     "status": "completed"
    },
    "tags": []
   },
   "outputs": [
    {
     "name": "stderr",
     "output_type": "stream",
     "text": [
      "Downloading: \"https://download.pytorch.org/models/vgg16-397923af.pth\" to /root/.cache/torch/hub/checkpoints/vgg16-397923af.pth\n",
      "100%|██████████| 528M/528M [00:02<00:00, 215MB/s]\n"
     ]
    }
   ],
   "source": [
    "weights = VGG16_Weights.IMAGENET1K_V1\n",
    "model = vgg16(weights=weights)\n",
    "\n",
    "for param in model.parameters():\n",
    "    param.requires_grad = False\n",
    "\n",
    "# Unfreeze toàn bộ classifier\n",
    "for param in model.classifier.parameters():\n",
    "    param.requires_grad = True\n",
    "\n",
    "# Unfreeze 2 block cuối (block 4 & 5) trong feature extractor\n",
    "for layer in list(model.features.children())[24:]:  # VGG16 có 31 layer\n",
    "    for param in layer.parameters():\n",
    "        param.requires_grad = True\n",
    "        \n",
    "# Thay lớp fully-connected để phù hợp với 10 lớp\n",
    "model.classifier[6] = nn.Linear(model.classifier[6].in_features, num_classes)\n",
    "model = model.to(device)\n",
    "\n",
    "\n",
    "criterion = nn.CrossEntropyLoss()\n",
    "\n",
    "# Chỉ tối ưu các layer được unfreeze\n",
    "trainable_params = filter(lambda p: p.requires_grad, model.parameters())\n",
    "optimizer = torch.optim.Adam(trainable_params, lr=1e-3)\n",
    "\n",
    "\n",
    "#Optim SGD\n",
    "# optimizer = optim.SGD(model.fc.parameters(), lr=0.001, momentum=0.9)\n",
    "\n",
    "# Decay LR by a factor of 0.1 every 7 epochs\n",
    "# exp_lr_scheduler = lr_scheduler.StepLR(optimizer, step_size=7, gamma=0.1)"
   ]
  },
  {
   "cell_type": "code",
   "execution_count": 7,
   "id": "38d3927e",
   "metadata": {
    "execution": {
     "iopub.execute_input": "2025-06-11T04:36:00.960946Z",
     "iopub.status.busy": "2025-06-11T04:36:00.960514Z",
     "iopub.status.idle": "2025-06-11T04:36:00.965047Z",
     "shell.execute_reply": "2025-06-11T04:36:00.964357Z"
    },
    "papermill": {
     "duration": 0.010631,
     "end_time": "2025-06-11T04:36:00.966157",
     "exception": false,
     "start_time": "2025-06-11T04:36:00.955526",
     "status": "completed"
    },
    "tags": []
   },
   "outputs": [],
   "source": [
    "import sys\n",
    "import time\n",
    "import copy\n",
    "from tqdm import tqdm\n",
    "from contextlib import redirect_stdout\n",
    "\n",
    "# Logging class\n",
    "class DualWriter:\n",
    "    def __init__(self, file):\n",
    "        self.file = file\n",
    "        self.stdout = sys.__stdout__\n",
    "\n",
    "    def write(self, text):\n",
    "        self.stdout.write(text)\n",
    "        self.file.write(text)\n",
    "\n",
    "    def flush(self):\n",
    "        self.stdout.flush()\n",
    "        self.file.flush()"
   ]
  },
  {
   "cell_type": "code",
   "execution_count": 8,
   "id": "56dc281a",
   "metadata": {
    "execution": {
     "iopub.execute_input": "2025-06-11T04:36:00.975751Z",
     "iopub.status.busy": "2025-06-11T04:36:00.975552Z",
     "iopub.status.idle": "2025-06-11T04:36:00.982713Z",
     "shell.execute_reply": "2025-06-11T04:36:00.982077Z"
    },
    "papermill": {
     "duration": 0.013226,
     "end_time": "2025-06-11T04:36:00.983719",
     "exception": false,
     "start_time": "2025-06-11T04:36:00.970493",
     "status": "completed"
    },
    "tags": []
   },
   "outputs": [],
   "source": [
    "from tqdm import tqdm\n",
    "\n",
    "def train_model(model, criterion, optimizer, num_epochs, log_path):\n",
    "    log_file = open(log_path, \"a\")\n",
    "    dual_output = DualWriter(log_file)\n",
    "\n",
    "    with redirect_stdout(dual_output):\n",
    "        best_model_wts = copy.deepcopy(model.state_dict())\n",
    "        best_acc = 0.0\n",
    "        since = time.time()\n",
    "\n",
    "        for epoch in range(num_epochs):\n",
    "            print(f'\\nEpoch {epoch+1}/{num_epochs}')\n",
    "            for phase in ['train', 'val']:\n",
    "                if phase == 'train':\n",
    "                    model.train()\n",
    "                else:\n",
    "                    model.eval()\n",
    "\n",
    "                running_loss = 0.0\n",
    "                running_corrects = 0\n",
    "\n",
    "                for inputs, labels in tqdm(dataloaders[phase], desc=f\"{phase} Epoch {epoch+1}\"):\n",
    "                    inputs = inputs.to(device)\n",
    "                    labels = labels.to(device)\n",
    "\n",
    "                    optimizer.zero_grad()\n",
    "                    with torch.set_grad_enabled(phase == 'train'):\n",
    "                        outputs = model(inputs)\n",
    "                        loss = criterion(outputs, labels)\n",
    "                        preds = torch.argmax(outputs, 1)\n",
    "\n",
    "                        if phase == 'train':\n",
    "                            loss.backward()\n",
    "                            optimizer.step()\n",
    "\n",
    "                    running_loss += loss.item() * inputs.size(0)\n",
    "                    running_corrects += torch.sum(preds == labels).item()\n",
    "\n",
    "                epoch_loss = running_loss / dataset_sizes[phase]\n",
    "                epoch_acc = running_corrects / dataset_sizes[phase]\n",
    "                print(f'{phase.capitalize()} Loss: {epoch_loss:.4f} Acc: {epoch_acc:.4f}')\n",
    "\n",
    "                if phase == 'val' and epoch_acc > best_acc:\n",
    "                    best_acc = epoch_acc\n",
    "                    best_model_wts = copy.deepcopy(model.state_dict())\n",
    "\n",
    "        time_elapsed = time.time() - since\n",
    "        print(f'\\nTraining complete in {time_elapsed//60:.0f}m {time_elapsed%60:.0f}s')\n",
    "        print(f'Best val Acc: {best_acc:.4f}')\n",
    "\n",
    "        model.load_state_dict(best_model_wts)\n",
    "\n",
    "    print(\"🟢 Đã thoát khỏi logging context. Giờ chỉ in ra console.\")\n",
    "    log_file.close()\n",
    "    return model, best_acc, time_elapsed"
   ]
  },
  {
   "cell_type": "code",
   "execution_count": 9,
   "id": "c0f294e1",
   "metadata": {
    "execution": {
     "iopub.execute_input": "2025-06-11T04:36:00.992867Z",
     "iopub.status.busy": "2025-06-11T04:36:00.992642Z",
     "iopub.status.idle": "2025-06-11T06:45:35.500420Z",
     "shell.execute_reply": "2025-06-11T06:45:35.499621Z"
    },
    "papermill": {
     "duration": 7774.513633,
     "end_time": "2025-06-11T06:45:35.501581",
     "exception": false,
     "start_time": "2025-06-11T04:36:00.987948",
     "status": "completed"
    },
    "tags": []
   },
   "outputs": [
    {
     "name": "stderr",
     "output_type": "stream",
     "text": [
      "train Epoch 1:   0%|          | 0/46 [00:00<?, ?it/s]"
     ]
    },
    {
     "name": "stdout",
     "output_type": "stream",
     "text": [
      "\n",
      "Epoch 1/20\n"
     ]
    },
    {
     "name": "stderr",
     "output_type": "stream",
     "text": [
      "train Epoch 1: 100%|██████████| 46/46 [06:32<00:00,  8.53s/it]\n",
      "val Epoch 1:   0%|          | 0/11 [00:00<?, ?it/s]"
     ]
    },
    {
     "name": "stdout",
     "output_type": "stream",
     "text": [
      "Train Loss: 1.7925 Acc: 0.3544\n"
     ]
    },
    {
     "name": "stderr",
     "output_type": "stream",
     "text": [
      "val Epoch 1: 100%|██████████| 11/11 [01:29<00:00,  8.12s/it]\n",
      "train Epoch 2:   0%|          | 0/46 [00:00<?, ?it/s]"
     ]
    },
    {
     "name": "stdout",
     "output_type": "stream",
     "text": [
      "Val Loss: 1.2522 Acc: 0.5450\n",
      "\n",
      "Epoch 2/20\n"
     ]
    },
    {
     "name": "stderr",
     "output_type": "stream",
     "text": [
      "train Epoch 2: 100%|██████████| 46/46 [05:53<00:00,  7.67s/it]\n",
      "val Epoch 2:   0%|          | 0/11 [00:00<?, ?it/s]"
     ]
    },
    {
     "name": "stdout",
     "output_type": "stream",
     "text": [
      "Train Loss: 0.9861 Acc: 0.6562\n"
     ]
    },
    {
     "name": "stderr",
     "output_type": "stream",
     "text": [
      "val Epoch 2: 100%|██████████| 11/11 [01:16<00:00,  6.98s/it]\n",
      "train Epoch 3:   0%|          | 0/46 [00:00<?, ?it/s]"
     ]
    },
    {
     "name": "stdout",
     "output_type": "stream",
     "text": [
      "Val Loss: 0.7224 Acc: 0.7885\n",
      "\n",
      "Epoch 3/20\n"
     ]
    },
    {
     "name": "stderr",
     "output_type": "stream",
     "text": [
      "train Epoch 3: 100%|██████████| 46/46 [05:39<00:00,  7.37s/it]\n",
      "val Epoch 3:   0%|          | 0/11 [00:00<?, ?it/s]"
     ]
    },
    {
     "name": "stdout",
     "output_type": "stream",
     "text": [
      "Train Loss: 0.5834 Acc: 0.8176\n"
     ]
    },
    {
     "name": "stderr",
     "output_type": "stream",
     "text": [
      "val Epoch 3: 100%|██████████| 11/11 [01:18<00:00,  7.15s/it]\n",
      "train Epoch 4:   0%|          | 0/46 [00:00<?, ?it/s]"
     ]
    },
    {
     "name": "stdout",
     "output_type": "stream",
     "text": [
      "Val Loss: 0.5978 Acc: 0.8214\n",
      "\n",
      "Epoch 4/20\n"
     ]
    },
    {
     "name": "stderr",
     "output_type": "stream",
     "text": [
      "train Epoch 4: 100%|██████████| 46/46 [05:14<00:00,  6.84s/it]\n",
      "val Epoch 4:   0%|          | 0/11 [00:00<?, ?it/s]"
     ]
    },
    {
     "name": "stdout",
     "output_type": "stream",
     "text": [
      "Train Loss: 0.3438 Acc: 0.8919\n"
     ]
    },
    {
     "name": "stderr",
     "output_type": "stream",
     "text": [
      "val Epoch 4: 100%|██████████| 11/11 [01:14<00:00,  6.81s/it]\n",
      "train Epoch 5:   0%|          | 0/46 [00:00<?, ?it/s]"
     ]
    },
    {
     "name": "stdout",
     "output_type": "stream",
     "text": [
      "Val Loss: 0.6151 Acc: 0.8321\n",
      "\n",
      "Epoch 5/20\n"
     ]
    },
    {
     "name": "stderr",
     "output_type": "stream",
     "text": [
      "train Epoch 5: 100%|██████████| 46/46 [05:08<00:00,  6.72s/it]\n",
      "val Epoch 5:   0%|          | 0/11 [00:00<?, ?it/s]"
     ]
    },
    {
     "name": "stdout",
     "output_type": "stream",
     "text": [
      "Train Loss: 0.2514 Acc: 0.9262\n"
     ]
    },
    {
     "name": "stderr",
     "output_type": "stream",
     "text": [
      "val Epoch 5: 100%|██████████| 11/11 [01:08<00:00,  6.19s/it]\n",
      "train Epoch 6:   0%|          | 0/46 [00:00<?, ?it/s]"
     ]
    },
    {
     "name": "stdout",
     "output_type": "stream",
     "text": [
      "Val Loss: 0.4722 Acc: 0.8725\n",
      "\n",
      "Epoch 6/20\n"
     ]
    },
    {
     "name": "stderr",
     "output_type": "stream",
     "text": [
      "train Epoch 6: 100%|██████████| 46/46 [05:01<00:00,  6.56s/it]\n",
      "val Epoch 6:   0%|          | 0/11 [00:00<?, ?it/s]"
     ]
    },
    {
     "name": "stdout",
     "output_type": "stream",
     "text": [
      "Train Loss: 0.2087 Acc: 0.9424\n"
     ]
    },
    {
     "name": "stderr",
     "output_type": "stream",
     "text": [
      "val Epoch 6: 100%|██████████| 11/11 [01:13<00:00,  6.68s/it]\n",
      "train Epoch 7:   0%|          | 0/46 [00:00<?, ?it/s]"
     ]
    },
    {
     "name": "stdout",
     "output_type": "stream",
     "text": [
      "Val Loss: 0.5174 Acc: 0.8573\n",
      "\n",
      "Epoch 7/20\n"
     ]
    },
    {
     "name": "stderr",
     "output_type": "stream",
     "text": [
      "train Epoch 7: 100%|██████████| 46/46 [05:12<00:00,  6.80s/it]\n",
      "val Epoch 7:   0%|          | 0/11 [00:00<?, ?it/s]"
     ]
    },
    {
     "name": "stdout",
     "output_type": "stream",
     "text": [
      "Train Loss: 0.2368 Acc: 0.9316\n"
     ]
    },
    {
     "name": "stderr",
     "output_type": "stream",
     "text": [
      "val Epoch 7: 100%|██████████| 11/11 [01:09<00:00,  6.35s/it]\n",
      "train Epoch 8:   0%|          | 0/46 [00:00<?, ?it/s]"
     ]
    },
    {
     "name": "stdout",
     "output_type": "stream",
     "text": [
      "Val Loss: 0.3973 Acc: 0.8893\n",
      "\n",
      "Epoch 8/20\n"
     ]
    },
    {
     "name": "stderr",
     "output_type": "stream",
     "text": [
      "train Epoch 8: 100%|██████████| 46/46 [04:58<00:00,  6.50s/it]\n",
      "val Epoch 8:   0%|          | 0/11 [00:00<?, ?it/s]"
     ]
    },
    {
     "name": "stdout",
     "output_type": "stream",
     "text": [
      "Train Loss: 0.1711 Acc: 0.9514\n"
     ]
    },
    {
     "name": "stderr",
     "output_type": "stream",
     "text": [
      "val Epoch 8: 100%|██████████| 11/11 [01:07<00:00,  6.16s/it]\n",
      "train Epoch 9:   0%|          | 0/46 [00:00<?, ?it/s]"
     ]
    },
    {
     "name": "stdout",
     "output_type": "stream",
     "text": [
      "Val Loss: 0.4251 Acc: 0.8916\n",
      "\n",
      "Epoch 9/20\n"
     ]
    },
    {
     "name": "stderr",
     "output_type": "stream",
     "text": [
      "train Epoch 9: 100%|██████████| 46/46 [04:59<00:00,  6.51s/it]\n",
      "val Epoch 9:   0%|          | 0/11 [00:00<?, ?it/s]"
     ]
    },
    {
     "name": "stdout",
     "output_type": "stream",
     "text": [
      "Train Loss: 0.1733 Acc: 0.9535\n"
     ]
    },
    {
     "name": "stderr",
     "output_type": "stream",
     "text": [
      "val Epoch 9: 100%|██████████| 11/11 [01:09<00:00,  6.35s/it]\n",
      "train Epoch 10:   0%|          | 0/46 [00:00<?, ?it/s]"
     ]
    },
    {
     "name": "stdout",
     "output_type": "stream",
     "text": [
      "Val Loss: 0.4138 Acc: 0.9053\n",
      "\n",
      "Epoch 10/20\n"
     ]
    },
    {
     "name": "stderr",
     "output_type": "stream",
     "text": [
      "train Epoch 10: 100%|██████████| 46/46 [04:55<00:00,  6.43s/it]\n",
      "val Epoch 10:   0%|          | 0/11 [00:00<?, ?it/s]"
     ]
    },
    {
     "name": "stdout",
     "output_type": "stream",
     "text": [
      "Train Loss: 0.1650 Acc: 0.9521\n"
     ]
    },
    {
     "name": "stderr",
     "output_type": "stream",
     "text": [
      "val Epoch 10: 100%|██████████| 11/11 [01:15<00:00,  6.88s/it]\n",
      "train Epoch 11:   0%|          | 0/46 [00:00<?, ?it/s]"
     ]
    },
    {
     "name": "stdout",
     "output_type": "stream",
     "text": [
      "Val Loss: 0.5017 Acc: 0.8824\n",
      "\n",
      "Epoch 11/20\n"
     ]
    },
    {
     "name": "stderr",
     "output_type": "stream",
     "text": [
      "train Epoch 11: 100%|██████████| 46/46 [05:11<00:00,  6.77s/it]\n",
      "val Epoch 11:   0%|          | 0/11 [00:00<?, ?it/s]"
     ]
    },
    {
     "name": "stdout",
     "output_type": "stream",
     "text": [
      "Train Loss: 0.1391 Acc: 0.9594\n"
     ]
    },
    {
     "name": "stderr",
     "output_type": "stream",
     "text": [
      "val Epoch 11: 100%|██████████| 11/11 [01:08<00:00,  6.19s/it]\n",
      "train Epoch 12:   0%|          | 0/46 [00:00<?, ?it/s]"
     ]
    },
    {
     "name": "stdout",
     "output_type": "stream",
     "text": [
      "Val Loss: 0.3465 Acc: 0.9069\n",
      "\n",
      "Epoch 12/20\n"
     ]
    },
    {
     "name": "stderr",
     "output_type": "stream",
     "text": [
      "train Epoch 12: 100%|██████████| 46/46 [05:10<00:00,  6.75s/it]\n",
      "val Epoch 12:   0%|          | 0/11 [00:00<?, ?it/s]"
     ]
    },
    {
     "name": "stdout",
     "output_type": "stream",
     "text": [
      "Train Loss: 0.0840 Acc: 0.9734\n"
     ]
    },
    {
     "name": "stderr",
     "output_type": "stream",
     "text": [
      "val Epoch 12: 100%|██████████| 11/11 [01:12<00:00,  6.61s/it]\n",
      "train Epoch 13:   0%|          | 0/46 [00:00<?, ?it/s]"
     ]
    },
    {
     "name": "stdout",
     "output_type": "stream",
     "text": [
      "Val Loss: 0.3531 Acc: 0.9168\n",
      "\n",
      "Epoch 13/20\n"
     ]
    },
    {
     "name": "stderr",
     "output_type": "stream",
     "text": [
      "train Epoch 13: 100%|██████████| 46/46 [05:02<00:00,  6.57s/it]\n",
      "val Epoch 13:   0%|          | 0/11 [00:00<?, ?it/s]"
     ]
    },
    {
     "name": "stdout",
     "output_type": "stream",
     "text": [
      "Train Loss: 0.0877 Acc: 0.9750\n"
     ]
    },
    {
     "name": "stderr",
     "output_type": "stream",
     "text": [
      "val Epoch 13: 100%|██████████| 11/11 [01:09<00:00,  6.34s/it]\n",
      "train Epoch 14:   0%|          | 0/46 [00:00<?, ?it/s]"
     ]
    },
    {
     "name": "stdout",
     "output_type": "stream",
     "text": [
      "Val Loss: 0.3946 Acc: 0.9084\n",
      "\n",
      "Epoch 14/20\n"
     ]
    },
    {
     "name": "stderr",
     "output_type": "stream",
     "text": [
      "train Epoch 14: 100%|██████████| 46/46 [05:08<00:00,  6.70s/it]\n",
      "val Epoch 14:   0%|          | 0/11 [00:00<?, ?it/s]"
     ]
    },
    {
     "name": "stdout",
     "output_type": "stream",
     "text": [
      "Train Loss: 0.0971 Acc: 0.9726\n"
     ]
    },
    {
     "name": "stderr",
     "output_type": "stream",
     "text": [
      "val Epoch 14: 100%|██████████| 11/11 [01:12<00:00,  6.58s/it]\n",
      "train Epoch 15:   0%|          | 0/46 [00:00<?, ?it/s]"
     ]
    },
    {
     "name": "stdout",
     "output_type": "stream",
     "text": [
      "Val Loss: 0.4180 Acc: 0.9168\n",
      "\n",
      "Epoch 15/20\n"
     ]
    },
    {
     "name": "stderr",
     "output_type": "stream",
     "text": [
      "train Epoch 15: 100%|██████████| 46/46 [05:02<00:00,  6.58s/it]\n",
      "val Epoch 15:   0%|          | 0/11 [00:00<?, ?it/s]"
     ]
    },
    {
     "name": "stdout",
     "output_type": "stream",
     "text": [
      "Train Loss: 0.0990 Acc: 0.9721\n"
     ]
    },
    {
     "name": "stderr",
     "output_type": "stream",
     "text": [
      "val Epoch 15: 100%|██████████| 11/11 [01:10<00:00,  6.38s/it]\n",
      "train Epoch 16:   0%|          | 0/46 [00:00<?, ?it/s]"
     ]
    },
    {
     "name": "stdout",
     "output_type": "stream",
     "text": [
      "Val Loss: 0.5804 Acc: 0.8893\n",
      "\n",
      "Epoch 16/20\n"
     ]
    },
    {
     "name": "stderr",
     "output_type": "stream",
     "text": [
      "train Epoch 16: 100%|██████████| 46/46 [05:15<00:00,  6.85s/it]\n",
      "val Epoch 16:   0%|          | 0/11 [00:00<?, ?it/s]"
     ]
    },
    {
     "name": "stdout",
     "output_type": "stream",
     "text": [
      "Train Loss: 0.1439 Acc: 0.9670\n"
     ]
    },
    {
     "name": "stderr",
     "output_type": "stream",
     "text": [
      "val Epoch 16: 100%|██████████| 11/11 [01:11<00:00,  6.51s/it]\n",
      "train Epoch 17:   0%|          | 0/46 [00:00<?, ?it/s]"
     ]
    },
    {
     "name": "stdout",
     "output_type": "stream",
     "text": [
      "Val Loss: 0.5945 Acc: 0.8847\n",
      "\n",
      "Epoch 17/20\n"
     ]
    },
    {
     "name": "stderr",
     "output_type": "stream",
     "text": [
      "train Epoch 17: 100%|██████████| 46/46 [05:09<00:00,  6.74s/it]\n",
      "val Epoch 17:   0%|          | 0/11 [00:00<?, ?it/s]"
     ]
    },
    {
     "name": "stdout",
     "output_type": "stream",
     "text": [
      "Train Loss: 0.1302 Acc: 0.9675\n"
     ]
    },
    {
     "name": "stderr",
     "output_type": "stream",
     "text": [
      "val Epoch 17: 100%|██████████| 11/11 [01:10<00:00,  6.38s/it]\n",
      "train Epoch 18:   0%|          | 0/46 [00:00<?, ?it/s]"
     ]
    },
    {
     "name": "stdout",
     "output_type": "stream",
     "text": [
      "Val Loss: 0.5523 Acc: 0.9084\n",
      "\n",
      "Epoch 18/20\n"
     ]
    },
    {
     "name": "stderr",
     "output_type": "stream",
     "text": [
      "train Epoch 18: 100%|██████████| 46/46 [05:22<00:00,  7.01s/it]\n",
      "val Epoch 18:   0%|          | 0/11 [00:00<?, ?it/s]"
     ]
    },
    {
     "name": "stdout",
     "output_type": "stream",
     "text": [
      "Train Loss: 0.1590 Acc: 0.9611\n"
     ]
    },
    {
     "name": "stderr",
     "output_type": "stream",
     "text": [
      "val Epoch 18: 100%|██████████| 11/11 [01:11<00:00,  6.53s/it]\n",
      "train Epoch 19:   0%|          | 0/46 [00:00<?, ?it/s]"
     ]
    },
    {
     "name": "stdout",
     "output_type": "stream",
     "text": [
      "Val Loss: 0.6990 Acc: 0.8870\n",
      "\n",
      "Epoch 19/20\n"
     ]
    },
    {
     "name": "stderr",
     "output_type": "stream",
     "text": [
      "train Epoch 19: 100%|██████████| 46/46 [05:12<00:00,  6.79s/it]\n",
      "val Epoch 19:   0%|          | 0/11 [00:00<?, ?it/s]"
     ]
    },
    {
     "name": "stdout",
     "output_type": "stream",
     "text": [
      "Train Loss: 0.1504 Acc: 0.9655\n"
     ]
    },
    {
     "name": "stderr",
     "output_type": "stream",
     "text": [
      "val Epoch 19: 100%|██████████| 11/11 [01:12<00:00,  6.56s/it]\n",
      "train Epoch 20:   0%|          | 0/46 [00:00<?, ?it/s]"
     ]
    },
    {
     "name": "stdout",
     "output_type": "stream",
     "text": [
      "Val Loss: 0.5057 Acc: 0.8992\n",
      "\n",
      "Epoch 20/20\n"
     ]
    },
    {
     "name": "stderr",
     "output_type": "stream",
     "text": [
      "train Epoch 20: 100%|██████████| 46/46 [05:08<00:00,  6.71s/it]\n",
      "val Epoch 20:   0%|          | 0/11 [00:00<?, ?it/s]"
     ]
    },
    {
     "name": "stdout",
     "output_type": "stream",
     "text": [
      "Train Loss: 0.1013 Acc: 0.9729\n"
     ]
    },
    {
     "name": "stderr",
     "output_type": "stream",
     "text": [
      "val Epoch 20: 100%|██████████| 11/11 [01:11<00:00,  6.46s/it]"
     ]
    },
    {
     "name": "stdout",
     "output_type": "stream",
     "text": [
      "🟢 Đã thoát khỏi logging context. Giờ chỉ in ra console.\n"
     ]
    },
    {
     "name": "stderr",
     "output_type": "stream",
     "text": [
      "\n"
     ]
    }
   ],
   "source": [
    "# best_model, best_acc, time_elapsed = train_model(model, criterion, optimizer,  \n",
    "#                                                  exp_lr_scheduler, num_epochs)\n",
    "log_path = 'train_log.txt'\n",
    "best_model, best_acc, time_elapsed = train_model(model, criterion, optimizer, num_epochs, log_path)"
   ]
  },
  {
   "cell_type": "markdown",
   "id": "2746e153",
   "metadata": {
    "papermill": {
     "duration": 0.052571,
     "end_time": "2025-06-11T06:45:35.608525",
     "exception": false,
     "start_time": "2025-06-11T06:45:35.555954",
     "status": "completed"
    },
    "tags": []
   },
   "source": [
    "# **Lưu:**\n",
    "- Model\n",
    "- Best accuracy\n",
    "- Thời gian chạy\n",
    "- Optimizer\n",
    "- Hàm loss\n",
    "- Transform data"
   ]
  },
  {
   "cell_type": "code",
   "execution_count": 10,
   "id": "8632e933",
   "metadata": {
    "execution": {
     "iopub.execute_input": "2025-06-11T06:45:35.717661Z",
     "iopub.status.busy": "2025-06-11T06:45:35.717099Z",
     "iopub.status.idle": "2025-06-11T06:45:36.735604Z",
     "shell.execute_reply": "2025-06-11T06:45:36.734842Z"
    },
    "papermill": {
     "duration": 1.074615,
     "end_time": "2025-06-11T06:45:36.737034",
     "exception": false,
     "start_time": "2025-06-11T06:45:35.662419",
     "status": "completed"
    },
    "tags": []
   },
   "outputs": [],
   "source": [
    "torch.save(model.state_dict(), 'vgg16.pth')\n",
    "\n",
    "log_path = \"final_train_log.txt\"\n",
    "with open(log_path, \"a\") as f:\n",
    "    f.write(\"=\"*60 + \"\\n\")\n",
    "    f.write(\"Training Summary\\n\")\n",
    "    f.write(\"=\"*60 + \"\\n\")\n",
    "    f.write(f\"Time: {time_elapsed//60:.0f}m {time_elapsed%60:.0f}s\\n\")\n",
    "    f.write(f\"Best Validation Accuracy: {best_acc:.4f}\\n\")\n",
    "    f.write(f\"\\nOptimizer: {optimizer.__class__.__name__} - {optimizer.state_dict()['param_groups'][0]}\\n\")\n",
    "    f.write(f\"Loss Function: {criterion.__class__.__name__}\\n\")\n",
    "\n",
    "    f.write(\"\\nTransforms:\\n\")\n",
    "    for phase in ['train', 'val']:\n",
    "        f.write(f\"  {phase}:\\n\")\n",
    "        for t in data_transforms[phase].transforms:\n",
    "            f.write(f\"    - {t}\\n\")\n",
    "\n",
    "    f.write(\"=\"*60 + \"\\n\\n\")"
   ]
  },
  {
   "cell_type": "markdown",
   "id": "889ca19c",
   "metadata": {
    "papermill": {
     "duration": 0.054036,
     "end_time": "2025-06-11T06:45:36.845392",
     "exception": false,
     "start_time": "2025-06-11T06:45:36.791356",
     "status": "completed"
    },
    "tags": []
   },
   "source": [
    "# **Test 20 ảnh random trên tập test**"
   ]
  },
  {
   "cell_type": "code",
   "execution_count": 11,
   "id": "f57e9e29",
   "metadata": {
    "execution": {
     "iopub.execute_input": "2025-06-11T06:45:36.952476Z",
     "iopub.status.busy": "2025-06-11T06:45:36.952187Z",
     "iopub.status.idle": "2025-06-11T06:45:36.956377Z",
     "shell.execute_reply": "2025-06-11T06:45:36.955574Z"
    },
    "papermill": {
     "duration": 0.059373,
     "end_time": "2025-06-11T06:45:36.957578",
     "exception": false,
     "start_time": "2025-06-11T06:45:36.898205",
     "status": "completed"
    },
    "tags": []
   },
   "outputs": [],
   "source": [
    "# # Định nghĩa thư mục test\n",
    "# test_folder = \"/kaggle/input/handwritten-test-10k\"\n",
    "\n",
    "# # Thiết bị (CPU/GPU)\n",
    "# device = torch.device(\"cuda\" if torch.cuda.is_available() else \"cpu\")\n",
    "\n",
    "# # Định nghĩa transform cho test (tương tự 'val')\n",
    "# transform = transforms.Compose([\n",
    "#     transforms.Grayscale(1),  # Chuyển thành 3 kênh cho ResNet\n",
    "#     transforms.Resize((224, 224)),  # Thay đổi kích thước ảnh\n",
    "#     transforms.ToTensor(),  # Chuyển thành tensor\n",
    "#     transforms.Normalize(mean=mean, std=std),  # Chuẩn hóa\n",
    "# ])\n",
    "\n",
    "# # Lấy 20 ảnh ngẫu nhiên từ thư mục test\n",
    "# all_files = [f for f in os.listdir(test_folder)]\n",
    "# random.shuffle(all_files)\n",
    "# selected_files = all_files[:20]\n",
    "\n",
    "# # Chuyển mô hình sang chế độ đánh giá\n",
    "# model.eval()\n",
    "\n",
    "# # Tạo figure để plot\n",
    "# plt.figure(figsize=(12, 6))\n",
    "\n",
    "# # Test và plot từng ảnh\n",
    "# for i, filename in enumerate(selected_files):\n",
    "#     # Đọc ảnh\n",
    "#     img_path = os.path.join(test_folder, filename)\n",
    "#     image = Image.open(img_path).convert(\"L\")  # Đọc ảnh và chuyển thành grayscale\n",
    "\n",
    "#     # Áp dụng transform\n",
    "#     image_input = transform(image).unsqueeze(0).to(device)  # Thêm chiều batch và chuyển sang device\n",
    "\n",
    "#     # Dự đoán\n",
    "#     with torch.no_grad():\n",
    "#         outputs = model(image_input)\n",
    "#         _, predicted = torch.max(outputs, 1)\n",
    "#         pred_label = predicted.item()\n",
    "\n",
    "#     # Plot ảnh\n",
    "#     plt.subplot(4, 5, i + 1)\n",
    "#     plt.imshow(image, cmap=\"gray\")  # Hiển thị ảnh gốc (grayscale)\n",
    "#     plt.title(f\"Pred: {pred_label}\")\n",
    "#     plt.axis(\"off\")\n",
    "\n",
    "# # Điều chỉnh layout và hiển thị\n",
    "# plt.tight_layout()\n",
    "# plt.show()"
   ]
  },
  {
   "cell_type": "markdown",
   "id": "f990d4cb",
   "metadata": {
    "papermill": {
     "duration": 0.053528,
     "end_time": "2025-06-11T06:45:37.064381",
     "exception": false,
     "start_time": "2025-06-11T06:45:37.010853",
     "status": "completed"
    },
    "tags": []
   },
   "source": [
    "# **Dự đoán cho dataset 2k**"
   ]
  },
  {
   "cell_type": "code",
   "execution_count": 12,
   "id": "368f69d2",
   "metadata": {
    "execution": {
     "iopub.execute_input": "2025-06-11T06:45:37.173766Z",
     "iopub.status.busy": "2025-06-11T06:45:37.173112Z",
     "iopub.status.idle": "2025-06-11T06:45:37.183467Z",
     "shell.execute_reply": "2025-06-11T06:45:37.182893Z"
    },
    "papermill": {
     "duration": 0.066368,
     "end_time": "2025-06-11T06:45:37.184623",
     "exception": false,
     "start_time": "2025-06-11T06:45:37.118255",
     "status": "completed"
    },
    "tags": []
   },
   "outputs": [],
   "source": [
    "with open(\"/kaggle/input/cs114-heic-name-10ktest/heic_name.txt\", \"r\", encoding=\"utf-8\") as f:\n",
    "    heic_names = [line.strip() for line in f]\n",
    "\n",
    "# print(heic_names)"
   ]
  },
  {
   "cell_type": "code",
   "execution_count": 13,
   "id": "ed33c7ce",
   "metadata": {
    "execution": {
     "iopub.execute_input": "2025-06-11T06:45:37.299142Z",
     "iopub.status.busy": "2025-06-11T06:45:37.298432Z",
     "iopub.status.idle": "2025-06-11T06:47:13.151771Z",
     "shell.execute_reply": "2025-06-11T06:47:13.150991Z"
    },
    "papermill": {
     "duration": 95.91152,
     "end_time": "2025-06-11T06:47:13.152987",
     "exception": false,
     "start_time": "2025-06-11T06:45:37.241467",
     "status": "completed"
    },
    "tags": []
   },
   "outputs": [
    {
     "name": "stdout",
     "output_type": "stream",
     "text": [
      "0e308e4279faba22843c007c709d047f  -.HEIC\n",
      "bfa13efb7012f26ec808491f1b43d8eb  -.HEIC\n",
      "240c99ed2f4fc115292ee39e630307d1  -.HEIC\n",
      "d4b5381a27ee385fcb5e5f1896edcc68  -.HEIC\n",
      "4125170c9b33affe28532d84097fef4a  -.HEIC\n",
      "d67a99873641d73fffd0498ce135dec9  -.HEIC\n",
      "ee5f335ad27f7817568c36721924c8e9  -.HEIC\n",
      "dbd025557c0ff34f9099de9d421d8ebb  -.HEIC\n",
      "faff9da17885d6589a9775ccdecb8b7d  -.HEIC\n",
      "2cc4b987bfe65eb3beda9870d3dd5571  -.HEIC\n",
      "be633c756666b255f89a23ae798d690d  -.HEIC\n",
      "bc137c1dc2466da50b14cc39a540ba64  -.HEIC\n",
      "379e725180d1877eee670939084c0361  -.HEIC\n",
      "346c9d49d4f66bd42b90d9f034f240f6  -.HEIC\n",
      "02c41345f52a4c87bcf29c0aed37a9ca  -.HEIC\n",
      "79cc598c7c0fa1380a771bf724668662  -.HEIC\n",
      "4056e13b8d7ffb1d3f69a64d3d742919  -.HEIC\n",
      "8627553fc3ae84da85df6ee275ba7a3c  -.HEIC\n",
      "9d2cf96b868cc57eafeb7130fcd9edb4  -.HEIC\n",
      "a551c30daf44700208d8ed24d70db855  -.HEIC\n",
      "c6ce9f623fc4dd820f40fad5f541c87e  -.HEIC\n",
      "8e4a38bd19c94970f342494bb01213d8  -.HEIC\n",
      "18b3189fa0aecab82ae817e8155a9844  -.HEIC\n",
      "f335ebd8f31b916c71ddd182bf2f2e40  -.HEIC\n",
      "3edc952b8034e0d91262887e6480a14d  -.HEIC\n",
      "d450d859bc776905a73c1c851c55524e  -.HEIC\n",
      "616172becdffb344ed0eaf6589f9b320  -.HEIC\n",
      "e3aab03293995eaca8c3d24b9615dd8e  -.HEIC\n",
      "e978fb00a535e15e0ddec4f50089b8ac  -.HEIC\n",
      "ec0c6e56d7d320f2041d35beb7f81225  -.HEIC\n",
      "Tổng số test sample :  2928\n"
     ]
    }
   ],
   "source": [
    "# Định nghĩa thư mục test và file output\n",
    "test_folder = \"/kaggle/input/handwritten-test-2k\"\n",
    "output_file = \"predictions_2k.txt\"\n",
    "\n",
    "# Thiết bị (CPU/GPU)\n",
    "device = torch.device(\"cuda\" if torch.cuda.is_available() else \"cpu\")\n",
    "\n",
    "transform = v2.Compose([\n",
    "        v2.ToImage(),\n",
    "        v2.Grayscale(num_output_channels=3),  # chuyển grayscale thành 3 kênh\n",
    "        v2.Resize((224, 224)),\n",
    "        v2.ToDtype(torch.float32, scale=True),\n",
    "        v2.Normalize(mean=[0.485, 0.456, 0.406], std=[0.229, 0.224, 0.225]),\n",
    "    ])\n",
    "\n",
    "# Lấy tất cả ảnh trong thư mục test\n",
    "all_files = [f for f in os.listdir(test_folder)]\n",
    "\n",
    "count = 0\n",
    "# Chuyển mô hình sang chế độ đánh giá\n",
    "model.eval()\n",
    "\n",
    "# Mở file để lưu kết quả\n",
    "with open(output_file, \"w\") as f:\n",
    "    # Test từng ảnh\n",
    "    for filename in all_files:\n",
    "        # Đọc ảnh\n",
    "        part = os.path.splitext(filename)\n",
    "        name = part[0]\n",
    "        ext = part[1].lower()\n",
    "            \n",
    "        img_path = os.path.join(test_folder, filename)\n",
    "        image = Image.open(img_path).convert(\"L\")  # Đọc ảnh và chuyển thành grayscale\n",
    "\n",
    "        # Áp dụng transform\n",
    "        image_input = transform(image).unsqueeze(0).to(device)  # Thêm chiều batch và chuyển sang device\n",
    "\n",
    "        # Dự đoán\n",
    "        with torch.no_grad():\n",
    "            outputs = model(image_input)\n",
    "            _, predicted = torch.max(outputs, 1)\n",
    "            pred_label = predicted.item()\n",
    "            \n",
    "        if name in heic_names:\n",
    "            filename = name + '.HEIC'\n",
    "            print(filename)\n",
    "        # Ghi vào file với định dạng img_name,label\n",
    "        f.write(f\"{filename},{pred_label}\\n\")\n",
    "        count += 1\n",
    "\n",
    "print('Tổng số test sample : ', count)"
   ]
  },
  {
   "cell_type": "markdown",
   "id": "e441d032",
   "metadata": {
    "papermill": {
     "duration": 0.056007,
     "end_time": "2025-06-11T06:47:13.264996",
     "exception": false,
     "start_time": "2025-06-11T06:47:13.208989",
     "status": "completed"
    },
    "tags": []
   },
   "source": [
    "# **Dự đoán cho dataset 10k**"
   ]
  },
  {
   "cell_type": "code",
   "execution_count": 14,
   "id": "f6e0a8c9",
   "metadata": {
    "execution": {
     "iopub.execute_input": "2025-06-11T06:47:13.377669Z",
     "iopub.status.busy": "2025-06-11T06:47:13.377405Z",
     "iopub.status.idle": "2025-06-11T06:54:43.969828Z",
     "shell.execute_reply": "2025-06-11T06:54:43.969103Z"
    },
    "papermill": {
     "duration": 450.709594,
     "end_time": "2025-06-11T06:54:44.030115",
     "exception": false,
     "start_time": "2025-06-11T06:47:13.320521",
     "status": "completed"
    },
    "tags": []
   },
   "outputs": [
    {
     "name": "stdout",
     "output_type": "stream",
     "text": [
      "2e5ab66c892d882503a710aa97b7e15b.HEIC\n",
      "f986a68ead56729a5fd52fd338cc35a6.HEIC\n",
      "0e308e4279faba22843c007c709d047f  -.HEIC\n",
      "614a8c12dd3771cedcabcdb3642ba95b.HEIC\n",
      "9e1f3378e66e8cd4c1f795d8e642fc60.HEIC\n",
      "064e9f0be1e982a8f64ad6410df288c7.HEIC\n",
      "b97120946046fd8a6febca02f8b9ac5b.HEIC\n",
      "f36e0a9c5b7bab3d8a83c61f60144bf6.HEIC\n",
      "2a96d698456e7c0918d136f7e3372847.HEIC\n",
      "bfa13efb7012f26ec808491f1b43d8eb  -.HEIC\n",
      "240c99ed2f4fc115292ee39e630307d1  -.HEIC\n",
      "d4b5381a27ee385fcb5e5f1896edcc68  -.HEIC\n",
      "4246ea371a0a9096bb9b3d9048b7402d.HEIC\n",
      "9ff224036fcd320556163e4b2feb813a.HEIC\n",
      "313ec17e81da537717027fd5cb2e7d76.HEIC\n",
      "7b144c8aee2c11ad0a54433ccadb4a66.HEIC\n",
      "4125170c9b33affe28532d84097fef4a  -.HEIC\n",
      "8c0832fa1ebf627c6e0714a4b6babcc1.HEIC\n",
      "3b95f0841c21525f73d752193052fc9e.HEIC\n",
      "609ae93438959bff10e7b96f8c24f779.HEIC\n",
      "81b728654dded4e1be0b8d918d647cb3.HEIC\n",
      "b287cb234bae7432b4f02b710fe97fcb.HEIC\n",
      "eb8c546148633071f33261f3d329a2d6.HEIC\n",
      "f003259eee0f7319b6e91a80c46b5974.HEIC\n",
      "687f1d529d89358dab5f0c852cde3ca7.HEIC\n",
      "d434fe19e84d0adc3b2dd9022ba0214d.HEIC\n",
      "285ad4e940ef9a0ccd936de1953f0239.HEIC\n",
      "e63e2533582e3c0fed61a33f368af92e.HEIC\n",
      "1cba5631ee2db9e3362d0c0b8bf7a6ab.HEIC\n",
      "392cc53907e2fde1fd6faec6ddc898d0.HEIC\n",
      "d67a99873641d73fffd0498ce135dec9  -.HEIC\n",
      "9b78ce3efdb35c807607f1d60e070094.HEIC\n",
      "7a975dd66107a7c2abf0e9978bef14a0.HEIC\n",
      "0805481419bb2b520b0f433f5cca66e1.HEIC\n",
      "1229d3dc11f8ed8b04c5c408a7cbde00.HEIC\n",
      "83177a8abb6ce6713485e253ed7eec55.HEIC\n",
      "8177c77268d83ea964e8cb178188b52a.HEIC\n",
      "44cdb9034171b588d1117a72b782022a.HEIC\n",
      "d3d5000ba81d41e3db2659637beaed0b.HEIC\n",
      "ee5f335ad27f7817568c36721924c8e9  -.HEIC\n",
      "a0d770c40df773d5de1c5d04e485dff7.HEIC\n",
      "dbd025557c0ff34f9099de9d421d8ebb  -.HEIC\n",
      "faff9da17885d6589a9775ccdecb8b7d  -.HEIC\n",
      "ba7ce2058ad6af9b0664b0fba5a6596a.HEIC\n",
      "d9daaae75d68d855052f98739611640a.HEIC\n",
      "2cc4b987bfe65eb3beda9870d3dd5571  -.HEIC\n",
      "69c232bafe0d5cd79fb78a37eb5954b3.HEIC\n",
      "bc6fcf20f608d914dfb039f863b34c58.HEIC\n",
      "fc972fff77ea8b755bb7de37f7c94046.HEIC\n",
      "4f9b940f50aca0456b4b2cde2efac1e6.HEIC\n",
      "be633c756666b255f89a23ae798d690d  -.HEIC\n",
      "bc137c1dc2466da50b14cc39a540ba64  -.HEIC\n",
      "379e725180d1877eee670939084c0361  -.HEIC\n",
      "346c9d49d4f66bd42b90d9f034f240f6  -.HEIC\n",
      "95b3ee3016558d3c81de46dba3ef187f.HEIC\n",
      "02c41345f52a4c87bcf29c0aed37a9ca  -.HEIC\n",
      "f204b661b1663aa3d3f11b458bdebfbd.HEIC\n",
      "3bda949d7af8d430cd8b819e2cf70ce5.HEIC\n",
      "79cc598c7c0fa1380a771bf724668662  -.HEIC\n",
      "a0b35ada5bf03acd626f25b0f15fff3e.HEIC\n",
      "8f00fcecffb85ab996447eae0cd15c52.HEIC\n",
      "8325232c06f7d66a8fe192eea6016004.HEIC\n",
      "831bb4c21d11e91b5bd9f79967156dca.HEIC\n",
      "4056e13b8d7ffb1d3f69a64d3d742919  -.HEIC\n",
      "5a409fa2051d583419a4294ce7a3e94c.HEIC\n",
      "dccf744fa61316959bcc58f70d3f9fd3.HEIC\n",
      "4e5b7067e21262aebfe20c6d33cafc91.HEIC\n",
      "a22b9f14ea1e93e6a8771e71757679d7.HEIC\n",
      "8627553fc3ae84da85df6ee275ba7a3c  -.HEIC\n",
      "7a2a1096f943d2c0c939d6f6a6133750.HEIC\n",
      "0edd5ff35ff1da9cee6db27375198ef0.HEIC\n",
      "9d2cf96b868cc57eafeb7130fcd9edb4  -.HEIC\n",
      "f8cd19f8c25a8a79d40e06ff706fd6a1.HEIC\n",
      "68ad8a4c335540ddda059007530f6ec1.HEIC\n",
      "a551c30daf44700208d8ed24d70db855  -.HEIC\n",
      "293f72922df347815dba619ea866db63.HEIC\n",
      "004d39d8a48b484ba47ac058af0307d2.HEIC\n",
      "b24a5796b68c668268643ae25723f8d7.HEIC\n",
      "9aba5d9d100c31e76c2b9e1ef806e5d9.HEIC\n",
      "c6ce9f623fc4dd820f40fad5f541c87e  -.HEIC\n",
      "fd50b14dd3d3d0a482a4efc55d525298.HEIC\n",
      "acb5f56a029c43112049f7c857148ba2.HEIC\n",
      "8e4a38bd19c94970f342494bb01213d8  -.HEIC\n",
      "cc0be027be4388eb4bff3453e30c5e1b.HEIC\n",
      "974719e3b99c40fd0c51c120b7df92c6.HEIC\n",
      "18b3189fa0aecab82ae817e8155a9844  -.HEIC\n",
      "cede0cfc0f0d7af0029331ec34436d54.HEIC\n",
      "f335ebd8f31b916c71ddd182bf2f2e40  -.HEIC\n",
      "057efebffefd1027b89c7a6f2ddd7ec0.HEIC\n",
      "0c66d646ae2fcbf47295daa0fa6fd0f9.HEIC\n",
      "cd044b061bc5ed6a0d4984e85cc151c0.HEIC\n",
      "c105bea8676a0e0a79286caf1bd86dc9.HEIC\n",
      "0737c18223e6c8110ff767ee27841569.HEIC\n",
      "357162d6587502bc71c8c568d24fa894.HEIC\n",
      "bde1bdbc5fd356d9805d9eec375dcd92.HEIC\n",
      "3edc952b8034e0d91262887e6480a14d  -.HEIC\n",
      "9a54372b22fc33b874f71a3e42ff2e0e.HEIC\n",
      "b099bfd1c41d1cc1bb35d846ca614747.HEIC\n",
      "ea5baef8b76af40d854a8d330f96dff5.HEIC\n",
      "d450d859bc776905a73c1c851c55524e  -.HEIC\n",
      "34dff8cda52938e0ba5af071f116e88c.HEIC\n",
      "ea8496c521e0b12fb1f8e7f274071645.HEIC\n",
      "dacec8de1e92ae8a22657c3f4b7c6331.HEIC\n",
      "49b7fb99459b067e71249cedd07a1d99.HEIC\n",
      "9d236ed1fb915adefa2bbf1ec38b3c00.HEIC\n",
      "53e7d83b086a2ee826030a30443b73a7.HEIC\n",
      "6d06d5647c50ba4830f4a16aab436611.HEIC\n",
      "d32e098e3e66d9e979bf72b8dd18f894.HEIC\n",
      "278a87ee160971f5ecf05a84b9feec6f.HEIC\n",
      "54470885d0f378c9ea16c61a463729da.HEIC\n",
      "0bc271063374f500276f8eeb627bf6b8.HEIC\n",
      "616172becdffb344ed0eaf6589f9b320  -.HEIC\n",
      "e3aab03293995eaca8c3d24b9615dd8e  -.HEIC\n",
      "d1491966c84a8371a5954a913468bf18.HEIC\n",
      "60e297f9b4795ffe3d287de602411e82.HEIC\n",
      "713398b3b545489e61fd7678ff6aafdf.HEIC\n",
      "e978fb00a535e15e0ddec4f50089b8ac  -.HEIC\n",
      "d48f421b5f1964b3590076e9a35db2fe.HEIC\n",
      "7c70c7650c4d4827170ba054df8a7755.HEIC\n",
      "6375b92d5a42019f1d133a59cdd8c24c.HEIC\n",
      "97397cc0b77329eae661764697469b2e.HEIC\n",
      "904f8bbb6668d45f51e425e0d606f4fe.HEIC\n",
      "f8d3dbfe59b434c9176772f0978ee01e.HEIC\n",
      "72ae61add4d2fa9d1d3a70422d69a578.HEIC\n",
      "d01038195f9879d6118fd253d23e0470.HEIC\n",
      "3bce47afe5382ad9e32e1a007c623fea.HEIC\n",
      "78f788851a15c5927a7d079cece219a3.HEIC\n",
      "f9af4cf10e5dfdf2b50e4ea133ad6262.HEIC\n",
      "ec0c6e56d7d320f2041d35beb7f81225  -.HEIC\n",
      "6a5a47b6b7b85607580b24c4898095c0.HEIC\n",
      "Tổng số test sample :  9974\n"
     ]
    }
   ],
   "source": [
    "# Định nghĩa thư mục test và file output\n",
    "test_folder = \"/kaggle/input/handwritten-test-10k\"\n",
    "output_file = \"predictions_10k.txt\"\n",
    "\n",
    "# Thiết bị (CPU/GPU)\n",
    "device = torch.device(\"cuda\" if torch.cuda.is_available() else \"cpu\")\n",
    "\n",
    "transform = v2.Compose([\n",
    "        v2.ToImage(),\n",
    "        v2.Grayscale(num_output_channels=3),  # chuyển grayscale thành 3 kênh\n",
    "        v2.Resize((224, 224)),\n",
    "        v2.ToDtype(torch.float32, scale=True),\n",
    "        v2.Normalize(mean=[0.485, 0.456, 0.406], std=[0.229, 0.224, 0.225]),\n",
    "    ])\n",
    "\n",
    "# Lấy tất cả ảnh trong thư mục test\n",
    "all_files = [f for f in os.listdir(test_folder)]\n",
    "\n",
    "count = 0\n",
    "# Chuyển mô hình sang chế độ đánh giá\n",
    "model.eval()\n",
    "\n",
    "# Mở file để lưu kết quả\n",
    "with open(output_file, \"w\") as f:\n",
    "    # Test từng ảnh\n",
    "    for filename in all_files:\n",
    "        # Đọc ảnh\n",
    "        part = os.path.splitext(filename)\n",
    "        name = part[0]\n",
    "        ext = part[1].lower()\n",
    "        # ext = os.path.splitext(filename)[-1].lower()\n",
    "        \n",
    "        # if ext == \".heic\" or ext == \".md\" :\n",
    "        #     print(\"Lỗi heic, .md : \", filename)\n",
    "        #     continue\n",
    "            \n",
    "        img_path = os.path.join(test_folder, filename)\n",
    "        image = Image.open(img_path).convert(\"L\")  # Đọc ảnh và chuyển thành grayscale\n",
    "\n",
    "        # Áp dụng transform\n",
    "        image_input = transform(image).unsqueeze(0).to(device)  # Thêm chiều batch và chuyển sang device\n",
    "\n",
    "        # Dự đoán\n",
    "        with torch.no_grad():\n",
    "            outputs = model(image_input)\n",
    "            _, predicted = torch.max(outputs, 1)\n",
    "            pred_label = predicted.item()\n",
    "            \n",
    "        if name in heic_names:\n",
    "            filename = name + '.HEIC'\n",
    "            print(filename)\n",
    "        # Ghi vào file với định dạng img_name,label\n",
    "        f.write(f\"{filename},{pred_label}\\n\")\n",
    "        count += 1\n",
    "\n",
    "print('Tổng số test sample : ', count)"
   ]
  }
 ],
 "metadata": {
  "kaggle": {
   "accelerator": "gpu",
   "dataSources": [
    {
     "datasetId": 7613469,
     "sourceId": 12094235,
     "sourceType": "datasetVersion"
    },
    {
     "datasetId": 7614858,
     "sourceId": 12096088,
     "sourceType": "datasetVersion"
    },
    {
     "datasetId": 7623254,
     "sourceId": 12108244,
     "sourceType": "datasetVersion"
    },
    {
     "datasetId": 7629236,
     "sourceId": 12116898,
     "sourceType": "datasetVersion"
    }
   ],
   "dockerImageVersionId": 31041,
   "isGpuEnabled": true,
   "isInternetEnabled": true,
   "language": "python",
   "sourceType": "notebook"
  },
  "kernelspec": {
   "display_name": "Python 3",
   "language": "python",
   "name": "python3"
  },
  "language_info": {
   "codemirror_mode": {
    "name": "ipython",
    "version": 3
   },
   "file_extension": ".py",
   "mimetype": "text/x-python",
   "name": "python",
   "nbconvert_exporter": "python",
   "pygments_lexer": "ipython3",
   "version": "3.11.11"
  },
  "papermill": {
   "default_parameters": {},
   "duration": 8354.247299,
   "end_time": "2025-06-11T06:54:46.897482",
   "environment_variables": {},
   "exception": null,
   "input_path": "__notebook__.ipynb",
   "output_path": "__notebook__.ipynb",
   "parameters": {},
   "start_time": "2025-06-11T04:35:32.650183",
   "version": "2.6.0"
  }
 },
 "nbformat": 4,
 "nbformat_minor": 5
}
