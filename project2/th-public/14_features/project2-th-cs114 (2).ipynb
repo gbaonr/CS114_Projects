{
 "cells": [
  {
   "cell_type": "markdown",
   "id": "eb7d464a",
   "metadata": {
    "papermill": {
     "duration": 0.010577,
     "end_time": "2025-06-15T03:01:38.168973",
     "exception": false,
     "start_time": "2025-06-15T03:01:38.158396",
     "status": "completed"
    },
    "tags": []
   },
   "source": [
    "# **Data process**"
   ]
  },
  {
   "cell_type": "markdown",
   "id": "465ae00e",
   "metadata": {
    "papermill": {
     "duration": 0.00878,
     "end_time": "2025-06-15T03:01:38.188037",
     "exception": false,
     "start_time": "2025-06-15T03:01:38.179257",
     "status": "completed"
    },
    "tags": []
   },
   "source": [
    "## Đổi tên các cột concat()"
   ]
  },
  {
   "cell_type": "code",
   "execution_count": 1,
   "id": "62954d51",
   "metadata": {
    "execution": {
     "iopub.execute_input": "2025-06-15T03:01:38.206745Z",
     "iopub.status.busy": "2025-06-15T03:01:38.206380Z",
     "iopub.status.idle": "2025-06-15T03:01:42.941410Z",
     "shell.execute_reply": "2025-06-15T03:01:42.940329Z"
    },
    "papermill": {
     "duration": 4.746226,
     "end_time": "2025-06-15T03:01:42.942994",
     "exception": false,
     "start_time": "2025-06-15T03:01:38.196768",
     "status": "completed"
    },
    "tags": []
   },
   "outputs": [
    {
     "data": {
      "text/html": [
       "<div>\n",
       "<style scoped>\n",
       "    .dataframe tbody tr th:only-of-type {\n",
       "        vertical-align: middle;\n",
       "    }\n",
       "\n",
       "    .dataframe tbody tr th {\n",
       "        vertical-align: top;\n",
       "    }\n",
       "\n",
       "    .dataframe thead th {\n",
       "        text-align: right;\n",
       "    }\n",
       "</style>\n",
       "<table border=\"1\" class=\"dataframe\">\n",
       "  <thead>\n",
       "    <tr style=\"text-align: right;\">\n",
       "      <th></th>\n",
       "      <th>a_id</th>\n",
       "      <th>p_id</th>\n",
       "      <th>username</th>\n",
       "      <th>is_final</th>\n",
       "      <th>status</th>\n",
       "      <th>pre_score</th>\n",
       "      <th>coefficient</th>\n",
       "      <th>lang_id</th>\n",
       "      <th>created_at</th>\n",
       "      <th>updated_at</th>\n",
       "      <th>judgement</th>\n",
       "    </tr>\n",
       "  </thead>\n",
       "  <tbody>\n",
       "    <tr>\n",
       "      <th>0</th>\n",
       "      <td>90ce27571176d87961b565d5ef4b3de33ede04ac</td>\n",
       "      <td>789454427dd4097a14749e3dde63346b7a8d3811</td>\n",
       "      <td>ed9eaeb6a707f50154024b24d7efcb874a9795dd</td>\n",
       "      <td>0</td>\n",
       "      <td>SCORE</td>\n",
       "      <td>0</td>\n",
       "      <td>100</td>\n",
       "      <td>it0012</td>\n",
       "      <td>10-09 08:02:04</td>\n",
       "      <td>10-09 08:06:58</td>\n",
       "      <td>{\"times\":[0,0,0,0,0,0,0,0,0,0],\"mems\":[0,0,0,0...</td>\n",
       "    </tr>\n",
       "    <tr>\n",
       "      <th>1</th>\n",
       "      <td>90ce27571176d87961b565d5ef4b3de33ede04ac</td>\n",
       "      <td>789454427dd4097a14749e3dde63346b7a8d3811</td>\n",
       "      <td>ed9eaeb6a707f50154024b24d7efcb874a9795dd</td>\n",
       "      <td>0</td>\n",
       "      <td>SCORE</td>\n",
       "      <td>0</td>\n",
       "      <td>100</td>\n",
       "      <td>it0012</td>\n",
       "      <td>10-09 08:04:41</td>\n",
       "      <td>10-09 08:04:51</td>\n",
       "      <td>{\"times\":[0,0,0,0,0,0,0,0,0,0],\"mems\":[0,0,0,0...</td>\n",
       "    </tr>\n",
       "    <tr>\n",
       "      <th>2</th>\n",
       "      <td>90ce27571176d87961b565d5ef4b3de33ede04ac</td>\n",
       "      <td>789454427dd4097a14749e3dde63346b7a8d3811</td>\n",
       "      <td>ed9eaeb6a707f50154024b24d7efcb874a9795dd</td>\n",
       "      <td>1</td>\n",
       "      <td>SCORE</td>\n",
       "      <td>10000</td>\n",
       "      <td>100</td>\n",
       "      <td>it0012</td>\n",
       "      <td>10-09 08:06:49</td>\n",
       "      <td>10-09 08:06:58</td>\n",
       "      <td>{\"times\":[0,0,0,0,0,0,0,0,0,0],\"mems\":[0,0,0,0...</td>\n",
       "    </tr>\n",
       "    <tr>\n",
       "      <th>3</th>\n",
       "      <td>90ce27571176d87961b565d5ef4b3de33ede04ac</td>\n",
       "      <td>bf96fbdc5f499538c3e2bfbec5779c8a14b0a9ff</td>\n",
       "      <td>ed9eaeb6a707f50154024b24d7efcb874a9795dd</td>\n",
       "      <td>1</td>\n",
       "      <td>SCORE</td>\n",
       "      <td>10000</td>\n",
       "      <td>100</td>\n",
       "      <td>it0012</td>\n",
       "      <td>10-09 08:47:52</td>\n",
       "      <td>10-09 08:48:01</td>\n",
       "      <td>{\"times\":[0,0,0,0,0,0,0,0,0,0],\"mems\":[0,0,0,0...</td>\n",
       "    </tr>\n",
       "    <tr>\n",
       "      <th>4</th>\n",
       "      <td>90ce27571176d87961b565d5ef4b3de33ede04ac</td>\n",
       "      <td>7a6e5ca470ff47c3b5048f240c4738de71010c78</td>\n",
       "      <td>ed9eaeb6a707f50154024b24d7efcb874a9795dd</td>\n",
       "      <td>1</td>\n",
       "      <td>SCORE</td>\n",
       "      <td>10000</td>\n",
       "      <td>100</td>\n",
       "      <td>it0012</td>\n",
       "      <td>10-09 09:19:35</td>\n",
       "      <td>10-09 09:19:45</td>\n",
       "      <td>{\"times\":[0,0,0,0,0,0,0,0,0,0],\"mems\":[0,0,0,0...</td>\n",
       "    </tr>\n",
       "  </tbody>\n",
       "</table>\n",
       "</div>"
      ],
      "text/plain": [
       "                                       a_id  \\\n",
       "0  90ce27571176d87961b565d5ef4b3de33ede04ac   \n",
       "1  90ce27571176d87961b565d5ef4b3de33ede04ac   \n",
       "2  90ce27571176d87961b565d5ef4b3de33ede04ac   \n",
       "3  90ce27571176d87961b565d5ef4b3de33ede04ac   \n",
       "4  90ce27571176d87961b565d5ef4b3de33ede04ac   \n",
       "\n",
       "                                       p_id  \\\n",
       "0  789454427dd4097a14749e3dde63346b7a8d3811   \n",
       "1  789454427dd4097a14749e3dde63346b7a8d3811   \n",
       "2  789454427dd4097a14749e3dde63346b7a8d3811   \n",
       "3  bf96fbdc5f499538c3e2bfbec5779c8a14b0a9ff   \n",
       "4  7a6e5ca470ff47c3b5048f240c4738de71010c78   \n",
       "\n",
       "                                   username  is_final status  pre_score  \\\n",
       "0  ed9eaeb6a707f50154024b24d7efcb874a9795dd         0  SCORE          0   \n",
       "1  ed9eaeb6a707f50154024b24d7efcb874a9795dd         0  SCORE          0   \n",
       "2  ed9eaeb6a707f50154024b24d7efcb874a9795dd         1  SCORE      10000   \n",
       "3  ed9eaeb6a707f50154024b24d7efcb874a9795dd         1  SCORE      10000   \n",
       "4  ed9eaeb6a707f50154024b24d7efcb874a9795dd         1  SCORE      10000   \n",
       "\n",
       "   coefficient lang_id      created_at      updated_at  \\\n",
       "0          100  it0012  10-09 08:02:04  10-09 08:06:58   \n",
       "1          100  it0012  10-09 08:04:41  10-09 08:04:51   \n",
       "2          100  it0012  10-09 08:06:49  10-09 08:06:58   \n",
       "3          100  it0012  10-09 08:47:52  10-09 08:48:01   \n",
       "4          100  it0012  10-09 09:19:35  10-09 09:19:45   \n",
       "\n",
       "                                           judgement  \n",
       "0  {\"times\":[0,0,0,0,0,0,0,0,0,0],\"mems\":[0,0,0,0...  \n",
       "1  {\"times\":[0,0,0,0,0,0,0,0,0,0],\"mems\":[0,0,0,0...  \n",
       "2  {\"times\":[0,0,0,0,0,0,0,0,0,0],\"mems\":[0,0,0,0...  \n",
       "3  {\"times\":[0,0,0,0,0,0,0,0,0,0],\"mems\":[0,0,0,0...  \n",
       "4  {\"times\":[0,0,0,0,0,0,0,0,0,0],\"mems\":[0,0,0,0...  "
      ]
     },
     "execution_count": 1,
     "metadata": {},
     "output_type": "execute_result"
    }
   ],
   "source": [
    "import pandas as pd\n",
    "\n",
    "anno_df = pd.read_csv('/kaggle/input/project2-cs114-data/wecode.data/annonimized.csv')\n",
    "\n",
    "anno_df.rename(columns={\n",
    "    \"concat('it001',`assignment_id`)\": 'a_id',\n",
    "    \"concat('it001',`problem_id`)\": 'p_id',\n",
    "    \"concat('it001', username)\": 'username',\n",
    "    \"concat('it001',`language_id`)\": 'lang_id',\n",
    "}, inplace=True)\n",
    "\n",
    "anno_df.head()"
   ]
  },
  {
   "cell_type": "markdown",
   "id": "974d6815",
   "metadata": {
    "papermill": {
     "duration": 0.008816,
     "end_time": "2025-06-15T03:01:42.961044",
     "exception": false,
     "start_time": "2025-06-15T03:01:42.952228",
     "status": "completed"
    },
    "tags": []
   },
   "source": [
    "# **Trích xuất đặc trưng sinh viên**"
   ]
  },
  {
   "cell_type": "markdown",
   "id": "1b7b5e46",
   "metadata": {
    "papermill": {
     "duration": 0.008834,
     "end_time": "2025-06-15T03:01:42.979562",
     "exception": false,
     "start_time": "2025-06-15T03:01:42.970728",
     "status": "completed"
    },
    "tags": []
   },
   "source": [
    "## Đếm số lượng assignment đã tham gia"
   ]
  },
  {
   "cell_type": "code",
   "execution_count": 2,
   "id": "0e22d6b6",
   "metadata": {
    "execution": {
     "iopub.execute_input": "2025-06-15T03:01:42.998800Z",
     "iopub.status.busy": "2025-06-15T03:01:42.998483Z",
     "iopub.status.idle": "2025-06-15T03:01:43.085782Z",
     "shell.execute_reply": "2025-06-15T03:01:43.084873Z"
    },
    "papermill": {
     "duration": 0.099027,
     "end_time": "2025-06-15T03:01:43.087621",
     "exception": false,
     "start_time": "2025-06-15T03:01:42.988594",
     "status": "completed"
    },
    "tags": []
   },
   "outputs": [
    {
     "data": {
      "text/html": [
       "<div>\n",
       "<style scoped>\n",
       "    .dataframe tbody tr th:only-of-type {\n",
       "        vertical-align: middle;\n",
       "    }\n",
       "\n",
       "    .dataframe tbody tr th {\n",
       "        vertical-align: top;\n",
       "    }\n",
       "\n",
       "    .dataframe thead th {\n",
       "        text-align: right;\n",
       "    }\n",
       "</style>\n",
       "<table border=\"1\" class=\"dataframe\">\n",
       "  <thead>\n",
       "    <tr style=\"text-align: right;\">\n",
       "      <th></th>\n",
       "      <th>username</th>\n",
       "      <th>num_assignments</th>\n",
       "    </tr>\n",
       "  </thead>\n",
       "  <tbody>\n",
       "    <tr>\n",
       "      <th>0</th>\n",
       "      <td>00b6dd4fc7eb817e03708c532016ef30ce564a61</td>\n",
       "      <td>7</td>\n",
       "    </tr>\n",
       "    <tr>\n",
       "      <th>1</th>\n",
       "      <td>00bef8afee8f3c595d535c9c03c490cac1a4f021</td>\n",
       "      <td>9</td>\n",
       "    </tr>\n",
       "    <tr>\n",
       "      <th>2</th>\n",
       "      <td>01122b3ef7e59b84189e65985305f575d6bdf83c</td>\n",
       "      <td>7</td>\n",
       "    </tr>\n",
       "    <tr>\n",
       "      <th>3</th>\n",
       "      <td>0134f9f410c65ad0e8c2254a7e9288670e02a183</td>\n",
       "      <td>4</td>\n",
       "    </tr>\n",
       "    <tr>\n",
       "      <th>4</th>\n",
       "      <td>013de369c439ab0ead8aa7da64423aa395a8be39</td>\n",
       "      <td>8</td>\n",
       "    </tr>\n",
       "    <tr>\n",
       "      <th>...</th>\n",
       "      <td>...</td>\n",
       "      <td>...</td>\n",
       "    </tr>\n",
       "    <tr>\n",
       "      <th>1484</th>\n",
       "      <td>feb8a2859a011c59efd22ed419cb69288fe03627</td>\n",
       "      <td>9</td>\n",
       "    </tr>\n",
       "    <tr>\n",
       "      <th>1485</th>\n",
       "      <td>fef4a3263ed9a8ab14d457694bb8fd86ccd98312</td>\n",
       "      <td>6</td>\n",
       "    </tr>\n",
       "    <tr>\n",
       "      <th>1486</th>\n",
       "      <td>ff12d6e2ab80696ed8e22fbe5497e96c68d29076</td>\n",
       "      <td>6</td>\n",
       "    </tr>\n",
       "    <tr>\n",
       "      <th>1487</th>\n",
       "      <td>ff3fa2ec64294f37ae968159f810ebeda7966c51</td>\n",
       "      <td>7</td>\n",
       "    </tr>\n",
       "    <tr>\n",
       "      <th>1488</th>\n",
       "      <td>ffe872165621d735a48bb5db0c71dd5195cba359</td>\n",
       "      <td>10</td>\n",
       "    </tr>\n",
       "  </tbody>\n",
       "</table>\n",
       "<p>1489 rows × 2 columns</p>\n",
       "</div>"
      ],
      "text/plain": [
       "                                      username  num_assignments\n",
       "0     00b6dd4fc7eb817e03708c532016ef30ce564a61                7\n",
       "1     00bef8afee8f3c595d535c9c03c490cac1a4f021                9\n",
       "2     01122b3ef7e59b84189e65985305f575d6bdf83c                7\n",
       "3     0134f9f410c65ad0e8c2254a7e9288670e02a183                4\n",
       "4     013de369c439ab0ead8aa7da64423aa395a8be39                8\n",
       "...                                        ...              ...\n",
       "1484  feb8a2859a011c59efd22ed419cb69288fe03627                9\n",
       "1485  fef4a3263ed9a8ab14d457694bb8fd86ccd98312                6\n",
       "1486  ff12d6e2ab80696ed8e22fbe5497e96c68d29076                6\n",
       "1487  ff3fa2ec64294f37ae968159f810ebeda7966c51                7\n",
       "1488  ffe872165621d735a48bb5db0c71dd5195cba359               10\n",
       "\n",
       "[1489 rows x 2 columns]"
      ]
     },
     "execution_count": 2,
     "metadata": {},
     "output_type": "execute_result"
    }
   ],
   "source": [
    "num_assignments = (\n",
    "    anno_df[['username', 'a_id']]\n",
    "    .drop_duplicates()\n",
    "    .groupby('username')\n",
    "    .size()\n",
    "    .reset_index(name='num_assignments')\n",
    ")\n",
    "\n",
    "num_assignments"
   ]
  },
  {
   "cell_type": "markdown",
   "id": "d26cf58b",
   "metadata": {
    "papermill": {
     "duration": 0.009686,
     "end_time": "2025-06-15T03:01:43.107552",
     "exception": false,
     "start_time": "2025-06-15T03:01:43.097866",
     "status": "completed"
    },
    "tags": []
   },
   "source": [
    "## Đếm số lượng cột Status là SCORE và Error"
   ]
  },
  {
   "cell_type": "code",
   "execution_count": null,
   "id": "a846e7a7",
   "metadata": {
    "execution": {
     "iopub.execute_input": "2025-06-15T03:01:43.128223Z",
     "iopub.status.busy": "2025-06-15T03:01:43.127850Z",
     "iopub.status.idle": "2025-06-15T03:01:43.215633Z",
     "shell.execute_reply": "2025-06-15T03:01:43.214590Z"
    },
    "papermill": {
     "duration": 0.100202,
     "end_time": "2025-06-15T03:01:43.217600",
     "exception": false,
     "start_time": "2025-06-15T03:01:43.117398",
     "status": "completed"
    },
    "tags": []
   },
   "outputs": [
    {
     "name": "stdout",
     "output_type": "stream",
     "text": [
      "<class 'pandas.core.frame.DataFrame'>\n",
      "RangeIndex: 1475 entries, 0 to 1474\n",
      "Data columns (total 2 columns):\n",
      " #   Column       Non-Null Count  Dtype \n",
      "---  ------       --------------  ----- \n",
      " 0   username     1475 non-null   object\n",
      " 1   score_count  1475 non-null   int64 \n",
      "dtypes: int64(1), object(1)\n",
      "memory usage: 23.2+ KB\n"
     ]
    }
   ],
   "source": [
    "filtered_df = anno_df[anno_df['status'] == 'SCORE']\n",
    "\n",
    "num_score = filtered_df.groupby('username').size().reset_index(name='score_count')\n",
    "\n",
    "num_score.info()"
   ]
  },
  {
   "cell_type": "code",
   "execution_count": null,
   "id": "e0a2c306",
   "metadata": {
    "execution": {
     "iopub.execute_input": "2025-06-15T03:01:43.238333Z",
     "iopub.status.busy": "2025-06-15T03:01:43.237931Z",
     "iopub.status.idle": "2025-06-15T03:01:43.324684Z",
     "shell.execute_reply": "2025-06-15T03:01:43.323443Z"
    },
    "papermill": {
     "duration": 0.099124,
     "end_time": "2025-06-15T03:01:43.326301",
     "exception": false,
     "start_time": "2025-06-15T03:01:43.227177",
     "status": "completed"
    },
    "tags": []
   },
   "outputs": [
    {
     "name": "stdout",
     "output_type": "stream",
     "text": [
      "<class 'pandas.core.frame.DataFrame'>\n",
      "RangeIndex: 1428 entries, 0 to 1427\n",
      "Data columns (total 2 columns):\n",
      " #   Column                   Non-Null Count  Dtype \n",
      "---  ------                   --------------  ----- \n",
      " 0   username                 1428 non-null   object\n",
      " 1   compilation_error_count  1428 non-null   int64 \n",
      "dtypes: int64(1), object(1)\n",
      "memory usage: 22.4+ KB\n"
     ]
    }
   ],
   "source": [
    "filtered_df = anno_df[(anno_df['status'] == 'Compilation Error') | (anno_df['status'] == 'Syntax Error')]\n",
    "\n",
    "num_error = filtered_df.groupby('username').size().reset_index(name='compilation_error_count')\n",
    "\n",
    "num_error.info()"
   ]
  },
  {
   "cell_type": "markdown",
   "id": "d8e895a4",
   "metadata": {
    "papermill": {
     "duration": 0.011591,
     "end_time": "2025-06-15T03:01:43.348060",
     "exception": false,
     "start_time": "2025-06-15T03:01:43.336469",
     "status": "completed"
    },
    "tags": []
   },
   "source": [
    "## Số lần submit ứng với user"
   ]
  },
  {
   "cell_type": "code",
   "execution_count": 5,
   "id": "a1b3f5e1",
   "metadata": {
    "execution": {
     "iopub.execute_input": "2025-06-15T03:01:43.368177Z",
     "iopub.status.busy": "2025-06-15T03:01:43.367860Z",
     "iopub.status.idle": "2025-06-15T03:01:43.399208Z",
     "shell.execute_reply": "2025-06-15T03:01:43.398072Z"
    },
    "papermill": {
     "duration": 0.043419,
     "end_time": "2025-06-15T03:01:43.401024",
     "exception": false,
     "start_time": "2025-06-15T03:01:43.357605",
     "status": "completed"
    },
    "tags": []
   },
   "outputs": [
    {
     "name": "stdout",
     "output_type": "stream",
     "text": [
      "<class 'pandas.core.frame.DataFrame'>\n",
      "RangeIndex: 1489 entries, 0 to 1488\n",
      "Data columns (total 2 columns):\n",
      " #   Column      Non-Null Count  Dtype \n",
      "---  ------      --------------  ----- \n",
      " 0   username    1489 non-null   object\n",
      " 1   num_submit  1489 non-null   int64 \n",
      "dtypes: int64(1), object(1)\n",
      "memory usage: 23.4+ KB\n"
     ]
    }
   ],
   "source": [
    "num_submit= anno_df['username'].value_counts()\n",
    "num_submit_df = num_submit.reset_index()\n",
    "num_submit_df.columns = ['username', 'num_submit']\n",
    "\n",
    "num_submit_df.info()"
   ]
  },
  {
   "cell_type": "markdown",
   "id": "ca506885",
   "metadata": {
    "papermill": {
     "duration": 0.009664,
     "end_time": "2025-06-15T03:01:43.420927",
     "exception": false,
     "start_time": "2025-06-15T03:01:43.411263",
     "status": "completed"
    },
    "tags": []
   },
   "source": [
    "## Số problem hoàn thành"
   ]
  },
  {
   "cell_type": "code",
   "execution_count": 6,
   "id": "86c5924d",
   "metadata": {
    "execution": {
     "iopub.execute_input": "2025-06-15T03:01:43.441250Z",
     "iopub.status.busy": "2025-06-15T03:01:43.440911Z",
     "iopub.status.idle": "2025-06-15T03:01:43.510742Z",
     "shell.execute_reply": "2025-06-15T03:01:43.509559Z"
    },
    "papermill": {
     "duration": 0.081854,
     "end_time": "2025-06-15T03:01:43.512420",
     "exception": false,
     "start_time": "2025-06-15T03:01:43.430566",
     "status": "completed"
    },
    "tags": []
   },
   "outputs": [
    {
     "data": {
      "text/html": [
       "<div>\n",
       "<style scoped>\n",
       "    .dataframe tbody tr th:only-of-type {\n",
       "        vertical-align: middle;\n",
       "    }\n",
       "\n",
       "    .dataframe tbody tr th {\n",
       "        vertical-align: top;\n",
       "    }\n",
       "\n",
       "    .dataframe thead th {\n",
       "        text-align: right;\n",
       "    }\n",
       "</style>\n",
       "<table border=\"1\" class=\"dataframe\">\n",
       "  <thead>\n",
       "    <tr style=\"text-align: right;\">\n",
       "      <th></th>\n",
       "      <th>username</th>\n",
       "      <th>num_completed_problems</th>\n",
       "    </tr>\n",
       "  </thead>\n",
       "  <tbody>\n",
       "    <tr>\n",
       "      <th>0</th>\n",
       "      <td>00b6dd4fc7eb817e03708c532016ef30ce564a61</td>\n",
       "      <td>46</td>\n",
       "    </tr>\n",
       "    <tr>\n",
       "      <th>1</th>\n",
       "      <td>00bef8afee8f3c595d535c9c03c490cac1a4f021</td>\n",
       "      <td>72</td>\n",
       "    </tr>\n",
       "    <tr>\n",
       "      <th>2</th>\n",
       "      <td>01122b3ef7e59b84189e65985305f575d6bdf83c</td>\n",
       "      <td>58</td>\n",
       "    </tr>\n",
       "    <tr>\n",
       "      <th>3</th>\n",
       "      <td>0134f9f410c65ad0e8c2254a7e9288670e02a183</td>\n",
       "      <td>47</td>\n",
       "    </tr>\n",
       "    <tr>\n",
       "      <th>4</th>\n",
       "      <td>013de369c439ab0ead8aa7da64423aa395a8be39</td>\n",
       "      <td>44</td>\n",
       "    </tr>\n",
       "    <tr>\n",
       "      <th>...</th>\n",
       "      <td>...</td>\n",
       "      <td>...</td>\n",
       "    </tr>\n",
       "    <tr>\n",
       "      <th>1444</th>\n",
       "      <td>feb8a2859a011c59efd22ed419cb69288fe03627</td>\n",
       "      <td>34</td>\n",
       "    </tr>\n",
       "    <tr>\n",
       "      <th>1445</th>\n",
       "      <td>fef4a3263ed9a8ab14d457694bb8fd86ccd98312</td>\n",
       "      <td>74</td>\n",
       "    </tr>\n",
       "    <tr>\n",
       "      <th>1446</th>\n",
       "      <td>ff12d6e2ab80696ed8e22fbe5497e96c68d29076</td>\n",
       "      <td>99</td>\n",
       "    </tr>\n",
       "    <tr>\n",
       "      <th>1447</th>\n",
       "      <td>ff3fa2ec64294f37ae968159f810ebeda7966c51</td>\n",
       "      <td>30</td>\n",
       "    </tr>\n",
       "    <tr>\n",
       "      <th>1448</th>\n",
       "      <td>ffe872165621d735a48bb5db0c71dd5195cba359</td>\n",
       "      <td>96</td>\n",
       "    </tr>\n",
       "  </tbody>\n",
       "</table>\n",
       "<p>1449 rows × 2 columns</p>\n",
       "</div>"
      ],
      "text/plain": [
       "                                      username  num_completed_problems\n",
       "0     00b6dd4fc7eb817e03708c532016ef30ce564a61                      46\n",
       "1     00bef8afee8f3c595d535c9c03c490cac1a4f021                      72\n",
       "2     01122b3ef7e59b84189e65985305f575d6bdf83c                      58\n",
       "3     0134f9f410c65ad0e8c2254a7e9288670e02a183                      47\n",
       "4     013de369c439ab0ead8aa7da64423aa395a8be39                      44\n",
       "...                                        ...                     ...\n",
       "1444  feb8a2859a011c59efd22ed419cb69288fe03627                      34\n",
       "1445  fef4a3263ed9a8ab14d457694bb8fd86ccd98312                      74\n",
       "1446  ff12d6e2ab80696ed8e22fbe5497e96c68d29076                      99\n",
       "1447  ff3fa2ec64294f37ae968159f810ebeda7966c51                      30\n",
       "1448  ffe872165621d735a48bb5db0c71dd5195cba359                      96\n",
       "\n",
       "[1449 rows x 2 columns]"
      ]
     },
     "execution_count": 6,
     "metadata": {},
     "output_type": "execute_result"
    }
   ],
   "source": [
    "# num_completed_problems = anno_df[anno_df['is_final'] == 1].groupby('username')['p_id'].nunique().reset_index(name='num_completed_problems')\n",
    "\n",
    "# num_completed_problems\n",
    "\n",
    "num_completed_problems = (\n",
    "    anno_df[anno_df['pre_score'] == 10000]\n",
    "    .drop_duplicates(subset=['username', 'p_id'])\n",
    "    .groupby('username')\n",
    "    .size()\n",
    "    .reset_index(name='num_completed_problems')\n",
    ")\n",
    "\n",
    "num_completed_problems"
   ]
  },
  {
   "cell_type": "markdown",
   "id": "e42ef224",
   "metadata": {
    "papermill": {
     "duration": 0.009506,
     "end_time": "2025-06-15T03:01:43.532152",
     "exception": false,
     "start_time": "2025-06-15T03:01:43.522646",
     "status": "completed"
    },
    "tags": []
   },
   "source": [
    "## Số problem hoàn thành trễ"
   ]
  },
  {
   "cell_type": "code",
   "execution_count": 7,
   "id": "51283b5f",
   "metadata": {
    "execution": {
     "iopub.execute_input": "2025-06-15T03:01:43.553280Z",
     "iopub.status.busy": "2025-06-15T03:01:43.552890Z",
     "iopub.status.idle": "2025-06-15T03:01:43.567929Z",
     "shell.execute_reply": "2025-06-15T03:01:43.566888Z"
    },
    "papermill": {
     "duration": 0.027268,
     "end_time": "2025-06-15T03:01:43.569475",
     "exception": false,
     "start_time": "2025-06-15T03:01:43.542207",
     "status": "completed"
    },
    "tags": []
   },
   "outputs": [
    {
     "data": {
      "text/html": [
       "<div>\n",
       "<style scoped>\n",
       "    .dataframe tbody tr th:only-of-type {\n",
       "        vertical-align: middle;\n",
       "    }\n",
       "\n",
       "    .dataframe tbody tr th {\n",
       "        vertical-align: top;\n",
       "    }\n",
       "\n",
       "    .dataframe thead th {\n",
       "        text-align: right;\n",
       "    }\n",
       "</style>\n",
       "<table border=\"1\" class=\"dataframe\">\n",
       "  <thead>\n",
       "    <tr style=\"text-align: right;\">\n",
       "      <th></th>\n",
       "      <th>username</th>\n",
       "      <th>num_late_submit</th>\n",
       "    </tr>\n",
       "  </thead>\n",
       "  <tbody>\n",
       "    <tr>\n",
       "      <th>0</th>\n",
       "      <td>0155f91fe242fe55e1af631b0f0afbe9938b185c</td>\n",
       "      <td>1</td>\n",
       "    </tr>\n",
       "    <tr>\n",
       "      <th>1</th>\n",
       "      <td>052039d5c5915699359b1d549b36ea69330c0ac3</td>\n",
       "      <td>1</td>\n",
       "    </tr>\n",
       "    <tr>\n",
       "      <th>2</th>\n",
       "      <td>05b134c1a682085880fb7ce76d221a48955e5b8a</td>\n",
       "      <td>2</td>\n",
       "    </tr>\n",
       "    <tr>\n",
       "      <th>3</th>\n",
       "      <td>0a9b6ec3e82e8a2527b21eb3420a6d9b72f4f71e</td>\n",
       "      <td>9</td>\n",
       "    </tr>\n",
       "    <tr>\n",
       "      <th>4</th>\n",
       "      <td>0aad9682c3c4280eb05dbd27e6cab55f4b1ae4b4</td>\n",
       "      <td>1</td>\n",
       "    </tr>\n",
       "    <tr>\n",
       "      <th>...</th>\n",
       "      <td>...</td>\n",
       "      <td>...</td>\n",
       "    </tr>\n",
       "    <tr>\n",
       "      <th>91</th>\n",
       "      <td>f7875ec1207504a229cd9b5ca132437c6bdd6a4d</td>\n",
       "      <td>2</td>\n",
       "    </tr>\n",
       "    <tr>\n",
       "      <th>92</th>\n",
       "      <td>f86b9fba1d59be7c864d4f23d0c7674113a27cab</td>\n",
       "      <td>2</td>\n",
       "    </tr>\n",
       "    <tr>\n",
       "      <th>93</th>\n",
       "      <td>f9491b0ab4aee90c428545e0e315a3af1f827595</td>\n",
       "      <td>2</td>\n",
       "    </tr>\n",
       "    <tr>\n",
       "      <th>94</th>\n",
       "      <td>f9f4d4ef2a3de006bd037db9eb160ab8e51c79f2</td>\n",
       "      <td>9</td>\n",
       "    </tr>\n",
       "    <tr>\n",
       "      <th>95</th>\n",
       "      <td>fcd6e54df612c033e7a465155046b5223ca4eee3</td>\n",
       "      <td>3</td>\n",
       "    </tr>\n",
       "  </tbody>\n",
       "</table>\n",
       "<p>96 rows × 2 columns</p>\n",
       "</div>"
      ],
      "text/plain": [
       "                                    username  num_late_submit\n",
       "0   0155f91fe242fe55e1af631b0f0afbe9938b185c                1\n",
       "1   052039d5c5915699359b1d549b36ea69330c0ac3                1\n",
       "2   05b134c1a682085880fb7ce76d221a48955e5b8a                2\n",
       "3   0a9b6ec3e82e8a2527b21eb3420a6d9b72f4f71e                9\n",
       "4   0aad9682c3c4280eb05dbd27e6cab55f4b1ae4b4                1\n",
       "..                                       ...              ...\n",
       "91  f7875ec1207504a229cd9b5ca132437c6bdd6a4d                2\n",
       "92  f86b9fba1d59be7c864d4f23d0c7674113a27cab                2\n",
       "93  f9491b0ab4aee90c428545e0e315a3af1f827595                2\n",
       "94  f9f4d4ef2a3de006bd037db9eb160ab8e51c79f2                9\n",
       "95  fcd6e54df612c033e7a465155046b5223ca4eee3                3\n",
       "\n",
       "[96 rows x 2 columns]"
      ]
     },
     "execution_count": 7,
     "metadata": {},
     "output_type": "execute_result"
    }
   ],
   "source": [
    "num_late_submit = (\n",
    "    anno_df[(anno_df['coefficient'] < 100) & (anno_df['pre_score'] == 10000)]\n",
    "    .drop_duplicates(subset=['username', 'p_id'])\n",
    "    .groupby('username')\n",
    "    .size()\n",
    "    .reset_index(name='num_late_submit')\n",
    ")\n",
    "\n",
    "num_late_submit"
   ]
  },
  {
   "cell_type": "markdown",
   "id": "a0eec608",
   "metadata": {
    "papermill": {
     "duration": 0.010517,
     "end_time": "2025-06-15T03:01:43.590119",
     "exception": false,
     "start_time": "2025-06-15T03:01:43.579602",
     "status": "completed"
    },
    "tags": []
   },
   "source": [
    "## Trung bình pre_score và coefficient"
   ]
  },
  {
   "cell_type": "code",
   "execution_count": 8,
   "id": "ae220b91",
   "metadata": {
    "execution": {
     "iopub.execute_input": "2025-06-15T03:01:43.675603Z",
     "iopub.status.busy": "2025-06-15T03:01:43.675270Z",
     "iopub.status.idle": "2025-06-15T03:01:43.726010Z",
     "shell.execute_reply": "2025-06-15T03:01:43.724802Z"
    },
    "papermill": {
     "duration": 0.127857,
     "end_time": "2025-06-15T03:01:43.727801",
     "exception": false,
     "start_time": "2025-06-15T03:01:43.599944",
     "status": "completed"
    },
    "tags": []
   },
   "outputs": [
    {
     "data": {
      "text/html": [
       "<div>\n",
       "<style scoped>\n",
       "    .dataframe tbody tr th:only-of-type {\n",
       "        vertical-align: middle;\n",
       "    }\n",
       "\n",
       "    .dataframe tbody tr th {\n",
       "        vertical-align: top;\n",
       "    }\n",
       "\n",
       "    .dataframe thead th {\n",
       "        text-align: right;\n",
       "    }\n",
       "</style>\n",
       "<table border=\"1\" class=\"dataframe\">\n",
       "  <thead>\n",
       "    <tr style=\"text-align: right;\">\n",
       "      <th></th>\n",
       "      <th>username</th>\n",
       "      <th>pre_score</th>\n",
       "      <th>coefficient</th>\n",
       "    </tr>\n",
       "  </thead>\n",
       "  <tbody>\n",
       "    <tr>\n",
       "      <th>0</th>\n",
       "      <td>00b6dd4fc7eb817e03708c532016ef30ce564a61</td>\n",
       "      <td>5504.149660</td>\n",
       "      <td>100.000000</td>\n",
       "    </tr>\n",
       "    <tr>\n",
       "      <th>1</th>\n",
       "      <td>00bef8afee8f3c595d535c9c03c490cac1a4f021</td>\n",
       "      <td>5488.552124</td>\n",
       "      <td>100.000000</td>\n",
       "    </tr>\n",
       "    <tr>\n",
       "      <th>2</th>\n",
       "      <td>01122b3ef7e59b84189e65985305f575d6bdf83c</td>\n",
       "      <td>5973.753846</td>\n",
       "      <td>100.000000</td>\n",
       "    </tr>\n",
       "    <tr>\n",
       "      <th>3</th>\n",
       "      <td>0134f9f410c65ad0e8c2254a7e9288670e02a183</td>\n",
       "      <td>5952.760000</td>\n",
       "      <td>100.000000</td>\n",
       "    </tr>\n",
       "    <tr>\n",
       "      <th>4</th>\n",
       "      <td>013de369c439ab0ead8aa7da64423aa395a8be39</td>\n",
       "      <td>6474.448598</td>\n",
       "      <td>97.196262</td>\n",
       "    </tr>\n",
       "    <tr>\n",
       "      <th>...</th>\n",
       "      <td>...</td>\n",
       "      <td>...</td>\n",
       "      <td>...</td>\n",
       "    </tr>\n",
       "    <tr>\n",
       "      <th>1484</th>\n",
       "      <td>feb8a2859a011c59efd22ed419cb69288fe03627</td>\n",
       "      <td>5581.081081</td>\n",
       "      <td>100.000000</td>\n",
       "    </tr>\n",
       "    <tr>\n",
       "      <th>1485</th>\n",
       "      <td>fef4a3263ed9a8ab14d457694bb8fd86ccd98312</td>\n",
       "      <td>6204.557692</td>\n",
       "      <td>100.000000</td>\n",
       "    </tr>\n",
       "    <tr>\n",
       "      <th>1486</th>\n",
       "      <td>ff12d6e2ab80696ed8e22fbe5497e96c68d29076</td>\n",
       "      <td>4998.466819</td>\n",
       "      <td>100.000000</td>\n",
       "    </tr>\n",
       "    <tr>\n",
       "      <th>1487</th>\n",
       "      <td>ff3fa2ec64294f37ae968159f810ebeda7966c51</td>\n",
       "      <td>4343.329787</td>\n",
       "      <td>100.000000</td>\n",
       "    </tr>\n",
       "    <tr>\n",
       "      <th>1488</th>\n",
       "      <td>ffe872165621d735a48bb5db0c71dd5195cba359</td>\n",
       "      <td>6353.769424</td>\n",
       "      <td>100.000000</td>\n",
       "    </tr>\n",
       "  </tbody>\n",
       "</table>\n",
       "<p>1489 rows × 3 columns</p>\n",
       "</div>"
      ],
      "text/plain": [
       "                                      username    pre_score  coefficient\n",
       "0     00b6dd4fc7eb817e03708c532016ef30ce564a61  5504.149660   100.000000\n",
       "1     00bef8afee8f3c595d535c9c03c490cac1a4f021  5488.552124   100.000000\n",
       "2     01122b3ef7e59b84189e65985305f575d6bdf83c  5973.753846   100.000000\n",
       "3     0134f9f410c65ad0e8c2254a7e9288670e02a183  5952.760000   100.000000\n",
       "4     013de369c439ab0ead8aa7da64423aa395a8be39  6474.448598    97.196262\n",
       "...                                        ...          ...          ...\n",
       "1484  feb8a2859a011c59efd22ed419cb69288fe03627  5581.081081   100.000000\n",
       "1485  fef4a3263ed9a8ab14d457694bb8fd86ccd98312  6204.557692   100.000000\n",
       "1486  ff12d6e2ab80696ed8e22fbe5497e96c68d29076  4998.466819   100.000000\n",
       "1487  ff3fa2ec64294f37ae968159f810ebeda7966c51  4343.329787   100.000000\n",
       "1488  ffe872165621d735a48bb5db0c71dd5195cba359  6353.769424   100.000000\n",
       "\n",
       "[1489 rows x 3 columns]"
      ]
     },
     "execution_count": 8,
     "metadata": {},
     "output_type": "execute_result"
    }
   ],
   "source": [
    "mean_scores = anno_df.groupby('username')[['pre_score', 'coefficient']].mean().reset_index()\n",
    "mean_scores"
   ]
  },
  {
   "cell_type": "markdown",
   "id": "3194fce2",
   "metadata": {
    "papermill": {
     "duration": 0.009849,
     "end_time": "2025-06-15T03:01:43.748652",
     "exception": false,
     "start_time": "2025-06-15T03:01:43.738803",
     "status": "completed"
    },
    "tags": []
   },
   "source": [
    "## Số bài khó hoàn thành"
   ]
  },
  {
   "cell_type": "code",
   "execution_count": 9,
   "id": "c225cbb9",
   "metadata": {
    "execution": {
     "iopub.execute_input": "2025-06-15T03:01:43.771159Z",
     "iopub.status.busy": "2025-06-15T03:01:43.770299Z",
     "iopub.status.idle": "2025-06-15T03:01:43.948561Z",
     "shell.execute_reply": "2025-06-15T03:01:43.947405Z"
    },
    "papermill": {
     "duration": 0.191789,
     "end_time": "2025-06-15T03:01:43.951042",
     "exception": false,
     "start_time": "2025-06-15T03:01:43.759253",
     "status": "completed"
    },
    "tags": []
   },
   "outputs": [],
   "source": [
    "completed = (\n",
    "    anno_df[anno_df['pre_score'] == 10000]\n",
    "    .drop_duplicates(subset=['username', 'a_id', 'p_id'])\n",
    ")\n",
    "\n",
    "total_users_per_aid = (\n",
    "    anno_df[['username', 'a_id']]\n",
    "    .drop_duplicates()\n",
    "    .groupby('a_id')\n",
    "    .size()\n",
    "    .reset_index(name='total_users')\n",
    ")\n",
    "\n",
    "num_completed_per_problem = (\n",
    "    completed.groupby(['a_id', 'p_id'])['username']\n",
    "    .nunique()\n",
    "    .reset_index(name='num_users_completed')\n",
    ")\n",
    "\n",
    "completion_rate_df = num_completed_per_problem.merge(total_users_per_aid, on='a_id')\n",
    "completion_rate_df['completion_rate'] = completion_rate_df['num_users_completed'] / completion_rate_df['total_users']"
   ]
  },
  {
   "cell_type": "code",
   "execution_count": null,
   "id": "e20c1901",
   "metadata": {
    "execution": {
     "iopub.execute_input": "2025-06-15T03:01:43.975870Z",
     "iopub.status.busy": "2025-06-15T03:01:43.975552Z",
     "iopub.status.idle": "2025-06-15T03:01:44.059015Z",
     "shell.execute_reply": "2025-06-15T03:01:44.057814Z"
    },
    "papermill": {
     "duration": 0.097103,
     "end_time": "2025-06-15T03:01:44.060842",
     "exception": false,
     "start_time": "2025-06-15T03:01:43.963739",
     "status": "completed"
    },
    "tags": []
   },
   "outputs": [
    {
     "data": {
      "text/html": [
       "<div>\n",
       "<style scoped>\n",
       "    .dataframe tbody tr th:only-of-type {\n",
       "        vertical-align: middle;\n",
       "    }\n",
       "\n",
       "    .dataframe tbody tr th {\n",
       "        vertical-align: top;\n",
       "    }\n",
       "\n",
       "    .dataframe thead th {\n",
       "        text-align: right;\n",
       "    }\n",
       "</style>\n",
       "<table border=\"1\" class=\"dataframe\">\n",
       "  <thead>\n",
       "    <tr style=\"text-align: right;\">\n",
       "      <th>difficulty</th>\n",
       "      <th>username</th>\n",
       "      <th>easy</th>\n",
       "      <th>ex_hard</th>\n",
       "      <th>hard</th>\n",
       "      <th>medium</th>\n",
       "    </tr>\n",
       "  </thead>\n",
       "  <tbody>\n",
       "    <tr>\n",
       "      <th>0</th>\n",
       "      <td>00b6dd4fc7eb817e03708c532016ef30ce564a61</td>\n",
       "      <td>38</td>\n",
       "      <td>0</td>\n",
       "      <td>0</td>\n",
       "      <td>9</td>\n",
       "    </tr>\n",
       "    <tr>\n",
       "      <th>1</th>\n",
       "      <td>00bef8afee8f3c595d535c9c03c490cac1a4f021</td>\n",
       "      <td>68</td>\n",
       "      <td>0</td>\n",
       "      <td>0</td>\n",
       "      <td>4</td>\n",
       "    </tr>\n",
       "    <tr>\n",
       "      <th>2</th>\n",
       "      <td>01122b3ef7e59b84189e65985305f575d6bdf83c</td>\n",
       "      <td>42</td>\n",
       "      <td>13</td>\n",
       "      <td>1</td>\n",
       "      <td>3</td>\n",
       "    </tr>\n",
       "    <tr>\n",
       "      <th>3</th>\n",
       "      <td>0134f9f410c65ad0e8c2254a7e9288670e02a183</td>\n",
       "      <td>40</td>\n",
       "      <td>0</td>\n",
       "      <td>0</td>\n",
       "      <td>7</td>\n",
       "    </tr>\n",
       "    <tr>\n",
       "      <th>4</th>\n",
       "      <td>013de369c439ab0ead8aa7da64423aa395a8be39</td>\n",
       "      <td>52</td>\n",
       "      <td>0</td>\n",
       "      <td>0</td>\n",
       "      <td>6</td>\n",
       "    </tr>\n",
       "    <tr>\n",
       "      <th>...</th>\n",
       "      <td>...</td>\n",
       "      <td>...</td>\n",
       "      <td>...</td>\n",
       "      <td>...</td>\n",
       "      <td>...</td>\n",
       "    </tr>\n",
       "    <tr>\n",
       "      <th>1444</th>\n",
       "      <td>feb8a2859a011c59efd22ed419cb69288fe03627</td>\n",
       "      <td>32</td>\n",
       "      <td>0</td>\n",
       "      <td>0</td>\n",
       "      <td>2</td>\n",
       "    </tr>\n",
       "    <tr>\n",
       "      <th>1445</th>\n",
       "      <td>fef4a3263ed9a8ab14d457694bb8fd86ccd98312</td>\n",
       "      <td>70</td>\n",
       "      <td>5</td>\n",
       "      <td>0</td>\n",
       "      <td>0</td>\n",
       "    </tr>\n",
       "    <tr>\n",
       "      <th>1446</th>\n",
       "      <td>ff12d6e2ab80696ed8e22fbe5497e96c68d29076</td>\n",
       "      <td>102</td>\n",
       "      <td>0</td>\n",
       "      <td>0</td>\n",
       "      <td>0</td>\n",
       "    </tr>\n",
       "    <tr>\n",
       "      <th>1447</th>\n",
       "      <td>ff3fa2ec64294f37ae968159f810ebeda7966c51</td>\n",
       "      <td>27</td>\n",
       "      <td>1</td>\n",
       "      <td>0</td>\n",
       "      <td>2</td>\n",
       "    </tr>\n",
       "    <tr>\n",
       "      <th>1448</th>\n",
       "      <td>ffe872165621d735a48bb5db0c71dd5195cba359</td>\n",
       "      <td>93</td>\n",
       "      <td>0</td>\n",
       "      <td>0</td>\n",
       "      <td>3</td>\n",
       "    </tr>\n",
       "  </tbody>\n",
       "</table>\n",
       "<p>1449 rows × 5 columns</p>\n",
       "</div>"
      ],
      "text/plain": [
       "difficulty                                  username  easy  ex_hard  hard  \\\n",
       "0           00b6dd4fc7eb817e03708c532016ef30ce564a61    38        0     0   \n",
       "1           00bef8afee8f3c595d535c9c03c490cac1a4f021    68        0     0   \n",
       "2           01122b3ef7e59b84189e65985305f575d6bdf83c    42       13     1   \n",
       "3           0134f9f410c65ad0e8c2254a7e9288670e02a183    40        0     0   \n",
       "4           013de369c439ab0ead8aa7da64423aa395a8be39    52        0     0   \n",
       "...                                              ...   ...      ...   ...   \n",
       "1444        feb8a2859a011c59efd22ed419cb69288fe03627    32        0     0   \n",
       "1445        fef4a3263ed9a8ab14d457694bb8fd86ccd98312    70        5     0   \n",
       "1446        ff12d6e2ab80696ed8e22fbe5497e96c68d29076   102        0     0   \n",
       "1447        ff3fa2ec64294f37ae968159f810ebeda7966c51    27        1     0   \n",
       "1448        ffe872165621d735a48bb5db0c71dd5195cba359    93        0     0   \n",
       "\n",
       "difficulty  medium  \n",
       "0                9  \n",
       "1                4  \n",
       "2                3  \n",
       "3                7  \n",
       "4                6  \n",
       "...            ...  \n",
       "1444             2  \n",
       "1445             0  \n",
       "1446             0  \n",
       "1447             2  \n",
       "1448             3  \n",
       "\n",
       "[1449 rows x 5 columns]"
      ]
     },
     "execution_count": 10,
     "metadata": {},
     "output_type": "execute_result"
    }
   ],
   "source": [
    "def classify_difficulty(rate):\n",
    "    if rate >= 0.7:\n",
    "        return 'easy'\n",
    "    elif rate >= 0.4:\n",
    "        return 'medium'\n",
    "    elif rate >= 0.2:\n",
    "        return 'hard'\n",
    "    else:\n",
    "        return 'ex_hard'\n",
    "\n",
    "completion_rate_df['difficulty'] = completion_rate_df['completion_rate'].apply(classify_difficulty)\n",
    "\n",
    "completed_with_difficulty = completed.merge(\n",
    "    completion_rate_df[['a_id', 'p_id', 'difficulty']],\n",
    "    on=['a_id', 'p_id'],\n",
    "    how='left'\n",
    ")\n",
    "\n",
    "num_submit_dif = (\n",
    "    completed_with_difficulty\n",
    "    .groupby(['username', 'difficulty'])\n",
    "    .size()\n",
    "    .unstack(fill_value=0)\n",
    "    .reset_index()\n",
    ")\n",
    "\n",
    "for col in ['easy', 'medium', 'hard', 'ex_hard']:\n",
    "    if col not in num_submit_dif.columns:\n",
    "        num_submit_dif[col] = 0\n",
    "\n",
    "num_submit_dif"
   ]
  },
  {
   "cell_type": "markdown",
   "id": "4d28d7e9",
   "metadata": {
    "papermill": {
     "duration": 0.010711,
     "end_time": "2025-06-15T03:01:44.082798",
     "exception": false,
     "start_time": "2025-06-15T03:01:44.072087",
     "status": "completed"
    },
    "tags": []
   },
   "source": [
    "## Số lần submit cho mỗi problem"
   ]
  },
  {
   "cell_type": "code",
   "execution_count": null,
   "id": "9f19160b",
   "metadata": {
    "execution": {
     "iopub.execute_input": "2025-06-15T03:01:44.104643Z",
     "iopub.status.busy": "2025-06-15T03:01:44.104343Z",
     "iopub.status.idle": "2025-06-15T03:01:44.126145Z",
     "shell.execute_reply": "2025-06-15T03:01:44.125023Z"
    },
    "papermill": {
     "duration": 0.034775,
     "end_time": "2025-06-15T03:01:44.127811",
     "exception": false,
     "start_time": "2025-06-15T03:01:44.093036",
     "status": "completed"
    },
    "tags": []
   },
   "outputs": [
    {
     "name": "stdout",
     "output_type": "stream",
     "text": [
      "username               0\n",
      "submit_per_problem    40\n",
      "dtype: int64\n",
      "username              0\n",
      "submit_per_problem    0\n",
      "dtype: int64\n"
     ]
    },
    {
     "data": {
      "text/html": [
       "<div>\n",
       "<style scoped>\n",
       "    .dataframe tbody tr th:only-of-type {\n",
       "        vertical-align: middle;\n",
       "    }\n",
       "\n",
       "    .dataframe tbody tr th {\n",
       "        vertical-align: top;\n",
       "    }\n",
       "\n",
       "    .dataframe thead th {\n",
       "        text-align: right;\n",
       "    }\n",
       "</style>\n",
       "<table border=\"1\" class=\"dataframe\">\n",
       "  <thead>\n",
       "    <tr style=\"text-align: right;\">\n",
       "      <th></th>\n",
       "      <th>username</th>\n",
       "      <th>submit_per_problem</th>\n",
       "    </tr>\n",
       "  </thead>\n",
       "  <tbody>\n",
       "    <tr>\n",
       "      <th>0</th>\n",
       "      <td>00b6dd4fc7eb817e03708c532016ef30ce564a61</td>\n",
       "      <td>3.195652</td>\n",
       "    </tr>\n",
       "    <tr>\n",
       "      <th>1</th>\n",
       "      <td>00bef8afee8f3c595d535c9c03c490cac1a4f021</td>\n",
       "      <td>3.597222</td>\n",
       "    </tr>\n",
       "    <tr>\n",
       "      <th>2</th>\n",
       "      <td>01122b3ef7e59b84189e65985305f575d6bdf83c</td>\n",
       "      <td>3.362069</td>\n",
       "    </tr>\n",
       "    <tr>\n",
       "      <th>3</th>\n",
       "      <td>0134f9f410c65ad0e8c2254a7e9288670e02a183</td>\n",
       "      <td>2.127660</td>\n",
       "    </tr>\n",
       "    <tr>\n",
       "      <th>4</th>\n",
       "      <td>013de369c439ab0ead8aa7da64423aa395a8be39</td>\n",
       "      <td>2.431818</td>\n",
       "    </tr>\n",
       "    <tr>\n",
       "      <th>...</th>\n",
       "      <td>...</td>\n",
       "      <td>...</td>\n",
       "    </tr>\n",
       "    <tr>\n",
       "      <th>1484</th>\n",
       "      <td>feb8a2859a011c59efd22ed419cb69288fe03627</td>\n",
       "      <td>2.176471</td>\n",
       "    </tr>\n",
       "    <tr>\n",
       "      <th>1485</th>\n",
       "      <td>fef4a3263ed9a8ab14d457694bb8fd86ccd98312</td>\n",
       "      <td>3.513514</td>\n",
       "    </tr>\n",
       "    <tr>\n",
       "      <th>1486</th>\n",
       "      <td>ff12d6e2ab80696ed8e22fbe5497e96c68d29076</td>\n",
       "      <td>4.414141</td>\n",
       "    </tr>\n",
       "    <tr>\n",
       "      <th>1487</th>\n",
       "      <td>ff3fa2ec64294f37ae968159f810ebeda7966c51</td>\n",
       "      <td>3.133333</td>\n",
       "    </tr>\n",
       "    <tr>\n",
       "      <th>1488</th>\n",
       "      <td>ffe872165621d735a48bb5db0c71dd5195cba359</td>\n",
       "      <td>4.156250</td>\n",
       "    </tr>\n",
       "  </tbody>\n",
       "</table>\n",
       "<p>1489 rows × 2 columns</p>\n",
       "</div>"
      ],
      "text/plain": [
       "                                      username  submit_per_problem\n",
       "0     00b6dd4fc7eb817e03708c532016ef30ce564a61            3.195652\n",
       "1     00bef8afee8f3c595d535c9c03c490cac1a4f021            3.597222\n",
       "2     01122b3ef7e59b84189e65985305f575d6bdf83c            3.362069\n",
       "3     0134f9f410c65ad0e8c2254a7e9288670e02a183            2.127660\n",
       "4     013de369c439ab0ead8aa7da64423aa395a8be39            2.431818\n",
       "...                                        ...                 ...\n",
       "1484  feb8a2859a011c59efd22ed419cb69288fe03627            2.176471\n",
       "1485  fef4a3263ed9a8ab14d457694bb8fd86ccd98312            3.513514\n",
       "1486  ff12d6e2ab80696ed8e22fbe5497e96c68d29076            4.414141\n",
       "1487  ff3fa2ec64294f37ae968159f810ebeda7966c51            3.133333\n",
       "1488  ffe872165621d735a48bb5db0c71dd5195cba359            4.156250\n",
       "\n",
       "[1489 rows x 2 columns]"
      ]
     },
     "execution_count": 11,
     "metadata": {},
     "output_type": "execute_result"
    }
   ],
   "source": [
    "submit_per_problem = pd.merge(num_submit_df, num_completed_problems, on='username', how='outer')\n",
    "\n",
    "submit_per_problem['submit_per_problem'] = submit_per_problem['num_submit'] / (submit_per_problem['num_completed_problems'])\n",
    "\n",
    "submit_per_problem.drop(['num_submit', 'num_completed_problems'], axis=1, inplace=True)\n",
    "\n",
    "print(submit_per_problem.isnull().sum())\n",
    "\n",
    "submit_per_problem.fillna(0, inplace=True)\n",
    "\n",
    "print(submit_per_problem.isnull().sum())\n",
    "\n",
    "submit_per_problem"
   ]
  },
  {
   "cell_type": "markdown",
   "id": "ec4ebc29",
   "metadata": {
    "papermill": {
     "duration": 0.013198,
     "end_time": "2025-06-15T03:01:44.152072",
     "exception": false,
     "start_time": "2025-06-15T03:01:44.138874",
     "status": "completed"
    },
    "tags": []
   },
   "source": [
    "## Thời gian trung bình làm 1 problem "
   ]
  },
  {
   "cell_type": "code",
   "execution_count": 12,
   "id": "cab15cbc",
   "metadata": {
    "execution": {
     "iopub.execute_input": "2025-06-15T03:01:44.175836Z",
     "iopub.status.busy": "2025-06-15T03:01:44.175487Z",
     "iopub.status.idle": "2025-06-15T03:01:44.183405Z",
     "shell.execute_reply": "2025-06-15T03:01:44.182191Z"
    },
    "papermill": {
     "duration": 0.022265,
     "end_time": "2025-06-15T03:01:44.185630",
     "exception": false,
     "start_time": "2025-06-15T03:01:44.163365",
     "status": "completed"
    },
    "tags": []
   },
   "outputs": [
    {
     "data": {
      "text/plain": [
       "a_id                    1bec7c0b6a9bd8f556a8554c5012dcb778460bac\n",
       "p_id                    f6332fbfbd01c31062bfe102deec29525aabec5a\n",
       "username                0f0664021ebbec70b1d3bb5a5419e22507179671\n",
       "is_final                                                       0\n",
       "status                                                     SCORE\n",
       "pre_score                                                      0\n",
       "coefficient                                                  100\n",
       "lang_id                                                   it0012\n",
       "created_at                                        02-29 01:25:00\n",
       "updated_at                                        02-29 01:26:38\n",
       "judgement      {\"times\":[0,0,0,0,0,0,0,0,0,0,0,0,0,0,0,0,0,0,...\n",
       "Name: 182684, dtype: object"
      ]
     },
     "execution_count": 12,
     "metadata": {},
     "output_type": "execute_result"
    }
   ],
   "source": [
    "# Đây là sample chứng tỏ đây là năm nhuận với 2-29 nên sẽ thêm 2024 vào các sample thiếu năm\n",
    "\n",
    "anno_df.iloc[182684]"
   ]
  },
  {
   "cell_type": "code",
   "execution_count": null,
   "id": "ffab2521",
   "metadata": {
    "execution": {
     "iopub.execute_input": "2025-06-15T03:01:44.209658Z",
     "iopub.status.busy": "2025-06-15T03:01:44.208894Z",
     "iopub.status.idle": "2025-06-15T03:01:47.174192Z",
     "shell.execute_reply": "2025-06-15T03:01:47.173178Z"
    },
    "papermill": {
     "duration": 2.978633,
     "end_time": "2025-06-15T03:01:47.175872",
     "exception": false,
     "start_time": "2025-06-15T03:01:44.197239",
     "status": "completed"
    },
    "tags": []
   },
   "outputs": [],
   "source": [
    "\n",
    "import re \n",
    "\n",
    "LEAP_YEAR = \"2024\"  \n",
    "\n",
    "created_raw = anno_df['created_at'].copy()\n",
    "updated_raw = anno_df['updated_at'].copy()\n",
    "\n",
    "def ensure_year(date_str):\n",
    "    if pd.isna(date_str):\n",
    "        return date_str\n",
    "    if re.search(r'\\b\\d{4}\\b', date_str):\n",
    "        return date_str\n",
    "    return f\"{LEAP_YEAR} {date_str}\"\n",
    "\n",
    "anno_df['created_at'] = created_raw.apply(ensure_year)\n",
    "anno_df['updated_at'] = updated_raw.apply(ensure_year)\n",
    "\n",
    "anno_df['created_at'] = pd.to_datetime(anno_df['created_at'], errors='coerce')\n",
    "anno_df['updated_at'] = pd.to_datetime(anno_df['updated_at'], errors='coerce')\n",
    "\n",
    "anno_df['time_diff'] = (anno_df['updated_at'] - anno_df['created_at']).dt.total_seconds()\n",
    "\n",
    "anno_df['time_diff'] = anno_df['time_diff'].where(anno_df['is_final'] == 1)"
   ]
  },
  {
   "cell_type": "code",
   "execution_count": null,
   "id": "c0e34bd7",
   "metadata": {
    "execution": {
     "iopub.execute_input": "2025-06-15T03:01:47.198998Z",
     "iopub.status.busy": "2025-06-15T03:01:47.198662Z",
     "iopub.status.idle": "2025-06-15T03:01:47.316545Z",
     "shell.execute_reply": "2025-06-15T03:01:47.315556Z"
    },
    "papermill": {
     "duration": 0.1314,
     "end_time": "2025-06-15T03:01:47.318150",
     "exception": false,
     "start_time": "2025-06-15T03:01:47.186750",
     "status": "completed"
    },
    "tags": []
   },
   "outputs": [
    {
     "name": "stdout",
     "output_type": "stream",
     "text": [
      "<class 'pandas.core.frame.DataFrame'>\n",
      "RangeIndex: 1489 entries, 0 to 1488\n",
      "Data columns (total 2 columns):\n",
      " #   Column             Non-Null Count  Dtype  \n",
      "---  ------             --------------  -----  \n",
      " 0   username           1489 non-null   object \n",
      " 1   avg_time_per_user  1488 non-null   float64\n",
      "dtypes: float64(1), object(1)\n",
      "memory usage: 23.4+ KB\n"
     ]
    }
   ],
   "source": [
    "user_p_mean = (\n",
    "    anno_df\n",
    "    .groupby(['username', 'p_id'])['time_diff']\n",
    "    .mean()\n",
    "    .reset_index(name='avg_time_per_problem')\n",
    ")\n",
    "\n",
    "user_mean_time = (\n",
    "    user_p_mean\n",
    "    .groupby('username')['avg_time_per_problem']\n",
    "    .mean()\n",
    "    .reset_index(name='avg_time_per_user')\n",
    ")\n",
    "\n",
    "user_mean_time.info()"
   ]
  },
  {
   "cell_type": "markdown",
   "id": "17bd3609",
   "metadata": {
    "papermill": {
     "duration": 0.010757,
     "end_time": "2025-06-15T03:01:47.339721",
     "exception": false,
     "start_time": "2025-06-15T03:01:47.328964",
     "status": "completed"
    },
    "tags": []
   },
   "source": [
    "## Merge các đặc trưng đã trích xuất"
   ]
  },
  {
   "cell_type": "code",
   "execution_count": 15,
   "id": "650e0320",
   "metadata": {
    "execution": {
     "iopub.execute_input": "2025-06-15T03:01:47.363744Z",
     "iopub.status.busy": "2025-06-15T03:01:47.363384Z",
     "iopub.status.idle": "2025-06-15T03:01:47.405762Z",
     "shell.execute_reply": "2025-06-15T03:01:47.404814Z"
    },
    "papermill": {
     "duration": 0.056543,
     "end_time": "2025-06-15T03:01:47.407674",
     "exception": false,
     "start_time": "2025-06-15T03:01:47.351131",
     "status": "completed"
    },
    "tags": []
   },
   "outputs": [
    {
     "data": {
      "text/html": [
       "<div>\n",
       "<style scoped>\n",
       "    .dataframe tbody tr th:only-of-type {\n",
       "        vertical-align: middle;\n",
       "    }\n",
       "\n",
       "    .dataframe tbody tr th {\n",
       "        vertical-align: top;\n",
       "    }\n",
       "\n",
       "    .dataframe thead th {\n",
       "        text-align: right;\n",
       "    }\n",
       "</style>\n",
       "<table border=\"1\" class=\"dataframe\">\n",
       "  <thead>\n",
       "    <tr style=\"text-align: right;\">\n",
       "      <th></th>\n",
       "      <th>username</th>\n",
       "      <th>num_submit</th>\n",
       "      <th>num_completed_problems</th>\n",
       "      <th>num_late_submit</th>\n",
       "      <th>pre_score</th>\n",
       "      <th>coefficient</th>\n",
       "      <th>easy</th>\n",
       "      <th>ex_hard</th>\n",
       "      <th>hard</th>\n",
       "      <th>medium</th>\n",
       "      <th>submit_per_problem</th>\n",
       "      <th>avg_time_per_user</th>\n",
       "      <th>score_count</th>\n",
       "      <th>compilation_error_count</th>\n",
       "      <th>num_assignments</th>\n",
       "    </tr>\n",
       "  </thead>\n",
       "  <tbody>\n",
       "    <tr>\n",
       "      <th>0</th>\n",
       "      <td>9f605b4802c811805adc38ae19035ded09a5e4b5</td>\n",
       "      <td>1047</td>\n",
       "      <td>86</td>\n",
       "      <td>0</td>\n",
       "      <td>3071.882521</td>\n",
       "      <td>100.0</td>\n",
       "      <td>76</td>\n",
       "      <td>1</td>\n",
       "      <td>5</td>\n",
       "      <td>4</td>\n",
       "      <td>12.174419</td>\n",
       "      <td>854.175258</td>\n",
       "      <td>717</td>\n",
       "      <td>330</td>\n",
       "      <td>7</td>\n",
       "    </tr>\n",
       "    <tr>\n",
       "      <th>1</th>\n",
       "      <td>2cd5132c3c49bd9d4d5081e386a4d69a593f850a</td>\n",
       "      <td>1022</td>\n",
       "      <td>100</td>\n",
       "      <td>0</td>\n",
       "      <td>4413.339530</td>\n",
       "      <td>100.0</td>\n",
       "      <td>75</td>\n",
       "      <td>2</td>\n",
       "      <td>2</td>\n",
       "      <td>23</td>\n",
       "      <td>10.220000</td>\n",
       "      <td>9.958333</td>\n",
       "      <td>787</td>\n",
       "      <td>235</td>\n",
       "      <td>16</td>\n",
       "    </tr>\n",
       "    <tr>\n",
       "      <th>2</th>\n",
       "      <td>58f61331a385caeed17baaf54abea308426d50fe</td>\n",
       "      <td>833</td>\n",
       "      <td>109</td>\n",
       "      <td>0</td>\n",
       "      <td>2771.621849</td>\n",
       "      <td>100.0</td>\n",
       "      <td>107</td>\n",
       "      <td>0</td>\n",
       "      <td>0</td>\n",
       "      <td>2</td>\n",
       "      <td>7.642202</td>\n",
       "      <td>134.963303</td>\n",
       "      <td>525</td>\n",
       "      <td>307</td>\n",
       "      <td>5</td>\n",
       "    </tr>\n",
       "    <tr>\n",
       "      <th>3</th>\n",
       "      <td>1abf62f1e76bc5ac164061cff2a8171d6b6de657</td>\n",
       "      <td>749</td>\n",
       "      <td>100</td>\n",
       "      <td>0</td>\n",
       "      <td>2747.838451</td>\n",
       "      <td>100.0</td>\n",
       "      <td>101</td>\n",
       "      <td>1</td>\n",
       "      <td>0</td>\n",
       "      <td>7</td>\n",
       "      <td>7.490000</td>\n",
       "      <td>892.610632</td>\n",
       "      <td>415</td>\n",
       "      <td>334</td>\n",
       "      <td>7</td>\n",
       "    </tr>\n",
       "    <tr>\n",
       "      <th>4</th>\n",
       "      <td>33b16210a7736a6f75ef1b1f3cb7070a4d29395e</td>\n",
       "      <td>745</td>\n",
       "      <td>88</td>\n",
       "      <td>0</td>\n",
       "      <td>3870.371812</td>\n",
       "      <td>100.0</td>\n",
       "      <td>82</td>\n",
       "      <td>5</td>\n",
       "      <td>1</td>\n",
       "      <td>3</td>\n",
       "      <td>8.465909</td>\n",
       "      <td>707.314286</td>\n",
       "      <td>546</td>\n",
       "      <td>199</td>\n",
       "      <td>11</td>\n",
       "    </tr>\n",
       "    <tr>\n",
       "      <th>...</th>\n",
       "      <td>...</td>\n",
       "      <td>...</td>\n",
       "      <td>...</td>\n",
       "      <td>...</td>\n",
       "      <td>...</td>\n",
       "      <td>...</td>\n",
       "      <td>...</td>\n",
       "      <td>...</td>\n",
       "      <td>...</td>\n",
       "      <td>...</td>\n",
       "      <td>...</td>\n",
       "      <td>...</td>\n",
       "      <td>...</td>\n",
       "      <td>...</td>\n",
       "      <td>...</td>\n",
       "    </tr>\n",
       "    <tr>\n",
       "      <th>1484</th>\n",
       "      <td>503affec12fb99997f583ed73b60262572694795</td>\n",
       "      <td>1</td>\n",
       "      <td>1</td>\n",
       "      <td>0</td>\n",
       "      <td>10000.000000</td>\n",
       "      <td>100.0</td>\n",
       "      <td>0</td>\n",
       "      <td>1</td>\n",
       "      <td>0</td>\n",
       "      <td>0</td>\n",
       "      <td>1.000000</td>\n",
       "      <td>9.000000</td>\n",
       "      <td>1</td>\n",
       "      <td>0</td>\n",
       "      <td>1</td>\n",
       "    </tr>\n",
       "    <tr>\n",
       "      <th>1485</th>\n",
       "      <td>f2418c1ba0f63cb975e6d8c26ce4a145b11ad924</td>\n",
       "      <td>1</td>\n",
       "      <td>0</td>\n",
       "      <td>0</td>\n",
       "      <td>0.000000</td>\n",
       "      <td>100.0</td>\n",
       "      <td>0</td>\n",
       "      <td>0</td>\n",
       "      <td>0</td>\n",
       "      <td>0</td>\n",
       "      <td>0.000000</td>\n",
       "      <td>3.000000</td>\n",
       "      <td>1</td>\n",
       "      <td>0</td>\n",
       "      <td>1</td>\n",
       "    </tr>\n",
       "    <tr>\n",
       "      <th>1486</th>\n",
       "      <td>713487f0de26590bca3c759e2fef02b3a5bad9fd</td>\n",
       "      <td>1</td>\n",
       "      <td>1</td>\n",
       "      <td>0</td>\n",
       "      <td>10000.000000</td>\n",
       "      <td>100.0</td>\n",
       "      <td>0</td>\n",
       "      <td>1</td>\n",
       "      <td>0</td>\n",
       "      <td>0</td>\n",
       "      <td>1.000000</td>\n",
       "      <td>8.000000</td>\n",
       "      <td>1</td>\n",
       "      <td>0</td>\n",
       "      <td>1</td>\n",
       "    </tr>\n",
       "    <tr>\n",
       "      <th>1487</th>\n",
       "      <td>c4f595ca17b4c13287b0beec0dbd45d0e356055b</td>\n",
       "      <td>1</td>\n",
       "      <td>0</td>\n",
       "      <td>0</td>\n",
       "      <td>0.000000</td>\n",
       "      <td>100.0</td>\n",
       "      <td>0</td>\n",
       "      <td>0</td>\n",
       "      <td>0</td>\n",
       "      <td>0</td>\n",
       "      <td>0.000000</td>\n",
       "      <td>1.000000</td>\n",
       "      <td>0</td>\n",
       "      <td>1</td>\n",
       "      <td>1</td>\n",
       "    </tr>\n",
       "    <tr>\n",
       "      <th>1488</th>\n",
       "      <td>79f071f88a5c4c3bd278b93f9f622e90e15a10f0</td>\n",
       "      <td>1</td>\n",
       "      <td>0</td>\n",
       "      <td>0</td>\n",
       "      <td>0.000000</td>\n",
       "      <td>100.0</td>\n",
       "      <td>0</td>\n",
       "      <td>0</td>\n",
       "      <td>0</td>\n",
       "      <td>0</td>\n",
       "      <td>0.000000</td>\n",
       "      <td>6.000000</td>\n",
       "      <td>0</td>\n",
       "      <td>1</td>\n",
       "      <td>1</td>\n",
       "    </tr>\n",
       "  </tbody>\n",
       "</table>\n",
       "<p>1489 rows × 15 columns</p>\n",
       "</div>"
      ],
      "text/plain": [
       "                                      username  num_submit  \\\n",
       "0     9f605b4802c811805adc38ae19035ded09a5e4b5        1047   \n",
       "1     2cd5132c3c49bd9d4d5081e386a4d69a593f850a        1022   \n",
       "2     58f61331a385caeed17baaf54abea308426d50fe         833   \n",
       "3     1abf62f1e76bc5ac164061cff2a8171d6b6de657         749   \n",
       "4     33b16210a7736a6f75ef1b1f3cb7070a4d29395e         745   \n",
       "...                                        ...         ...   \n",
       "1484  503affec12fb99997f583ed73b60262572694795           1   \n",
       "1485  f2418c1ba0f63cb975e6d8c26ce4a145b11ad924           1   \n",
       "1486  713487f0de26590bca3c759e2fef02b3a5bad9fd           1   \n",
       "1487  c4f595ca17b4c13287b0beec0dbd45d0e356055b           1   \n",
       "1488  79f071f88a5c4c3bd278b93f9f622e90e15a10f0           1   \n",
       "\n",
       "      num_completed_problems  num_late_submit     pre_score  coefficient  \\\n",
       "0                         86                0   3071.882521        100.0   \n",
       "1                        100                0   4413.339530        100.0   \n",
       "2                        109                0   2771.621849        100.0   \n",
       "3                        100                0   2747.838451        100.0   \n",
       "4                         88                0   3870.371812        100.0   \n",
       "...                      ...              ...           ...          ...   \n",
       "1484                       1                0  10000.000000        100.0   \n",
       "1485                       0                0      0.000000        100.0   \n",
       "1486                       1                0  10000.000000        100.0   \n",
       "1487                       0                0      0.000000        100.0   \n",
       "1488                       0                0      0.000000        100.0   \n",
       "\n",
       "      easy  ex_hard  hard  medium  submit_per_problem  avg_time_per_user  \\\n",
       "0       76        1     5       4           12.174419         854.175258   \n",
       "1       75        2     2      23           10.220000           9.958333   \n",
       "2      107        0     0       2            7.642202         134.963303   \n",
       "3      101        1     0       7            7.490000         892.610632   \n",
       "4       82        5     1       3            8.465909         707.314286   \n",
       "...    ...      ...   ...     ...                 ...                ...   \n",
       "1484     0        1     0       0            1.000000           9.000000   \n",
       "1485     0        0     0       0            0.000000           3.000000   \n",
       "1486     0        1     0       0            1.000000           8.000000   \n",
       "1487     0        0     0       0            0.000000           1.000000   \n",
       "1488     0        0     0       0            0.000000           6.000000   \n",
       "\n",
       "      score_count  compilation_error_count  num_assignments  \n",
       "0             717                      330                7  \n",
       "1             787                      235               16  \n",
       "2             525                      307                5  \n",
       "3             415                      334                7  \n",
       "4             546                      199               11  \n",
       "...           ...                      ...              ...  \n",
       "1484            1                        0                1  \n",
       "1485            1                        0                1  \n",
       "1486            1                        0                1  \n",
       "1487            0                        1                1  \n",
       "1488            0                        1                1  \n",
       "\n",
       "[1489 rows x 15 columns]"
      ]
     },
     "execution_count": 15,
     "metadata": {},
     "output_type": "execute_result"
    }
   ],
   "source": [
    "summary_df = num_submit_df \\\n",
    "    .merge(num_completed_problems, on='username', how='left') \\\n",
    "    .merge(num_late_submit, on='username', how='left') \\\n",
    "    .merge(mean_scores, on='username', how='left') \\\n",
    "    .merge(num_submit_dif, on='username', how='left') \\\n",
    "    .merge(submit_per_problem, on='username', how='left') \\\n",
    "    .merge(user_mean_time, on='username', how='left') \\\n",
    "    .merge(num_score, on='username', how='left') \\\n",
    "    .merge(num_error, on='username', how='left') \\\n",
    "    .merge(num_assignments, on='username', how='left') \n",
    "\n",
    "summary_df = summary_df.fillna(0)\n",
    "\n",
    "summary_df[['num_submit', 'num_completed_problems', 'num_late_submit', 'easy', 'medium', 'hard', 'ex_hard', 'score_count', 'compilation_error_count']] = summary_df[[\n",
    "    'num_submit', 'num_completed_problems', 'num_late_submit', 'easy', 'medium', 'hard', 'ex_hard', 'score_count','compilation_error_count']].astype(int)\n",
    "\n",
    "summary_df"
   ]
  },
  {
   "cell_type": "code",
   "execution_count": 16,
   "id": "47352ebb",
   "metadata": {
    "execution": {
     "iopub.execute_input": "2025-06-15T03:01:47.432085Z",
     "iopub.status.busy": "2025-06-15T03:01:47.431808Z",
     "iopub.status.idle": "2025-06-15T03:01:47.443986Z",
     "shell.execute_reply": "2025-06-15T03:01:47.443029Z"
    },
    "papermill": {
     "duration": 0.025751,
     "end_time": "2025-06-15T03:01:47.445504",
     "exception": false,
     "start_time": "2025-06-15T03:01:47.419753",
     "status": "completed"
    },
    "tags": []
   },
   "outputs": [
    {
     "name": "stdout",
     "output_type": "stream",
     "text": [
      "<class 'pandas.core.frame.DataFrame'>\n",
      "RangeIndex: 1489 entries, 0 to 1488\n",
      "Data columns (total 15 columns):\n",
      " #   Column                   Non-Null Count  Dtype  \n",
      "---  ------                   --------------  -----  \n",
      " 0   username                 1489 non-null   object \n",
      " 1   num_submit               1489 non-null   int64  \n",
      " 2   num_completed_problems   1489 non-null   int64  \n",
      " 3   num_late_submit          1489 non-null   int64  \n",
      " 4   pre_score                1489 non-null   float64\n",
      " 5   coefficient              1489 non-null   float64\n",
      " 6   easy                     1489 non-null   int64  \n",
      " 7   ex_hard                  1489 non-null   int64  \n",
      " 8   hard                     1489 non-null   int64  \n",
      " 9   medium                   1489 non-null   int64  \n",
      " 10  submit_per_problem       1489 non-null   float64\n",
      " 11  avg_time_per_user        1489 non-null   float64\n",
      " 12  score_count              1489 non-null   int64  \n",
      " 13  compilation_error_count  1489 non-null   int64  \n",
      " 14  num_assignments          1489 non-null   int64  \n",
      "dtypes: float64(4), int64(10), object(1)\n",
      "memory usage: 174.6+ KB\n"
     ]
    }
   ],
   "source": [
    "summary_df.info()"
   ]
  },
  {
   "cell_type": "markdown",
   "id": "43432ceb",
   "metadata": {
    "papermill": {
     "duration": 0.010978,
     "end_time": "2025-06-15T03:01:47.467891",
     "exception": false,
     "start_time": "2025-06-15T03:01:47.456913",
     "status": "completed"
    },
    "tags": []
   },
   "source": [
    "# **Data thực hành**"
   ]
  },
  {
   "cell_type": "markdown",
   "id": "5ac3f4f4",
   "metadata": {
    "papermill": {
     "duration": 0.011172,
     "end_time": "2025-06-15T03:01:47.490629",
     "exception": false,
     "start_time": "2025-06-15T03:01:47.479457",
     "status": "completed"
    },
    "tags": []
   },
   "source": [
    "## Xử lí data thực hành"
   ]
  },
  {
   "cell_type": "code",
   "execution_count": 17,
   "id": "cbece930",
   "metadata": {
    "execution": {
     "iopub.execute_input": "2025-06-15T03:01:47.516599Z",
     "iopub.status.busy": "2025-06-15T03:01:47.516300Z",
     "iopub.status.idle": "2025-06-15T03:01:47.537896Z",
     "shell.execute_reply": "2025-06-15T03:01:47.536906Z"
    },
    "papermill": {
     "duration": 0.036262,
     "end_time": "2025-06-15T03:01:47.539336",
     "exception": false,
     "start_time": "2025-06-15T03:01:47.503074",
     "status": "completed"
    },
    "tags": []
   },
   "outputs": [
    {
     "name": "stdout",
     "output_type": "stream",
     "text": [
      "<class 'pandas.core.frame.DataFrame'>\n",
      "Index: 755 entries, 0 to 760\n",
      "Data columns (total 2 columns):\n",
      " #   Column    Non-Null Count  Dtype \n",
      "---  ------    --------------  ----- \n",
      " 0   username  755 non-null    object\n",
      " 1   TH        755 non-null    object\n",
      "dtypes: object(2)\n",
      "memory usage: 17.7+ KB\n"
     ]
    }
   ],
   "source": [
    "th_df = pd.read_csv('/kaggle/input/project2-cs114-data/wecode.data/th-public.csv')\n",
    "th_df.dropna(inplace=True)\n",
    "th_df.rename(columns={'hash' : 'username'}, inplace=True)\n",
    "th_df.info()"
   ]
  },
  {
   "cell_type": "markdown",
   "id": "f35c9c9b",
   "metadata": {
    "papermill": {
     "duration": 0.01112,
     "end_time": "2025-06-15T03:01:47.561798",
     "exception": false,
     "start_time": "2025-06-15T03:01:47.550678",
     "status": "completed"
    },
    "tags": []
   },
   "source": [
    "## Merge với dataframe feature\n",
    "\n",
    "(Note : Cảm giác mean_prescore và coefficient không có tác dụng)"
   ]
  },
  {
   "cell_type": "code",
   "execution_count": 18,
   "id": "47a13802",
   "metadata": {
    "execution": {
     "iopub.execute_input": "2025-06-15T03:01:47.585761Z",
     "iopub.status.busy": "2025-06-15T03:01:47.585336Z",
     "iopub.status.idle": "2025-06-15T03:01:47.605494Z",
     "shell.execute_reply": "2025-06-15T03:01:47.604326Z"
    },
    "papermill": {
     "duration": 0.034019,
     "end_time": "2025-06-15T03:01:47.607198",
     "exception": false,
     "start_time": "2025-06-15T03:01:47.573179",
     "status": "completed"
    },
    "tags": []
   },
   "outputs": [
    {
     "data": {
      "text/html": [
       "<div>\n",
       "<style scoped>\n",
       "    .dataframe tbody tr th:only-of-type {\n",
       "        vertical-align: middle;\n",
       "    }\n",
       "\n",
       "    .dataframe tbody tr th {\n",
       "        vertical-align: top;\n",
       "    }\n",
       "\n",
       "    .dataframe thead th {\n",
       "        text-align: right;\n",
       "    }\n",
       "</style>\n",
       "<table border=\"1\" class=\"dataframe\">\n",
       "  <thead>\n",
       "    <tr style=\"text-align: right;\">\n",
       "      <th></th>\n",
       "      <th>username</th>\n",
       "      <th>num_submit</th>\n",
       "      <th>num_completed_problems</th>\n",
       "      <th>num_late_submit</th>\n",
       "      <th>pre_score</th>\n",
       "      <th>coefficient</th>\n",
       "      <th>easy</th>\n",
       "      <th>ex_hard</th>\n",
       "      <th>hard</th>\n",
       "      <th>medium</th>\n",
       "      <th>submit_per_problem</th>\n",
       "      <th>avg_time_per_user</th>\n",
       "      <th>score_count</th>\n",
       "      <th>compilation_error_count</th>\n",
       "      <th>num_assignments</th>\n",
       "      <th>TH</th>\n",
       "    </tr>\n",
       "  </thead>\n",
       "  <tbody>\n",
       "    <tr>\n",
       "      <th>0</th>\n",
       "      <td>2cd5132c3c49bd9d4d5081e386a4d69a593f850a</td>\n",
       "      <td>1022</td>\n",
       "      <td>100</td>\n",
       "      <td>0</td>\n",
       "      <td>4413.339530</td>\n",
       "      <td>100.0</td>\n",
       "      <td>75</td>\n",
       "      <td>2</td>\n",
       "      <td>2</td>\n",
       "      <td>23</td>\n",
       "      <td>10.220000</td>\n",
       "      <td>9.958333</td>\n",
       "      <td>787</td>\n",
       "      <td>235</td>\n",
       "      <td>16</td>\n",
       "      <td>8</td>\n",
       "    </tr>\n",
       "    <tr>\n",
       "      <th>1</th>\n",
       "      <td>58f61331a385caeed17baaf54abea308426d50fe</td>\n",
       "      <td>833</td>\n",
       "      <td>109</td>\n",
       "      <td>0</td>\n",
       "      <td>2771.621849</td>\n",
       "      <td>100.0</td>\n",
       "      <td>107</td>\n",
       "      <td>0</td>\n",
       "      <td>0</td>\n",
       "      <td>2</td>\n",
       "      <td>7.642202</td>\n",
       "      <td>134.963303</td>\n",
       "      <td>525</td>\n",
       "      <td>307</td>\n",
       "      <td>5</td>\n",
       "      <td>8</td>\n",
       "    </tr>\n",
       "    <tr>\n",
       "      <th>2</th>\n",
       "      <td>1abf62f1e76bc5ac164061cff2a8171d6b6de657</td>\n",
       "      <td>749</td>\n",
       "      <td>100</td>\n",
       "      <td>0</td>\n",
       "      <td>2747.838451</td>\n",
       "      <td>100.0</td>\n",
       "      <td>101</td>\n",
       "      <td>1</td>\n",
       "      <td>0</td>\n",
       "      <td>7</td>\n",
       "      <td>7.490000</td>\n",
       "      <td>892.610632</td>\n",
       "      <td>415</td>\n",
       "      <td>334</td>\n",
       "      <td>7</td>\n",
       "      <td>5</td>\n",
       "    </tr>\n",
       "    <tr>\n",
       "      <th>3</th>\n",
       "      <td>33b16210a7736a6f75ef1b1f3cb7070a4d29395e</td>\n",
       "      <td>745</td>\n",
       "      <td>88</td>\n",
       "      <td>0</td>\n",
       "      <td>3870.371812</td>\n",
       "      <td>100.0</td>\n",
       "      <td>82</td>\n",
       "      <td>5</td>\n",
       "      <td>1</td>\n",
       "      <td>3</td>\n",
       "      <td>8.465909</td>\n",
       "      <td>707.314286</td>\n",
       "      <td>546</td>\n",
       "      <td>199</td>\n",
       "      <td>11</td>\n",
       "      <td>5</td>\n",
       "    </tr>\n",
       "    <tr>\n",
       "      <th>4</th>\n",
       "      <td>45e8b53fe4fc590dd9c7564fe2c6fa3ede58fbea</td>\n",
       "      <td>738</td>\n",
       "      <td>110</td>\n",
       "      <td>0</td>\n",
       "      <td>3604.070461</td>\n",
       "      <td>100.0</td>\n",
       "      <td>101</td>\n",
       "      <td>0</td>\n",
       "      <td>1</td>\n",
       "      <td>9</td>\n",
       "      <td>6.709091</td>\n",
       "      <td>8.570796</td>\n",
       "      <td>567</td>\n",
       "      <td>171</td>\n",
       "      <td>5</td>\n",
       "      <td>9.5</td>\n",
       "    </tr>\n",
       "    <tr>\n",
       "      <th>...</th>\n",
       "      <td>...</td>\n",
       "      <td>...</td>\n",
       "      <td>...</td>\n",
       "      <td>...</td>\n",
       "      <td>...</td>\n",
       "      <td>...</td>\n",
       "      <td>...</td>\n",
       "      <td>...</td>\n",
       "      <td>...</td>\n",
       "      <td>...</td>\n",
       "      <td>...</td>\n",
       "      <td>...</td>\n",
       "      <td>...</td>\n",
       "      <td>...</td>\n",
       "      <td>...</td>\n",
       "      <td>...</td>\n",
       "    </tr>\n",
       "    <tr>\n",
       "      <th>750</th>\n",
       "      <td>4932174dcf0408a7eb862930c9c6be33d30825a6</td>\n",
       "      <td>1</td>\n",
       "      <td>1</td>\n",
       "      <td>0</td>\n",
       "      <td>10000.000000</td>\n",
       "      <td>100.0</td>\n",
       "      <td>0</td>\n",
       "      <td>1</td>\n",
       "      <td>0</td>\n",
       "      <td>0</td>\n",
       "      <td>1.000000</td>\n",
       "      <td>11.000000</td>\n",
       "      <td>1</td>\n",
       "      <td>0</td>\n",
       "      <td>1</td>\n",
       "      <td>9</td>\n",
       "    </tr>\n",
       "    <tr>\n",
       "      <th>751</th>\n",
       "      <td>4644e181d653c04f17f76eed400fdf52a43b2237</td>\n",
       "      <td>1</td>\n",
       "      <td>0</td>\n",
       "      <td>0</td>\n",
       "      <td>0.000000</td>\n",
       "      <td>100.0</td>\n",
       "      <td>0</td>\n",
       "      <td>0</td>\n",
       "      <td>0</td>\n",
       "      <td>0</td>\n",
       "      <td>0.000000</td>\n",
       "      <td>52.000000</td>\n",
       "      <td>1</td>\n",
       "      <td>0</td>\n",
       "      <td>1</td>\n",
       "      <td>8</td>\n",
       "    </tr>\n",
       "    <tr>\n",
       "      <th>752</th>\n",
       "      <td>503affec12fb99997f583ed73b60262572694795</td>\n",
       "      <td>1</td>\n",
       "      <td>1</td>\n",
       "      <td>0</td>\n",
       "      <td>10000.000000</td>\n",
       "      <td>100.0</td>\n",
       "      <td>0</td>\n",
       "      <td>1</td>\n",
       "      <td>0</td>\n",
       "      <td>0</td>\n",
       "      <td>1.000000</td>\n",
       "      <td>9.000000</td>\n",
       "      <td>1</td>\n",
       "      <td>0</td>\n",
       "      <td>1</td>\n",
       "      <td>5</td>\n",
       "    </tr>\n",
       "    <tr>\n",
       "      <th>753</th>\n",
       "      <td>713487f0de26590bca3c759e2fef02b3a5bad9fd</td>\n",
       "      <td>1</td>\n",
       "      <td>1</td>\n",
       "      <td>0</td>\n",
       "      <td>10000.000000</td>\n",
       "      <td>100.0</td>\n",
       "      <td>0</td>\n",
       "      <td>1</td>\n",
       "      <td>0</td>\n",
       "      <td>0</td>\n",
       "      <td>1.000000</td>\n",
       "      <td>8.000000</td>\n",
       "      <td>1</td>\n",
       "      <td>0</td>\n",
       "      <td>1</td>\n",
       "      <td>5.5</td>\n",
       "    </tr>\n",
       "    <tr>\n",
       "      <th>754</th>\n",
       "      <td>79f071f88a5c4c3bd278b93f9f622e90e15a10f0</td>\n",
       "      <td>1</td>\n",
       "      <td>0</td>\n",
       "      <td>0</td>\n",
       "      <td>0.000000</td>\n",
       "      <td>100.0</td>\n",
       "      <td>0</td>\n",
       "      <td>0</td>\n",
       "      <td>0</td>\n",
       "      <td>0</td>\n",
       "      <td>0.000000</td>\n",
       "      <td>6.000000</td>\n",
       "      <td>0</td>\n",
       "      <td>1</td>\n",
       "      <td>1</td>\n",
       "      <td>5.5</td>\n",
       "    </tr>\n",
       "  </tbody>\n",
       "</table>\n",
       "<p>755 rows × 16 columns</p>\n",
       "</div>"
      ],
      "text/plain": [
       "                                     username  num_submit  \\\n",
       "0    2cd5132c3c49bd9d4d5081e386a4d69a593f850a        1022   \n",
       "1    58f61331a385caeed17baaf54abea308426d50fe         833   \n",
       "2    1abf62f1e76bc5ac164061cff2a8171d6b6de657         749   \n",
       "3    33b16210a7736a6f75ef1b1f3cb7070a4d29395e         745   \n",
       "4    45e8b53fe4fc590dd9c7564fe2c6fa3ede58fbea         738   \n",
       "..                                        ...         ...   \n",
       "750  4932174dcf0408a7eb862930c9c6be33d30825a6           1   \n",
       "751  4644e181d653c04f17f76eed400fdf52a43b2237           1   \n",
       "752  503affec12fb99997f583ed73b60262572694795           1   \n",
       "753  713487f0de26590bca3c759e2fef02b3a5bad9fd           1   \n",
       "754  79f071f88a5c4c3bd278b93f9f622e90e15a10f0           1   \n",
       "\n",
       "     num_completed_problems  num_late_submit     pre_score  coefficient  easy  \\\n",
       "0                       100                0   4413.339530        100.0    75   \n",
       "1                       109                0   2771.621849        100.0   107   \n",
       "2                       100                0   2747.838451        100.0   101   \n",
       "3                        88                0   3870.371812        100.0    82   \n",
       "4                       110                0   3604.070461        100.0   101   \n",
       "..                      ...              ...           ...          ...   ...   \n",
       "750                       1                0  10000.000000        100.0     0   \n",
       "751                       0                0      0.000000        100.0     0   \n",
       "752                       1                0  10000.000000        100.0     0   \n",
       "753                       1                0  10000.000000        100.0     0   \n",
       "754                       0                0      0.000000        100.0     0   \n",
       "\n",
       "     ex_hard  hard  medium  submit_per_problem  avg_time_per_user  \\\n",
       "0          2     2      23           10.220000           9.958333   \n",
       "1          0     0       2            7.642202         134.963303   \n",
       "2          1     0       7            7.490000         892.610632   \n",
       "3          5     1       3            8.465909         707.314286   \n",
       "4          0     1       9            6.709091           8.570796   \n",
       "..       ...   ...     ...                 ...                ...   \n",
       "750        1     0       0            1.000000          11.000000   \n",
       "751        0     0       0            0.000000          52.000000   \n",
       "752        1     0       0            1.000000           9.000000   \n",
       "753        1     0       0            1.000000           8.000000   \n",
       "754        0     0       0            0.000000           6.000000   \n",
       "\n",
       "     score_count  compilation_error_count  num_assignments   TH  \n",
       "0            787                      235               16    8  \n",
       "1            525                      307                5    8  \n",
       "2            415                      334                7    5  \n",
       "3            546                      199               11    5  \n",
       "4            567                      171                5  9.5  \n",
       "..           ...                      ...              ...  ...  \n",
       "750            1                        0                1    9  \n",
       "751            1                        0                1    8  \n",
       "752            1                        0                1    5  \n",
       "753            1                        0                1  5.5  \n",
       "754            0                        1                1  5.5  \n",
       "\n",
       "[755 rows x 16 columns]"
      ]
     },
     "execution_count": 18,
     "metadata": {},
     "output_type": "execute_result"
    }
   ],
   "source": [
    "th_df = summary_df.merge(th_df, on='username', how='inner')\n",
    "\n",
    "th_df"
   ]
  },
  {
   "cell_type": "code",
   "execution_count": 19,
   "id": "721eb1ad",
   "metadata": {
    "execution": {
     "iopub.execute_input": "2025-06-15T03:01:47.632248Z",
     "iopub.status.busy": "2025-06-15T03:01:47.631888Z",
     "iopub.status.idle": "2025-06-15T03:01:47.640384Z",
     "shell.execute_reply": "2025-06-15T03:01:47.639318Z"
    },
    "papermill": {
     "duration": 0.022828,
     "end_time": "2025-06-15T03:01:47.642024",
     "exception": false,
     "start_time": "2025-06-15T03:01:47.619196",
     "status": "completed"
    },
    "tags": []
   },
   "outputs": [
    {
     "name": "stdout",
     "output_type": "stream",
     "text": [
      "TH\n",
      "8      94\n",
      "9      93\n",
      "9.5    86\n",
      "8.5    67\n",
      "10     64\n",
      "5      61\n",
      "7.5    50\n",
      "6.5    38\n",
      "7      37\n",
      "4.5    32\n",
      "6      31\n",
      "5.5    29\n",
      "4      18\n",
      "3.5    12\n",
      "2.5    11\n",
      "3      10\n",
      "1.5     8\n",
      "1       7\n",
      "2       3\n",
      "0.5     2\n",
      "        2\n",
      "Name: count, dtype: int64\n",
      "['8' '5' '9.5' '8.5' '9' '10' '5.5' '7.5' '6.5' '7' '4.5' '4' '6' '3.5'\n",
      " '1.5' '2.5' '3' '0.5' '1' '2' '\\xa0']\n"
     ]
    }
   ],
   "source": [
    "print(th_df['TH'].value_counts())\n",
    "\n",
    "print(th_df['TH'].astype(str).unique())"
   ]
  },
  {
   "cell_type": "code",
   "execution_count": null,
   "id": "983f8325",
   "metadata": {
    "execution": {
     "iopub.execute_input": "2025-06-15T03:01:47.667998Z",
     "iopub.status.busy": "2025-06-15T03:01:47.667655Z",
     "iopub.status.idle": "2025-06-15T03:01:47.692749Z",
     "shell.execute_reply": "2025-06-15T03:01:47.691766Z"
    },
    "papermill": {
     "duration": 0.04034,
     "end_time": "2025-06-15T03:01:47.694613",
     "exception": false,
     "start_time": "2025-06-15T03:01:47.654273",
     "status": "completed"
    },
    "tags": []
   },
   "outputs": [
    {
     "data": {
      "text/html": [
       "<div>\n",
       "<style scoped>\n",
       "    .dataframe tbody tr th:only-of-type {\n",
       "        vertical-align: middle;\n",
       "    }\n",
       "\n",
       "    .dataframe tbody tr th {\n",
       "        vertical-align: top;\n",
       "    }\n",
       "\n",
       "    .dataframe thead th {\n",
       "        text-align: right;\n",
       "    }\n",
       "</style>\n",
       "<table border=\"1\" class=\"dataframe\">\n",
       "  <thead>\n",
       "    <tr style=\"text-align: right;\">\n",
       "      <th></th>\n",
       "      <th>username</th>\n",
       "      <th>num_submit</th>\n",
       "      <th>num_completed_problems</th>\n",
       "      <th>num_late_submit</th>\n",
       "      <th>pre_score</th>\n",
       "      <th>coefficient</th>\n",
       "      <th>easy</th>\n",
       "      <th>ex_hard</th>\n",
       "      <th>hard</th>\n",
       "      <th>medium</th>\n",
       "      <th>submit_per_problem</th>\n",
       "      <th>avg_time_per_user</th>\n",
       "      <th>score_count</th>\n",
       "      <th>compilation_error_count</th>\n",
       "      <th>num_assignments</th>\n",
       "      <th>TH</th>\n",
       "    </tr>\n",
       "  </thead>\n",
       "  <tbody>\n",
       "    <tr>\n",
       "      <th>0</th>\n",
       "      <td>2cd5132c3c49bd9d4d5081e386a4d69a593f850a</td>\n",
       "      <td>1022</td>\n",
       "      <td>100</td>\n",
       "      <td>0</td>\n",
       "      <td>4413.339530</td>\n",
       "      <td>100.0</td>\n",
       "      <td>75</td>\n",
       "      <td>2</td>\n",
       "      <td>2</td>\n",
       "      <td>23</td>\n",
       "      <td>10.220000</td>\n",
       "      <td>9.958333</td>\n",
       "      <td>787</td>\n",
       "      <td>235</td>\n",
       "      <td>16</td>\n",
       "      <td>8.0</td>\n",
       "    </tr>\n",
       "    <tr>\n",
       "      <th>1</th>\n",
       "      <td>58f61331a385caeed17baaf54abea308426d50fe</td>\n",
       "      <td>833</td>\n",
       "      <td>109</td>\n",
       "      <td>0</td>\n",
       "      <td>2771.621849</td>\n",
       "      <td>100.0</td>\n",
       "      <td>107</td>\n",
       "      <td>0</td>\n",
       "      <td>0</td>\n",
       "      <td>2</td>\n",
       "      <td>7.642202</td>\n",
       "      <td>134.963303</td>\n",
       "      <td>525</td>\n",
       "      <td>307</td>\n",
       "      <td>5</td>\n",
       "      <td>8.0</td>\n",
       "    </tr>\n",
       "    <tr>\n",
       "      <th>2</th>\n",
       "      <td>1abf62f1e76bc5ac164061cff2a8171d6b6de657</td>\n",
       "      <td>749</td>\n",
       "      <td>100</td>\n",
       "      <td>0</td>\n",
       "      <td>2747.838451</td>\n",
       "      <td>100.0</td>\n",
       "      <td>101</td>\n",
       "      <td>1</td>\n",
       "      <td>0</td>\n",
       "      <td>7</td>\n",
       "      <td>7.490000</td>\n",
       "      <td>892.610632</td>\n",
       "      <td>415</td>\n",
       "      <td>334</td>\n",
       "      <td>7</td>\n",
       "      <td>5.0</td>\n",
       "    </tr>\n",
       "    <tr>\n",
       "      <th>3</th>\n",
       "      <td>33b16210a7736a6f75ef1b1f3cb7070a4d29395e</td>\n",
       "      <td>745</td>\n",
       "      <td>88</td>\n",
       "      <td>0</td>\n",
       "      <td>3870.371812</td>\n",
       "      <td>100.0</td>\n",
       "      <td>82</td>\n",
       "      <td>5</td>\n",
       "      <td>1</td>\n",
       "      <td>3</td>\n",
       "      <td>8.465909</td>\n",
       "      <td>707.314286</td>\n",
       "      <td>546</td>\n",
       "      <td>199</td>\n",
       "      <td>11</td>\n",
       "      <td>5.0</td>\n",
       "    </tr>\n",
       "    <tr>\n",
       "      <th>4</th>\n",
       "      <td>45e8b53fe4fc590dd9c7564fe2c6fa3ede58fbea</td>\n",
       "      <td>738</td>\n",
       "      <td>110</td>\n",
       "      <td>0</td>\n",
       "      <td>3604.070461</td>\n",
       "      <td>100.0</td>\n",
       "      <td>101</td>\n",
       "      <td>0</td>\n",
       "      <td>1</td>\n",
       "      <td>9</td>\n",
       "      <td>6.709091</td>\n",
       "      <td>8.570796</td>\n",
       "      <td>567</td>\n",
       "      <td>171</td>\n",
       "      <td>5</td>\n",
       "      <td>9.5</td>\n",
       "    </tr>\n",
       "    <tr>\n",
       "      <th>...</th>\n",
       "      <td>...</td>\n",
       "      <td>...</td>\n",
       "      <td>...</td>\n",
       "      <td>...</td>\n",
       "      <td>...</td>\n",
       "      <td>...</td>\n",
       "      <td>...</td>\n",
       "      <td>...</td>\n",
       "      <td>...</td>\n",
       "      <td>...</td>\n",
       "      <td>...</td>\n",
       "      <td>...</td>\n",
       "      <td>...</td>\n",
       "      <td>...</td>\n",
       "      <td>...</td>\n",
       "      <td>...</td>\n",
       "    </tr>\n",
       "    <tr>\n",
       "      <th>750</th>\n",
       "      <td>4932174dcf0408a7eb862930c9c6be33d30825a6</td>\n",
       "      <td>1</td>\n",
       "      <td>1</td>\n",
       "      <td>0</td>\n",
       "      <td>10000.000000</td>\n",
       "      <td>100.0</td>\n",
       "      <td>0</td>\n",
       "      <td>1</td>\n",
       "      <td>0</td>\n",
       "      <td>0</td>\n",
       "      <td>1.000000</td>\n",
       "      <td>11.000000</td>\n",
       "      <td>1</td>\n",
       "      <td>0</td>\n",
       "      <td>1</td>\n",
       "      <td>9.0</td>\n",
       "    </tr>\n",
       "    <tr>\n",
       "      <th>751</th>\n",
       "      <td>4644e181d653c04f17f76eed400fdf52a43b2237</td>\n",
       "      <td>1</td>\n",
       "      <td>0</td>\n",
       "      <td>0</td>\n",
       "      <td>0.000000</td>\n",
       "      <td>100.0</td>\n",
       "      <td>0</td>\n",
       "      <td>0</td>\n",
       "      <td>0</td>\n",
       "      <td>0</td>\n",
       "      <td>0.000000</td>\n",
       "      <td>52.000000</td>\n",
       "      <td>1</td>\n",
       "      <td>0</td>\n",
       "      <td>1</td>\n",
       "      <td>8.0</td>\n",
       "    </tr>\n",
       "    <tr>\n",
       "      <th>752</th>\n",
       "      <td>503affec12fb99997f583ed73b60262572694795</td>\n",
       "      <td>1</td>\n",
       "      <td>1</td>\n",
       "      <td>0</td>\n",
       "      <td>10000.000000</td>\n",
       "      <td>100.0</td>\n",
       "      <td>0</td>\n",
       "      <td>1</td>\n",
       "      <td>0</td>\n",
       "      <td>0</td>\n",
       "      <td>1.000000</td>\n",
       "      <td>9.000000</td>\n",
       "      <td>1</td>\n",
       "      <td>0</td>\n",
       "      <td>1</td>\n",
       "      <td>5.0</td>\n",
       "    </tr>\n",
       "    <tr>\n",
       "      <th>753</th>\n",
       "      <td>713487f0de26590bca3c759e2fef02b3a5bad9fd</td>\n",
       "      <td>1</td>\n",
       "      <td>1</td>\n",
       "      <td>0</td>\n",
       "      <td>10000.000000</td>\n",
       "      <td>100.0</td>\n",
       "      <td>0</td>\n",
       "      <td>1</td>\n",
       "      <td>0</td>\n",
       "      <td>0</td>\n",
       "      <td>1.000000</td>\n",
       "      <td>8.000000</td>\n",
       "      <td>1</td>\n",
       "      <td>0</td>\n",
       "      <td>1</td>\n",
       "      <td>5.5</td>\n",
       "    </tr>\n",
       "    <tr>\n",
       "      <th>754</th>\n",
       "      <td>79f071f88a5c4c3bd278b93f9f622e90e15a10f0</td>\n",
       "      <td>1</td>\n",
       "      <td>0</td>\n",
       "      <td>0</td>\n",
       "      <td>0.000000</td>\n",
       "      <td>100.0</td>\n",
       "      <td>0</td>\n",
       "      <td>0</td>\n",
       "      <td>0</td>\n",
       "      <td>0</td>\n",
       "      <td>0.000000</td>\n",
       "      <td>6.000000</td>\n",
       "      <td>0</td>\n",
       "      <td>1</td>\n",
       "      <td>1</td>\n",
       "      <td>5.5</td>\n",
       "    </tr>\n",
       "  </tbody>\n",
       "</table>\n",
       "<p>753 rows × 16 columns</p>\n",
       "</div>"
      ],
      "text/plain": [
       "                                     username  num_submit  \\\n",
       "0    2cd5132c3c49bd9d4d5081e386a4d69a593f850a        1022   \n",
       "1    58f61331a385caeed17baaf54abea308426d50fe         833   \n",
       "2    1abf62f1e76bc5ac164061cff2a8171d6b6de657         749   \n",
       "3    33b16210a7736a6f75ef1b1f3cb7070a4d29395e         745   \n",
       "4    45e8b53fe4fc590dd9c7564fe2c6fa3ede58fbea         738   \n",
       "..                                        ...         ...   \n",
       "750  4932174dcf0408a7eb862930c9c6be33d30825a6           1   \n",
       "751  4644e181d653c04f17f76eed400fdf52a43b2237           1   \n",
       "752  503affec12fb99997f583ed73b60262572694795           1   \n",
       "753  713487f0de26590bca3c759e2fef02b3a5bad9fd           1   \n",
       "754  79f071f88a5c4c3bd278b93f9f622e90e15a10f0           1   \n",
       "\n",
       "     num_completed_problems  num_late_submit     pre_score  coefficient  easy  \\\n",
       "0                       100                0   4413.339530        100.0    75   \n",
       "1                       109                0   2771.621849        100.0   107   \n",
       "2                       100                0   2747.838451        100.0   101   \n",
       "3                        88                0   3870.371812        100.0    82   \n",
       "4                       110                0   3604.070461        100.0   101   \n",
       "..                      ...              ...           ...          ...   ...   \n",
       "750                       1                0  10000.000000        100.0     0   \n",
       "751                       0                0      0.000000        100.0     0   \n",
       "752                       1                0  10000.000000        100.0     0   \n",
       "753                       1                0  10000.000000        100.0     0   \n",
       "754                       0                0      0.000000        100.0     0   \n",
       "\n",
       "     ex_hard  hard  medium  submit_per_problem  avg_time_per_user  \\\n",
       "0          2     2      23           10.220000           9.958333   \n",
       "1          0     0       2            7.642202         134.963303   \n",
       "2          1     0       7            7.490000         892.610632   \n",
       "3          5     1       3            8.465909         707.314286   \n",
       "4          0     1       9            6.709091           8.570796   \n",
       "..       ...   ...     ...                 ...                ...   \n",
       "750        1     0       0            1.000000          11.000000   \n",
       "751        0     0       0            0.000000          52.000000   \n",
       "752        1     0       0            1.000000           9.000000   \n",
       "753        1     0       0            1.000000           8.000000   \n",
       "754        0     0       0            0.000000           6.000000   \n",
       "\n",
       "     score_count  compilation_error_count  num_assignments   TH  \n",
       "0            787                      235               16  8.0  \n",
       "1            525                      307                5  8.0  \n",
       "2            415                      334                7  5.0  \n",
       "3            546                      199               11  5.0  \n",
       "4            567                      171                5  9.5  \n",
       "..           ...                      ...              ...  ...  \n",
       "750            1                        0                1  9.0  \n",
       "751            1                        0                1  8.0  \n",
       "752            1                        0                1  5.0  \n",
       "753            1                        0                1  5.5  \n",
       "754            0                        1                1  5.5  \n",
       "\n",
       "[753 rows x 16 columns]"
      ]
     },
     "execution_count": 20,
     "metadata": {},
     "output_type": "execute_result"
    }
   ],
   "source": [
    "th_df['TH_clean'] = th_df['TH'].astype(str).str.replace('\\xa0', '', regex=False).str.strip()\n",
    "\n",
    "th_df = th_df[th_df['TH_clean'] != '']\n",
    "\n",
    "th_df = th_df.drop(columns=['TH_clean'])\n",
    "\n",
    "th_df['TH'] = pd.to_numeric(th_df['TH'], errors='coerce')\n",
    "\n",
    "th_df"
   ]
  },
  {
   "cell_type": "code",
   "execution_count": 21,
   "id": "e3549ace",
   "metadata": {
    "execution": {
     "iopub.execute_input": "2025-06-15T03:01:47.721494Z",
     "iopub.status.busy": "2025-06-15T03:01:47.721194Z",
     "iopub.status.idle": "2025-06-15T03:01:47.725993Z",
     "shell.execute_reply": "2025-06-15T03:01:47.725016Z"
    },
    "papermill": {
     "duration": 0.020238,
     "end_time": "2025-06-15T03:01:47.728293",
     "exception": false,
     "start_time": "2025-06-15T03:01:47.708055",
     "status": "completed"
    },
    "tags": []
   },
   "outputs": [],
   "source": [
    "th_df['TH'] = th_df['TH'].astype(float)"
   ]
  },
  {
   "cell_type": "markdown",
   "id": "d9fef2b6",
   "metadata": {
    "papermill": {
     "duration": 0.012959,
     "end_time": "2025-06-15T03:01:47.754472",
     "exception": false,
     "start_time": "2025-06-15T03:01:47.741513",
     "status": "completed"
    },
    "tags": []
   },
   "source": [
    "## Chọn feature (Feature selection : Pearson Coefficient)"
   ]
  },
  {
   "cell_type": "code",
   "execution_count": null,
   "id": "23e852d9",
   "metadata": {
    "execution": {
     "iopub.execute_input": "2025-06-15T03:01:47.780887Z",
     "iopub.status.busy": "2025-06-15T03:01:47.780561Z",
     "iopub.status.idle": "2025-06-15T03:01:47.791274Z",
     "shell.execute_reply": "2025-06-15T03:01:47.790003Z"
    },
    "papermill": {
     "duration": 0.026145,
     "end_time": "2025-06-15T03:01:47.793064",
     "exception": false,
     "start_time": "2025-06-15T03:01:47.766919",
     "status": "completed"
    },
    "tags": []
   },
   "outputs": [],
   "source": [
    "numeric_cols = th_df.select_dtypes(include='number').columns\n",
    "\n",
    "correlations = th_df[numeric_cols].corr(method='pearson')\n",
    "\n",
    "th_corr = correlations['TH'].drop('TH') "
   ]
  },
  {
   "cell_type": "code",
   "execution_count": 23,
   "id": "c490a4a5",
   "metadata": {
    "execution": {
     "iopub.execute_input": "2025-06-15T03:01:47.819240Z",
     "iopub.status.busy": "2025-06-15T03:01:47.818879Z",
     "iopub.status.idle": "2025-06-15T03:01:47.825568Z",
     "shell.execute_reply": "2025-06-15T03:01:47.824324Z"
    },
    "papermill": {
     "duration": 0.021254,
     "end_time": "2025-06-15T03:01:47.826999",
     "exception": false,
     "start_time": "2025-06-15T03:01:47.805745",
     "status": "completed"
    },
    "tags": []
   },
   "outputs": [
    {
     "name": "stdout",
     "output_type": "stream",
     "text": [
      "score_count                0.384856\n",
      "num_completed_problems     0.366976\n",
      "easy                       0.331603\n",
      "num_submit                 0.331316\n",
      "medium                     0.293526\n",
      "num_assignments            0.287877\n",
      "ex_hard                    0.206032\n",
      "pre_score                  0.187059\n",
      "hard                       0.187050\n",
      "compilation_error_count    0.114755\n",
      "num_late_submit            0.089522\n",
      "avg_time_per_user          0.089324\n",
      "submit_per_problem        -0.071073\n",
      "coefficient               -0.124541\n",
      "Name: TH, dtype: float64\n"
     ]
    }
   ],
   "source": [
    "th_corr_sorted = th_corr.sort_values(ascending=False)\n",
    "print(th_corr_sorted)"
   ]
  },
  {
   "cell_type": "code",
   "execution_count": 24,
   "id": "eeed8f6d",
   "metadata": {
    "execution": {
     "iopub.execute_input": "2025-06-15T03:01:47.853800Z",
     "iopub.status.busy": "2025-06-15T03:01:47.853483Z",
     "iopub.status.idle": "2025-06-15T03:01:50.297263Z",
     "shell.execute_reply": "2025-06-15T03:01:50.296285Z"
    },
    "papermill": {
     "duration": 2.458889,
     "end_time": "2025-06-15T03:01:50.299056",
     "exception": false,
     "start_time": "2025-06-15T03:01:47.840167",
     "status": "completed"
    },
    "tags": []
   },
   "outputs": [
    {
     "data": {
      "image/png": "[encoded data removed]",
      "text/plain": [
       "<Figure size 800x600 with 2 Axes>"
      ]
     },
     "metadata": {},
     "output_type": "display_data"
    }
   ],
   "source": [
    "import seaborn as sns\n",
    "import matplotlib.pyplot as plt\n",
    "\n",
    "plt.figure(figsize=(8, 6))\n",
    "sns.heatmap(th_corr_sorted.to_frame(), annot=True, cmap='coolwarm')\n",
    "plt.title('Pearson Correlation với TH')\n",
    "plt.show()"
   ]
  },
  {
   "cell_type": "code",
   "execution_count": 25,
   "id": "f76eadfe",
   "metadata": {
    "execution": {
     "iopub.execute_input": "2025-06-15T03:01:50.327352Z",
     "iopub.status.busy": "2025-06-15T03:01:50.326877Z",
     "iopub.status.idle": "2025-06-15T03:01:50.333585Z",
     "shell.execute_reply": "2025-06-15T03:01:50.332766Z"
    },
    "papermill": {
     "duration": 0.022453,
     "end_time": "2025-06-15T03:01:50.335118",
     "exception": false,
     "start_time": "2025-06-15T03:01:50.312665",
     "status": "completed"
    },
    "tags": []
   },
   "outputs": [
    {
     "data": {
      "text/plain": [
       "['num_submit',\n",
       " 'num_completed_problems',\n",
       " 'num_late_submit',\n",
       " 'pre_score',\n",
       " 'easy',\n",
       " 'ex_hard',\n",
       " 'hard',\n",
       " 'medium',\n",
       " 'avg_time_per_user',\n",
       " 'score_count',\n",
       " 'compilation_error_count',\n",
       " 'num_assignments']"
      ]
     },
     "execution_count": 25,
     "metadata": {},
     "output_type": "execute_result"
    }
   ],
   "source": [
    "chosen_features = th_corr[th_corr > 0.05].index.to_list()\n",
    "chosen_features"
   ]
  },
  {
   "cell_type": "markdown",
   "id": "304b83af",
   "metadata": {
    "papermill": {
     "duration": 0.013544,
     "end_time": "2025-06-15T03:01:50.362552",
     "exception": false,
     "start_time": "2025-06-15T03:01:50.349008",
     "status": "completed"
    },
    "tags": []
   },
   "source": [
    "# **Modeling**"
   ]
  },
  {
   "cell_type": "markdown",
   "id": "ac12864b",
   "metadata": {
    "papermill": {
     "duration": 0.013122,
     "end_time": "2025-06-15T03:01:50.388880",
     "exception": false,
     "start_time": "2025-06-15T03:01:50.375758",
     "status": "completed"
    },
    "tags": []
   },
   "source": [
    "## Chuẩn bị dữ liệu train, test"
   ]
  },
  {
   "cell_type": "code",
   "execution_count": null,
   "id": "11f4f40a",
   "metadata": {
    "execution": {
     "iopub.execute_input": "2025-06-15T03:01:50.416519Z",
     "iopub.status.busy": "2025-06-15T03:01:50.416205Z",
     "iopub.status.idle": "2025-06-15T03:01:50.777946Z",
     "shell.execute_reply": "2025-06-15T03:01:50.776729Z"
    },
    "papermill": {
     "duration": 0.37789,
     "end_time": "2025-06-15T03:01:50.780048",
     "exception": false,
     "start_time": "2025-06-15T03:01:50.402158",
     "status": "completed"
    },
    "tags": []
   },
   "outputs": [],
   "source": [
    "from sklearn.model_selection import train_test_split\n",
    "from sklearn.metrics import mean_squared_error, r2_score\n",
    "import pandas as pd\n",
    "from sklearn.model_selection import GridSearchCV\n",
    "from sklearn.preprocessing import StandardScaler\n",
    "from sklearn.pipeline import Pipeline\n",
    "\n",
    "features = chosen_features\n",
    "target = 'TH'\n",
    "\n",
    "X = th_df[features]\n",
    "y = th_df[target]\n",
    "X_train, X_test, y_train, y_test = train_test_split(X, y, test_size=0.2, random_state=42)"
   ]
  },
  {
   "cell_type": "markdown",
   "id": "dc73840f",
   "metadata": {
    "papermill": {
     "duration": 0.013082,
     "end_time": "2025-06-15T03:01:50.807242",
     "exception": false,
     "start_time": "2025-06-15T03:01:50.794160",
     "status": "completed"
    },
    "tags": []
   },
   "source": [
    "## SVR"
   ]
  },
  {
   "cell_type": "code",
   "execution_count": null,
   "id": "6da14e1a",
   "metadata": {
    "execution": {
     "iopub.execute_input": "2025-06-15T03:01:50.836407Z",
     "iopub.status.busy": "2025-06-15T03:01:50.836037Z",
     "iopub.status.idle": "2025-06-15T03:07:05.213644Z",
     "shell.execute_reply": "2025-06-15T03:07:05.212664Z"
    },
    "papermill": {
     "duration": 314.407072,
     "end_time": "2025-06-15T03:07:05.227886",
     "exception": false,
     "start_time": "2025-06-15T03:01:50.820814",
     "status": "completed"
    },
    "tags": []
   },
   "outputs": [
    {
     "name": "stdout",
     "output_type": "stream",
     "text": [
      "Fitting 5 folds for each of 200 candidates, totalling 1000 fits\n",
      "Best parameters: {'svr__C': 10, 'svr__epsilon': 1.0, 'svr__gamma': 'scale', 'svr__kernel': 'rbf'}\n",
      "Best R² score (validation): 0.28453466756378176\n",
      "Test RMSE: 2.0671460396731938\n",
      "Test R² score: 0.15956501153617197\n"
     ]
    }
   ],
   "source": [
    "from sklearn.svm import SVR\n",
    "\n",
    "pipeline = Pipeline([\n",
    "    ('scaler', StandardScaler()),\n",
    "    ('svr', SVR())\n",
    "])\n",
    "\n",
    "param_grid = {\n",
    "    'svr__kernel': ['linear', 'rbf', 'poly', 'sigmoid'],\n",
    "    'svr__C': [0.1, 1, 10, 100, 1000],\n",
    "    'svr__gamma': ['scale', 'auto'],\n",
    "    'svr__epsilon': [0.01, 0.1, 0.2, 0.5, 1.0]\n",
    "}\n",
    "\n",
    "grid_search = GridSearchCV(estimator=pipeline,\n",
    "                           param_grid=param_grid,\n",
    "                           scoring='r2',\n",
    "                           cv=5,\n",
    "                           n_jobs=-1,\n",
    "                           verbose=1)\n",
    "\n",
    "grid_search.fit(X_train, y_train)\n",
    "\n",
    "print(\"Best parameters:\", grid_search.best_params_)\n",
    "print(\"Best R² score (validation):\", grid_search.best_score_)\n",
    "\n",
    "best_model = grid_search.best_estimator_\n",
    "y_pred = best_model.predict(X_test)\n",
    "\n",
    "print(\"Test RMSE:\", mean_squared_error(y_test, y_pred, squared=False))\n",
    "print(\"Test R² score:\", r2_score(y_test, y_pred))\n"
   ]
  },
  {
   "cell_type": "code",
   "execution_count": null,
   "id": "6ee82565",
   "metadata": {
    "execution": {
     "iopub.execute_input": "2025-06-15T03:07:05.256231Z",
     "iopub.status.busy": "2025-06-15T03:07:05.255872Z",
     "iopub.status.idle": "2025-06-15T03:07:05.341174Z",
     "shell.execute_reply": "2025-06-15T03:07:05.340028Z"
    },
    "papermill": {
     "duration": 0.101559,
     "end_time": "2025-06-15T03:07:05.342753",
     "exception": false,
     "start_time": "2025-06-15T03:07:05.241194",
     "status": "completed"
    },
    "tags": []
   },
   "outputs": [
    {
     "name": "stdout",
     "output_type": "stream",
     "text": [
      "                                   username  predicted_TH\n",
      "0  9f605b4802c811805adc38ae19035ded09a5e4b5      6.979445\n",
      "1  2cd5132c3c49bd9d4d5081e386a4d69a593f850a      7.318531\n",
      "2  58f61331a385caeed17baaf54abea308426d50fe      7.044721\n",
      "3  1abf62f1e76bc5ac164061cff2a8171d6b6de657      7.282417\n",
      "4  33b16210a7736a6f75ef1b1f3cb7070a4d29395e      6.000295\n"
     ]
    }
   ],
   "source": [
    "summary_features = summary_df[features]\n",
    "\n",
    "summary_df['predicted_TH'] = best_model.predict(summary_features)\n",
    "\n",
    "print(summary_df[['username', 'predicted_TH']].head())\n",
    "\n",
    "summary_df[['username', 'predicted_TH']].to_csv(\n",
    "    'svr_predict.txt', index=False, header=False\n",
    ")"
   ]
  },
  {
   "cell_type": "code",
   "execution_count": null,
   "id": "a6aa1341",
   "metadata": {
    "execution": {
     "iopub.execute_input": "2025-06-15T03:07:05.371447Z",
     "iopub.status.busy": "2025-06-15T03:07:05.371056Z",
     "iopub.status.idle": "2025-06-15T03:07:05.388992Z",
     "shell.execute_reply": "2025-06-15T03:07:05.388216Z"
    },
    "papermill": {
     "duration": 0.034267,
     "end_time": "2025-06-15T03:07:05.390672",
     "exception": false,
     "start_time": "2025-06-15T03:07:05.356405",
     "status": "completed"
    },
    "tags": []
   },
   "outputs": [],
   "source": [
    "\n",
    "merged = summary_df.merge(th_df[['username', 'TH']], on='username', how='left')\n",
    "\n",
    "merged['final_TH'] = merged['TH'].fillna(merged['predicted_TH'])\n",
    "\n",
    "merged[['username', 'final_TH']].to_csv('svr_predictions_with_groundtruth.txt', index=False, header=False)"
   ]
  },
  {
   "cell_type": "markdown",
   "id": "a7a45726",
   "metadata": {
    "papermill": {
     "duration": 0.01322,
     "end_time": "2025-06-15T03:07:05.417340",
     "exception": false,
     "start_time": "2025-06-15T03:07:05.404120",
     "status": "completed"
    },
    "tags": []
   },
   "source": [
    "## Linear Regression"
   ]
  },
  {
   "cell_type": "code",
   "execution_count": null,
   "id": "87f6f4ec",
   "metadata": {
    "execution": {
     "iopub.execute_input": "2025-06-15T03:07:05.447516Z",
     "iopub.status.busy": "2025-06-15T03:07:05.447208Z",
     "iopub.status.idle": "2025-06-15T03:07:05.577374Z",
     "shell.execute_reply": "2025-06-15T03:07:05.576293Z"
    },
    "papermill": {
     "duration": 0.14832,
     "end_time": "2025-06-15T03:07:05.579154",
     "exception": false,
     "start_time": "2025-06-15T03:07:05.430834",
     "status": "completed"
    },
    "tags": []
   },
   "outputs": [
    {
     "name": "stdout",
     "output_type": "stream",
     "text": [
      "Fitting 5 folds for each of 4 candidates, totalling 20 fits\n",
      "Best parameters: {'model__fit_intercept': True, 'model__positive': False}\n",
      "Best R² score (validation): 0.20494871764532965\n",
      "Test RMSE: 2.0613668545557315\n",
      "Test R² score: 0.1642577035953069\n"
     ]
    }
   ],
   "source": [
    "from sklearn.linear_model import LinearRegression\n",
    "\n",
    "pipeline = Pipeline([\n",
    "    ('scaler', StandardScaler()),\n",
    "    ('model', LinearRegression())\n",
    "])\n",
    "\n",
    "param_grid = {\n",
    "    'model__fit_intercept': [True, False],\n",
    "    'model__positive': [True, False]  \n",
    "}\n",
    "\n",
    "grid_search = GridSearchCV(estimator=pipeline,\n",
    "                           param_grid=param_grid,\n",
    "                           scoring='r2',\n",
    "                           cv=5,\n",
    "                           n_jobs=-1,\n",
    "                           verbose=1)\n",
    "\n",
    "grid_search.fit(X_train, y_train)\n",
    "\n",
    "print(\"Best parameters:\", grid_search.best_params_)\n",
    "print(\"Best R² score (validation):\", grid_search.best_score_)\n",
    "\n",
    "best_model = grid_search.best_estimator_\n",
    "y_pred = best_model.predict(X_test)\n",
    "\n",
    "print(\"Test RMSE:\", mean_squared_error(y_test, y_pred, squared=False))\n",
    "print(\"Test R² score:\", r2_score(y_test, y_pred))"
   ]
  },
  {
   "cell_type": "code",
   "execution_count": null,
   "id": "bb3eb1a2",
   "metadata": {
    "execution": {
     "iopub.execute_input": "2025-06-15T03:07:05.608401Z",
     "iopub.status.busy": "2025-06-15T03:07:05.608077Z",
     "iopub.status.idle": "2025-06-15T03:07:05.629836Z",
     "shell.execute_reply": "2025-06-15T03:07:05.628641Z"
    },
    "papermill": {
     "duration": 0.038599,
     "end_time": "2025-06-15T03:07:05.631596",
     "exception": false,
     "start_time": "2025-06-15T03:07:05.592997",
     "status": "completed"
    },
    "tags": []
   },
   "outputs": [
    {
     "name": "stdout",
     "output_type": "stream",
     "text": [
      "                                   username  predicted_TH\n",
      "0  9f605b4802c811805adc38ae19035ded09a5e4b5      7.514492\n",
      "1  2cd5132c3c49bd9d4d5081e386a4d69a593f850a     10.884908\n",
      "2  58f61331a385caeed17baaf54abea308426d50fe      6.382417\n",
      "3  1abf62f1e76bc5ac164061cff2a8171d6b6de657      6.221840\n",
      "4  33b16210a7736a6f75ef1b1f3cb7070a4d29395e      8.614151\n"
     ]
    }
   ],
   "source": [
    "summary_features = summary_df[features]\n",
    "\n",
    "summary_df['predicted_TH'] = best_model.predict(summary_features)\n",
    "\n",
    "print(summary_df[['username', 'predicted_TH']].head())\n",
    "\n",
    "summary_df[['username', 'predicted_TH']].to_csv(\n",
    "    'linearregression_predict.txt', index=False, header=False\n",
    ")"
   ]
  },
  {
   "cell_type": "code",
   "execution_count": null,
   "id": "e9804e26",
   "metadata": {
    "execution": {
     "iopub.execute_input": "2025-06-15T03:07:05.660793Z",
     "iopub.status.busy": "2025-06-15T03:07:05.659978Z",
     "iopub.status.idle": "2025-06-15T03:07:05.677204Z",
     "shell.execute_reply": "2025-06-15T03:07:05.675871Z"
    },
    "papermill": {
     "duration": 0.033605,
     "end_time": "2025-06-15T03:07:05.679117",
     "exception": false,
     "start_time": "2025-06-15T03:07:05.645512",
     "status": "completed"
    },
    "tags": []
   },
   "outputs": [],
   "source": [
    "\n",
    "merged = summary_df.merge(th_df[['username', 'TH']], on='username', how='left')\n",
    "\n",
    "merged['final_TH'] = merged['TH'].fillna(merged['predicted_TH'])\n",
    "\n",
    "merged[['username', 'final_TH']].to_csv('lr_predictions_with_groundtruth.txt', index=False, header=False)"
   ]
  },
  {
   "cell_type": "markdown",
   "id": "49c67756",
   "metadata": {
    "papermill": {
     "duration": 0.013309,
     "end_time": "2025-06-15T03:07:05.706999",
     "exception": false,
     "start_time": "2025-06-15T03:07:05.693690",
     "status": "completed"
    },
    "tags": []
   },
   "source": [
    "## Ridge Regression"
   ]
  },
  {
   "cell_type": "code",
   "execution_count": null,
   "id": "38164b3f",
   "metadata": {
    "execution": {
     "iopub.execute_input": "2025-06-15T03:07:05.737136Z",
     "iopub.status.busy": "2025-06-15T03:07:05.736770Z",
     "iopub.status.idle": "2025-06-15T03:07:06.441195Z",
     "shell.execute_reply": "2025-06-15T03:07:06.440114Z"
    },
    "papermill": {
     "duration": 0.722589,
     "end_time": "2025-06-15T03:07:06.443039",
     "exception": false,
     "start_time": "2025-06-15T03:07:05.720450",
     "status": "completed"
    },
    "tags": []
   },
   "outputs": [
    {
     "name": "stdout",
     "output_type": "stream",
     "text": [
      "Fitting 5 folds for each of 50 candidates, totalling 250 fits\n",
      "Best parameters: {'model__alpha': 1, 'model__fit_intercept': True, 'model__solver': 'lsqr'}\n",
      "Best R² score (validation): 0.21165679902446569\n",
      "Test RMSE: 2.0558732213201307\n",
      "Test R² score: 0.1687063476479418\n"
     ]
    },
    {
     "name": "stderr",
     "output_type": "stream",
     "text": [
      "/usr/local/lib/python3.11/dist-packages/sklearn/model_selection/_validation.py:378: FitFailedWarning: \n",
      "50 fits failed out of a total of 250.\n",
      "The score on these train-test partitions for these parameters will be set to nan.\n",
      "If these failures are not expected, you can try to debug them by setting error_score='raise'.\n",
      "\n",
      "Below are more details about the failures:\n",
      "--------------------------------------------------------------------------------\n",
      "50 fits failed with the following error:\n",
      "Traceback (most recent call last):\n",
      "  File \"/usr/local/lib/python3.11/dist-packages/sklearn/linear_model/_ridge.py\", line 129, in _solve_sparse_cg\n",
      "    coefs[i], info = sp_linalg.cg(\n",
      "                     ^^^^^^^^^^^^^\n",
      "TypeError: cg() got an unexpected keyword argument 'tol'\n",
      "\n",
      "During handling of the above exception, another exception occurred:\n",
      "\n",
      "Traceback (most recent call last):\n",
      "  File \"/usr/local/lib/python3.11/dist-packages/sklearn/model_selection/_validation.py\", line 686, in _fit_and_score\n",
      "    estimator.fit(X_train, y_train, **fit_params)\n",
      "  File \"/usr/local/lib/python3.11/dist-packages/sklearn/pipeline.py\", line 405, in fit\n",
      "    self._final_estimator.fit(Xt, y, **fit_params_last_step)\n",
      "  File \"/usr/local/lib/python3.11/dist-packages/sklearn/linear_model/_ridge.py\", line 1134, in fit\n",
      "    return super().fit(X, y, sample_weight=sample_weight)\n",
      "           ^^^^^^^^^^^^^^^^^^^^^^^^^^^^^^^^^^^^^^^^^^^^^^\n",
      "  File \"/usr/local/lib/python3.11/dist-packages/sklearn/linear_model/_ridge.py\", line 900, in fit\n",
      "    self.coef_, self.n_iter_ = _ridge_regression(\n",
      "                               ^^^^^^^^^^^^^^^^^^\n",
      "  File \"/usr/local/lib/python3.11/dist-packages/sklearn/linear_model/_ridge.py\", line 671, in _ridge_regression\n",
      "    coef = _solve_sparse_cg(\n",
      "           ^^^^^^^^^^^^^^^^^\n",
      "  File \"/usr/local/lib/python3.11/dist-packages/sklearn/linear_model/_ridge.py\", line 134, in _solve_sparse_cg\n",
      "    coefs[i], info = sp_linalg.cg(C, y_column, maxiter=max_iter, tol=tol)\n",
      "                     ^^^^^^^^^^^^^^^^^^^^^^^^^^^^^^^^^^^^^^^^^^^^^^^^^^^^\n",
      "TypeError: cg() got an unexpected keyword argument 'tol'\n",
      "\n",
      "  warnings.warn(some_fits_failed_message, FitFailedWarning)\n",
      "/usr/local/lib/python3.11/dist-packages/sklearn/model_selection/_search.py:952: UserWarning: One or more of the test scores are non-finite: [  0.21077136   0.21077136   0.21077136   0.21079697          nan\n",
      " -11.58921619 -11.58921619 -11.58921619 -11.58918273          nan\n",
      "   0.2109459    0.2109459    0.2109459    0.21094845          nan\n",
      " -11.58890505 -11.58890505 -11.58890505 -11.58890161          nan\n",
      "   0.21165656   0.21165656   0.21165656   0.2116568           nan\n",
      " -11.58690132 -11.58690132 -11.58690132 -11.58670478          nan\n",
      "   0.21012056   0.21012056   0.21012056   0.21012724          nan\n",
      " -11.58283403 -11.58283403 -11.58283403 -11.58314164          nan\n",
      "   0.20011844   0.20011844   0.20011844   0.20012465          nan\n",
      " -11.58867884 -11.58867884 -11.58867884 -11.58886191          nan]\n",
      "  warnings.warn(\n"
     ]
    }
   ],
   "source": [
    "from sklearn.linear_model import Ridge\n",
    "\n",
    "pipeline = Pipeline([\n",
    "    ('scaler', StandardScaler()),\n",
    "    ('model', Ridge())\n",
    "])\n",
    "\n",
    "param_grid = {\n",
    "    'model__alpha': [0.01, 0.1, 1, 10, 100],             \n",
    "    'model__fit_intercept': [True, False],\n",
    "    'model__solver': ['auto', 'svd', 'cholesky', 'lsqr', 'sparse_cg']\n",
    "}\n",
    "\n",
    "grid_search = GridSearchCV(estimator=pipeline,\n",
    "                           param_grid=param_grid,\n",
    "                           scoring='r2',\n",
    "                           cv=5,\n",
    "                           n_jobs=-1,\n",
    "                           verbose=1)\n",
    "\n",
    "grid_search.fit(X_train, y_train)\n",
    "\n",
    "print(\"Best parameters:\", grid_search.best_params_)\n",
    "print(\"Best R² score (validation):\", grid_search.best_score_)\n",
    "\n",
    "best_model = grid_search.best_estimator_\n",
    "y_pred = best_model.predict(X_test)\n",
    "\n",
    "print(\"Test RMSE:\", mean_squared_error(y_test, y_pred, squared=False))\n",
    "print(\"Test R² score:\", r2_score(y_test, y_pred))"
   ]
  },
  {
   "cell_type": "code",
   "execution_count": null,
   "id": "939fcdf4",
   "metadata": {
    "execution": {
     "iopub.execute_input": "2025-06-15T03:07:06.473618Z",
     "iopub.status.busy": "2025-06-15T03:07:06.473305Z",
     "iopub.status.idle": "2025-06-15T03:07:06.496277Z",
     "shell.execute_reply": "2025-06-15T03:07:06.495119Z"
    },
    "papermill": {
     "duration": 0.040463,
     "end_time": "2025-06-15T03:07:06.498259",
     "exception": false,
     "start_time": "2025-06-15T03:07:06.457796",
     "status": "completed"
    },
    "tags": []
   },
   "outputs": [
    {
     "name": "stdout",
     "output_type": "stream",
     "text": [
      "                                   username  predicted_TH\n",
      "0  9f605b4802c811805adc38ae19035ded09a5e4b5      7.546152\n",
      "1  2cd5132c3c49bd9d4d5081e386a4d69a593f850a     10.885839\n",
      "2  58f61331a385caeed17baaf54abea308426d50fe      6.714701\n",
      "3  1abf62f1e76bc5ac164061cff2a8171d6b6de657      6.057111\n",
      "4  33b16210a7736a6f75ef1b1f3cb7070a4d29395e      8.604299\n"
     ]
    }
   ],
   "source": [
    "summary_features = summary_df[features]\n",
    "\n",
    "summary_df['predicted_TH'] = best_model.predict(summary_features)\n",
    "\n",
    "print(summary_df[['username', 'predicted_TH']].head())\n",
    "\n",
    "summary_df[['username', 'predicted_TH']].to_csv(\n",
    "    'ridgeregression_predict.txt', index=False, header=False\n",
    ")"
   ]
  },
  {
   "cell_type": "code",
   "execution_count": null,
   "id": "5a5dafb5",
   "metadata": {
    "execution": {
     "iopub.execute_input": "2025-06-15T03:07:06.528851Z",
     "iopub.status.busy": "2025-06-15T03:07:06.528449Z",
     "iopub.status.idle": "2025-06-15T03:07:06.546530Z",
     "shell.execute_reply": "2025-06-15T03:07:06.545467Z"
    },
    "papermill": {
     "duration": 0.035537,
     "end_time": "2025-06-15T03:07:06.548423",
     "exception": false,
     "start_time": "2025-06-15T03:07:06.512886",
     "status": "completed"
    },
    "tags": []
   },
   "outputs": [],
   "source": [
    "\n",
    "merged = summary_df.merge(th_df[['username', 'TH']], on='username', how='left')\n",
    "\n",
    "merged['final_TH'] = merged['TH'].fillna(merged['predicted_TH'])\n",
    "\n",
    "merged[['username', 'final_TH']].to_csv('rr_predictions_with_groundtruth.txt', index=False, header=False)"
   ]
  },
  {
   "cell_type": "markdown",
   "id": "b82e46c3",
   "metadata": {
    "papermill": {
     "duration": 0.013999,
     "end_time": "2025-06-15T03:07:06.578028",
     "exception": false,
     "start_time": "2025-06-15T03:07:06.564029",
     "status": "completed"
    },
    "tags": []
   },
   "source": [
    "## CatBoost"
   ]
  },
  {
   "cell_type": "code",
   "execution_count": null,
   "id": "02231086",
   "metadata": {
    "execution": {
     "iopub.execute_input": "2025-06-15T03:07:06.608404Z",
     "iopub.status.busy": "2025-06-15T03:07:06.608043Z",
     "iopub.status.idle": "2025-06-15T04:27:39.310051Z",
     "shell.execute_reply": "2025-06-15T04:27:39.308921Z"
    },
    "papermill": {
     "duration": 4832.733781,
     "end_time": "2025-06-15T04:27:39.326621",
     "exception": false,
     "start_time": "2025-06-15T03:07:06.592840",
     "status": "completed"
    },
    "tags": []
   },
   "outputs": [
    {
     "name": "stdout",
     "output_type": "stream",
     "text": [
      "Fitting 5 folds for each of 720 candidates, totalling 3600 fits\n",
      "Best parameters: {'bootstrap_type': 'MVS', 'depth': 6, 'iterations': 500, 'l2_leaf_reg': 5, 'learning_rate': 0.05}\n",
      "Best R² score (validation): 0.3730591141627991\n",
      "Test RMSE: 1.984040050721306\n",
      "Test R² score: 0.22578305121003128\n"
     ]
    }
   ],
   "source": [
    "from catboost import CatBoostRegressor\n",
    "\n",
    "model = CatBoostRegressor(verbose=0, random_state=42)\n",
    "\n",
    "# Các tham số cần dò\n",
    "# param_grid = {\n",
    "#     'iterations': [50, 100, 300, 500],\n",
    "#     'depth': [4, 6, 8, 10, 12],\n",
    "#     'learning_rate': [0.001, 0.01, 0.05, 0.1],\n",
    "#     'l2_leaf_reg': [1, 3, 5, 7, 9]\n",
    "# }\n",
    "\n",
    "param_grid = {\n",
    "    'iterations': [100, 300, 500],\n",
    "    'depth': [4, 6, 8, 10],\n",
    "    'learning_rate': [0.001, 0.01, 0.05, 0.1],\n",
    "    'l2_leaf_reg': [1, 3, 5, 7, 9],\n",
    "    'bootstrap_type': ['Bayesian', 'Bernoulli', 'MVS'],\n",
    "}\n",
    "\n",
    "\n",
    "grid_search = GridSearchCV(estimator=model, param_grid=param_grid,\n",
    "                           scoring='r2', cv=5, n_jobs=-1, verbose=1)\n",
    "\n",
    "grid_search.fit(X_train, y_train)\n",
    "\n",
    "print(\"Best parameters:\", grid_search.best_params_)\n",
    "print(\"Best R² score (validation):\", grid_search.best_score_)\n",
    "\n",
    "best_model = grid_search.best_estimator_\n",
    "y_pred = best_model.predict(X_test)\n",
    "\n",
    "from sklearn.metrics import mean_squared_error, r2_score\n",
    "print(\"Test RMSE:\", mean_squared_error(y_test, y_pred, squared=False))\n",
    "print(\"Test R² score:\", r2_score(y_test, y_pred))"
   ]
  },
  {
   "cell_type": "code",
   "execution_count": null,
   "id": "ba5a1157",
   "metadata": {
    "execution": {
     "iopub.execute_input": "2025-06-15T04:27:39.355894Z",
     "iopub.status.busy": "2025-06-15T04:27:39.355605Z",
     "iopub.status.idle": "2025-06-15T04:27:39.380015Z",
     "shell.execute_reply": "2025-06-15T04:27:39.378942Z"
    },
    "papermill": {
     "duration": 0.040883,
     "end_time": "2025-06-15T04:27:39.381475",
     "exception": false,
     "start_time": "2025-06-15T04:27:39.340592",
     "status": "completed"
    },
    "tags": []
   },
   "outputs": [
    {
     "name": "stdout",
     "output_type": "stream",
     "text": [
      "                                   username  predicted_TH\n",
      "0  9f605b4802c811805adc38ae19035ded09a5e4b5      6.716002\n",
      "1  2cd5132c3c49bd9d4d5081e386a4d69a593f850a      7.850497\n",
      "2  58f61331a385caeed17baaf54abea308426d50fe      7.623511\n",
      "3  1abf62f1e76bc5ac164061cff2a8171d6b6de657      7.107603\n",
      "4  33b16210a7736a6f75ef1b1f3cb7070a4d29395e      6.494309\n"
     ]
    }
   ],
   "source": [
    "summary_features = summary_df[features]\n",
    "\n",
    "summary_df['predicted_TH'] = best_model.predict(summary_features)\n",
    "\n",
    "print(summary_df[['username', 'predicted_TH']].head())\n",
    "\n",
    "summary_df[['username', 'predicted_TH']].to_csv(\n",
    "    'catboost_predict.txt', index=False, header=False\n",
    ")"
   ]
  },
  {
   "cell_type": "code",
   "execution_count": null,
   "id": "741c15ad",
   "metadata": {
    "execution": {
     "iopub.execute_input": "2025-06-15T04:27:39.410589Z",
     "iopub.status.busy": "2025-06-15T04:27:39.410284Z",
     "iopub.status.idle": "2025-06-15T04:27:39.428830Z",
     "shell.execute_reply": "2025-06-15T04:27:39.427762Z"
    },
    "papermill": {
     "duration": 0.034855,
     "end_time": "2025-06-15T04:27:39.430424",
     "exception": false,
     "start_time": "2025-06-15T04:27:39.395569",
     "status": "completed"
    },
    "tags": []
   },
   "outputs": [],
   "source": [
    "\n",
    "merged = summary_df.merge(th_df[['username', 'TH']], on='username', how='left')\n",
    "\n",
    "merged['final_TH'] = merged['TH'].fillna(merged['predicted_TH'])\n",
    "\n",
    "merged[['username', 'final_TH']].to_csv('catb_predictions_with_groundtruth.txt', index=False, header=False)"
   ]
  },
  {
   "cell_type": "markdown",
   "id": "99483fa4",
   "metadata": {
    "papermill": {
     "duration": 0.013891,
     "end_time": "2025-06-15T04:27:39.458237",
     "exception": false,
     "start_time": "2025-06-15T04:27:39.444346",
     "status": "completed"
    },
    "tags": []
   },
   "source": [
    "## XGBoost"
   ]
  },
  {
   "cell_type": "code",
   "execution_count": null,
   "id": "fbfe045a",
   "metadata": {
    "execution": {
     "iopub.execute_input": "2025-06-15T04:27:39.487660Z",
     "iopub.status.busy": "2025-06-15T04:27:39.487317Z",
     "iopub.status.idle": "2025-06-15T05:35:24.801958Z",
     "shell.execute_reply": "2025-06-15T05:35:24.800612Z"
    },
    "papermill": {
     "duration": 4065.350485,
     "end_time": "2025-06-15T05:35:24.822784",
     "exception": false,
     "start_time": "2025-06-15T04:27:39.472299",
     "status": "completed"
    },
    "tags": []
   },
   "outputs": [
    {
     "name": "stdout",
     "output_type": "stream",
     "text": [
      "Fitting 5 folds for each of 11664 candidates, totalling 58320 fits\n",
      "Best parameters: {'colsample_bytree': 1.0, 'gamma': 0, 'learning_rate': 0.05, 'max_depth': 7, 'n_estimators': 100, 'reg_alpha': 0, 'reg_lambda': 5, 'subsample': 0.6}\n",
      "Best cross-validation R²: 0.38182492922504807\n",
      "Test RMSE: 1.9732584758188936\n",
      "Test R² score: 0.2341746135002497\n"
     ]
    }
   ],
   "source": [
    "from sklearn.model_selection import GridSearchCV\n",
    "from xgboost import XGBRegressor\n",
    "\n",
    "model = XGBRegressor(\n",
    "    objective='reg:squarederror',\n",
    "    random_state=42,\n",
    "    verbosity=0  # Tắt log của XGBoost\n",
    ")\n",
    "\n",
    "# Grid các tham số cần dò\n",
    "# param_grid = {\n",
    "#     'n_estimators': [20, 50, 100, 200, 300],\n",
    "#     'max_depth': [1, 3, 5, 7, 9],\n",
    "#     'learning_rate': [0.001, 0.01, 0.05, 0.1],\n",
    "#     'subsample': [0.4, 0.6, 0.8, 1.0],\n",
    "#     'colsample_bytree': [0.8, 1.0]\n",
    "# }\n",
    "\n",
    "param_grid = {\n",
    "    'n_estimators': [50, 100, 300],\n",
    "    'max_depth': [3, 5, 7, 10],\n",
    "    'learning_rate': [0.001, 0.01, 0.05, 0.1],\n",
    "    'subsample': [0.6, 0.8, 1.0],\n",
    "    'colsample_bytree': [0.6, 0.8, 1.0],\n",
    "    'gamma': [0, 1, 5],\n",
    "    'reg_alpha': [0, 0.1, 1],\n",
    "    'reg_lambda': [1, 3, 5]   \n",
    "}\n",
    "\n",
    "\n",
    "grid_search = GridSearchCV(estimator=model,\n",
    "                           param_grid=param_grid,\n",
    "                           scoring='r2',\n",
    "                           cv=5,\n",
    "                           n_jobs=-1,\n",
    "                           verbose=1)\n",
    "\n",
    "grid_search.fit(X_train, y_train)\n",
    "\n",
    "print(\"Best parameters:\", grid_search.best_params_)\n",
    "print(\"Best cross-validation R²:\", grid_search.best_score_)\n",
    "\n",
    "best_model = grid_search.best_estimator_\n",
    "y_pred = best_model.predict(X_test)\n",
    "\n",
    "from sklearn.metrics import mean_squared_error, r2_score\n",
    "rmse = mean_squared_error(y_test, y_pred, squared=False)\n",
    "r2 = r2_score(y_test, y_pred)\n",
    "print(f\"Test RMSE: {rmse}\")\n",
    "print(f\"Test R² score: {r2}\")\n"
   ]
  },
  {
   "cell_type": "code",
   "execution_count": null,
   "id": "0fd76a68",
   "metadata": {
    "execution": {
     "iopub.execute_input": "2025-06-15T05:35:24.853358Z",
     "iopub.status.busy": "2025-06-15T05:35:24.852992Z",
     "iopub.status.idle": "2025-06-15T05:35:24.877609Z",
     "shell.execute_reply": "2025-06-15T05:35:24.876668Z"
    },
    "papermill": {
     "duration": 0.041588,
     "end_time": "2025-06-15T05:35:24.879250",
     "exception": false,
     "start_time": "2025-06-15T05:35:24.837662",
     "status": "completed"
    },
    "tags": []
   },
   "outputs": [
    {
     "name": "stdout",
     "output_type": "stream",
     "text": [
      "                                   username  predicted_TH\n",
      "0  9f605b4802c811805adc38ae19035ded09a5e4b5      6.701309\n",
      "1  2cd5132c3c49bd9d4d5081e386a4d69a593f850a      8.085752\n",
      "2  58f61331a385caeed17baaf54abea308426d50fe      7.850435\n",
      "3  1abf62f1e76bc5ac164061cff2a8171d6b6de657      7.374716\n",
      "4  33b16210a7736a6f75ef1b1f3cb7070a4d29395e      6.871890\n"
     ]
    }
   ],
   "source": [
    "summary_features = summary_df[features]\n",
    "\n",
    "summary_df['predicted_TH'] = best_model.predict(summary_features)\n",
    "\n",
    "print(summary_df[['username', 'predicted_TH']].head())\n",
    "\n",
    "summary_df[['username', 'predicted_TH']].to_csv(\n",
    "    'xgboost_predict.txt', index=False, header=False\n",
    ")"
   ]
  },
  {
   "cell_type": "code",
   "execution_count": null,
   "id": "f474291f",
   "metadata": {
    "execution": {
     "iopub.execute_input": "2025-06-15T05:35:24.909421Z",
     "iopub.status.busy": "2025-06-15T05:35:24.909088Z",
     "iopub.status.idle": "2025-06-15T05:35:24.929570Z",
     "shell.execute_reply": "2025-06-15T05:35:24.928281Z"
    },
    "papermill": {
     "duration": 0.037422,
     "end_time": "2025-06-15T05:35:24.931217",
     "exception": false,
     "start_time": "2025-06-15T05:35:24.893795",
     "status": "completed"
    },
    "tags": []
   },
   "outputs": [],
   "source": [
    "\n",
    "merged = summary_df.merge(th_df[['username', 'TH']], on='username', how='left')\n",
    "\n",
    "merged['final_TH'] = merged['TH'].fillna(merged['predicted_TH'])\n",
    "\n",
    "merged[['username', 'final_TH']].to_csv('xgb_predictions_with_groundtruth.txt', index=False, header=False)"
   ]
  }
 ],
 "metadata": {
  "kaggle": {
   "accelerator": "none",
   "dataSources": [
    {
     "datasetId": 7636603,
     "sourceId": 12127514,
     "sourceType": "datasetVersion"
    }
   ],
   "dockerImageVersionId": 31040,
   "isGpuEnabled": false,
   "isInternetEnabled": true,
   "language": "python",
   "sourceType": "notebook"
  },
  "kernelspec": {
   "display_name": "Python 3",
   "language": "python",
   "name": "python3"
  },
  "language_info": {
   "codemirror_mode": {
    "name": "ipython",
    "version": 3
   },
   "file_extension": ".py",
   "mimetype": "text/x-python",
   "name": "python",
   "nbconvert_exporter": "python",
   "pygments_lexer": "ipython3",
   "version": "3.11.11"
  },
  "papermill": {
   "default_parameters": {},
   "duration": 9234.481245,
   "end_time": "2025-06-15T05:35:27.579505",
   "environment_variables": {},
   "exception": null,
   "input_path": "__notebook__.ipynb",
   "output_path": "__notebook__.ipynb",
   "parameters": {},
   "start_time": "2025-06-15T03:01:33.098260",
   "version": "2.6.0"
  }
 },
 "nbformat": 4,
 "nbformat_minor": 5
}
