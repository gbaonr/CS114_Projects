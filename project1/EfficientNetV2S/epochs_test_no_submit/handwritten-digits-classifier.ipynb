{
 "cells": [
  {
   "cell_type": "markdown",
   "id": "4408314c",
   "metadata": {
    "papermill": {
     "duration": 0.005171,
     "end_time": "2025-06-09T17:09:22.309708",
     "exception": false,
     "start_time": "2025-06-09T17:09:22.304537",
     "status": "completed"
    },
    "tags": []
   },
   "source": [
    "# **Data preparation**"
   ]
  },
  {
   "cell_type": "code",
   "execution_count": 1,
   "id": "4ec89619",
   "metadata": {
    "execution": {
     "iopub.execute_input": "2025-06-09T17:09:22.319704Z",
     "iopub.status.busy": "2025-06-09T17:09:22.319495Z",
     "iopub.status.idle": "2025-06-09T17:09:27.069107Z",
     "shell.execute_reply": "2025-06-09T17:09:27.068395Z"
    },
    "papermill": {
     "duration": 4.755875,
     "end_time": "2025-06-09T17:09:27.070564",
     "exception": false,
     "start_time": "2025-06-09T17:09:22.314689",
     "status": "completed"
    },
    "tags": []
   },
   "outputs": [
    {
     "name": "stdout",
     "output_type": "stream",
     "text": [
      "\u001b[2K   \u001b[90m━━━━━━━━━━━━━━━━━━━━━━━━━━━━━━━━━━━━━━━━\u001b[0m \u001b[32m5.3/5.3 MB\u001b[0m \u001b[31m66.4 MB/s\u001b[0m eta \u001b[36m0:00:00\u001b[0m\r\n",
      "\u001b[?25h"
     ]
    }
   ],
   "source": [
    "!pip install pyheif pillow -q"
   ]
  },
  {
   "cell_type": "code",
   "execution_count": 2,
   "id": "f53f8e78",
   "metadata": {
    "execution": {
     "iopub.execute_input": "2025-06-09T17:09:27.080374Z",
     "iopub.status.busy": "2025-06-09T17:09:27.080112Z",
     "iopub.status.idle": "2025-06-09T17:09:37.369123Z",
     "shell.execute_reply": "2025-06-09T17:09:37.368525Z"
    },
    "papermill": {
     "duration": 10.295477,
     "end_time": "2025-06-09T17:09:37.370545",
     "exception": false,
     "start_time": "2025-06-09T17:09:27.075068",
     "status": "completed"
    },
    "tags": []
   },
   "outputs": [],
   "source": [
    "# transform data\n",
    "# transform data\n",
    "import torchvision.transforms.v2 as T\n",
    "from torchvision.transforms.functional import to_pil_image\n",
    "from IPython.display import display\n",
    "from torchvision.transforms.functional import to_pil_image\n",
    "from PIL import Image\n",
    "import os\n",
    "import glob\n",
    "\n",
    "import torch\n",
    "from torch.utils.data import Dataset\n",
    "from torchvision import datasets\n",
    "from torchvision import transforms\n",
    "import matplotlib.pyplot as plt\n",
    "from torchvision.io import read_image\n",
    "from torchvision.io import decode_image"
   ]
  },
  {
   "cell_type": "code",
   "execution_count": 3,
   "id": "9979b7bc",
   "metadata": {
    "execution": {
     "iopub.execute_input": "2025-06-09T17:09:37.380462Z",
     "iopub.status.busy": "2025-06-09T17:09:37.380129Z",
     "iopub.status.idle": "2025-06-09T17:09:38.531597Z",
     "shell.execute_reply": "2025-06-09T17:09:38.530735Z"
    },
    "papermill": {
     "duration": 1.157742,
     "end_time": "2025-06-09T17:09:38.532853",
     "exception": false,
     "start_time": "2025-06-09T17:09:37.375111",
     "status": "completed"
    },
    "tags": []
   },
   "outputs": [
    {
     "name": "stdout",
     "output_type": "stream",
     "text": [
      "True True\n",
      "train: 5917, val: 1354\n"
     ]
    }
   ],
   "source": [
    "import random\n",
    "data_dir = \"/kaggle/input/handwritten-tl/digits_data\"\n",
    "train_dir = os.path.join(data_dir, \"train\")\n",
    "val_dir = os.path.join(data_dir, \"val\")\n",
    "print(os.path.exists(train_dir), os.path.exists(val_dir))\n",
    "\n",
    "# origin_train_list = [img for img in glob.glob(train_dir + \"/*/*\") if os.path.isfile(img)]\n",
    "# origin_val_list = [img for img in glob.glob(val_dir + \"/*/*\") if os.path.isfile(img)]\n",
    "origin_train_list = glob.glob(train_dir + \"/*/*\")\n",
    "origin_val_list = glob.glob(val_dir + \"/*/*\")\n",
    "train_list = origin_train_list[:]\n",
    "val_list = origin_val_list[:]\n",
    "random.shuffle(train_list)\n",
    "random.shuffle(val_list)\n",
    "print(f\"train: {len(train_list)}, val: {len(val_list)}\")\n"
   ]
  },
  {
   "cell_type": "code",
   "execution_count": 4,
   "id": "4a48cf8c",
   "metadata": {
    "execution": {
     "iopub.execute_input": "2025-06-09T17:09:38.542827Z",
     "iopub.status.busy": "2025-06-09T17:09:38.542330Z",
     "iopub.status.idle": "2025-06-09T17:09:38.549525Z",
     "shell.execute_reply": "2025-06-09T17:09:38.548874Z"
    },
    "papermill": {
     "duration": 0.013136,
     "end_time": "2025-06-09T17:09:38.550570",
     "exception": false,
     "start_time": "2025-06-09T17:09:38.537434",
     "status": "completed"
    },
    "tags": []
   },
   "outputs": [],
   "source": [
    "# function to process data: gray_100x100_norm\n",
    "# DO NOT CHANGE IN THE SAME DATA VERSION\n",
    "transform = transforms.v2.Compose([\n",
    "    T.ToImage(),\n",
    "    T.Grayscale(num_output_channels=1),\n",
    "    T.Resize((100, 100)),\n",
    "    # T.RandomRotation(10),\n",
    "    # T.RandomAffine(degrees=10, translate=(0.05, 0.05), scale=(0.95, 1.05)),\n",
    "    # T.ColorJitter(brightness=0.25, contrast=0.5),\n",
    "    T.ToDtype(torch.float32, scale=True),\n",
    "    T.Normalize(mean=[0.5], std=[0.5]),  # Cân chỉnh lại nếu bạn có thống kê cụ thể hơn\n",
    "])\n",
    "\n",
    "\n",
    "# Transform cho dữ liệu train và validation\n",
    "train_transform = T.Compose([\n",
    "    T.ToImage(),                            # Chuyển sang định dạng tensor\n",
    "    T.Grayscale(num_output_channels=3),     # Chuyển ảnh xám sang 3 kênh để tương thích với EfficientNet\n",
    "    T.Resize((384, 384)),                   # Resize về kích thước 384x384 (yêu cầu của EfficientNetV2-S)\n",
    "    T.RandomRotation(10),                   # Augmentation: xoay ngẫu nhiên ±10 độ\n",
    "    T.RandomAffine(degrees=0, translate=(0.05, 0.05), scale=(0.95, 1.05)),  # Dịch chuyển và thay đổi tỷ lệ\n",
    "    T.ColorJitter(brightness=0.25, contrast=0.5),  # Thay đổi độ sáng và độ tương phản\n",
    "    T.ToDtype(torch.float32, scale=True),   # Chuyển sang float32 và scale về [0, 1]\n",
    "    T.Normalize(mean=[0.485, 0.456, 0.406], std=[0.229, 0.224, 0.225]),  # Chuẩn hóa theo ImageNet\n",
    "])\n",
    "\n",
    "# Transform cho dữ liệu test (không augmentation)\n",
    "test_transform = T.Compose([\n",
    "    T.ToImage(),\n",
    "    T.Grayscale(num_output_channels=3),\n",
    "    T.Resize((384, 384)),\n",
    "    T.ToDtype(torch.float32, scale=True),\n",
    "    T.Normalize(mean=[0.485, 0.456, 0.406], std=[0.229, 0.224, 0.225]),\n",
    "])\n"
   ]
  },
  {
   "cell_type": "code",
   "execution_count": 5,
   "id": "cfc7c993",
   "metadata": {
    "execution": {
     "iopub.execute_input": "2025-06-09T17:09:38.559795Z",
     "iopub.status.busy": "2025-06-09T17:09:38.559588Z",
     "iopub.status.idle": "2025-06-09T17:09:38.570075Z",
     "shell.execute_reply": "2025-06-09T17:09:38.569591Z"
    },
    "papermill": {
     "duration": 0.016223,
     "end_time": "2025-06-09T17:09:38.571042",
     "exception": false,
     "start_time": "2025-06-09T17:09:38.554819",
     "status": "completed"
    },
    "tags": []
   },
   "outputs": [],
   "source": [
    "import pyheif\n",
    "import torch\n",
    "\n",
    "\n",
    "def convert_heic_to_jpeg(heic_path, jpeg_path):\n",
    "    try:\n",
    "        heif_file = pyheif.read(heic_path)\n",
    "        image = Image.frombytes(\n",
    "            heif_file.mode, \n",
    "            heif_file.size, \n",
    "            heif_file.data, \n",
    "            \"raw\", \n",
    "            heif_file.mode, \n",
    "            heif_file.stride,\n",
    "        )\n",
    "        image.save(jpeg_path, format=\"JPEG\")\n",
    "    except Exception as e:\n",
    "        print(f\"\\t🛑 Lỗi chuyển đổi .heic: {heic_path} — {e}\")\n"
   ]
  },
  {
   "cell_type": "code",
   "execution_count": 6,
   "id": "f1bce93e",
   "metadata": {
    "execution": {
     "iopub.execute_input": "2025-06-09T17:09:38.580561Z",
     "iopub.status.busy": "2025-06-09T17:09:38.580370Z",
     "iopub.status.idle": "2025-06-09T17:09:38.587918Z",
     "shell.execute_reply": "2025-06-09T17:09:38.587436Z"
    },
    "papermill": {
     "duration": 0.013375,
     "end_time": "2025-06-09T17:09:38.588814",
     "exception": false,
     "start_time": "2025-06-09T17:09:38.575439",
     "status": "completed"
    },
    "tags": []
   },
   "outputs": [],
   "source": [
    "import shutil\n",
    "\n",
    "\n",
    "\n",
    "def read_heic(img_path):\n",
    "    jpeg_path = \"heic2jpeg/\" + img_path.split(\"/\")[-1].replace(\".HEIC\", \".jpeg\")\n",
    "    convert_heic_to_jpeg(img_path, jpeg_path)\n",
    "    image = read_image(jpeg_path, mode=\"RGB\")\n",
    "    return image\n",
    "    \n",
    "\n",
    "class custom_image_dataset(torch.utils.data.IterableDataset):\n",
    "    def __init__(self, image_lists, transform=None, test=False):\n",
    "        # self.img_labels = pd.read_csv(annotations_file)\n",
    "        self.image_lists = image_lists\n",
    "        self.transform = transform\n",
    "        self.test = test\n",
    "\n",
    "    def __read_image(self, img_path):\n",
    "        try:\n",
    "          if img_path.endswith(\".HEIC\"):\n",
    "              image = read_heic(img_path)\n",
    "              if image is not None:\n",
    "                  print(\"--> Converted to JPEG\")\n",
    "              else:\n",
    "                  print(\"--> Can't convert to JPEG\")\n",
    "          elif img_path.endswith(\".md\"):\n",
    "              print(\"Found markdown\")\n",
    "              return None\n",
    "          else:\n",
    "              image = read_image(img_path, mode=\"RGB\")\n",
    "          truth = -1\n",
    "          if not self.test:\n",
    "              label_str = os.path.basename(img_path).split(\"_\")[1]  \n",
    "              truth = torch.tensor(int(label_str))\n",
    "              \n",
    "          if self.transform:\n",
    "              image = self.transform(image)\n",
    "          return image, truth, img_path # Path sẽ rất cần để debug\n",
    "        except Exception as e:\n",
    "          print(f\"\\t**Error reading imgs: {e} - for: {img_path}\")\n",
    "          return None\n",
    "\n",
    "    def __iter__(self):\n",
    "        worker_info = torch.utils.data.get_worker_info()\n",
    "        if worker_info is None:  # single-process data loading, return the full iterator\n",
    "            iter_start = 0\n",
    "            iter_end = len(self.image_lists)\n",
    "        else:  # in a worker process\n",
    "            # split workload\n",
    "            per_worker = int(len(self.image_lists) / float(worker_info.num_workers))\n",
    "            worker_id = worker_info.id\n",
    "            iter_start =  worker_id * per_worker\n",
    "            iter_end = min(iter_start + per_worker, len(self.image_lists))\n",
    "        return iter(\n",
    "            filter(lambda x : x is not None\n",
    "                  , map(self.__read_image, self.image_lists[iter_start : iter_end] )\n",
    "            )\n",
    "        )\n",
    "\n",
    "    def __len__(self):\n",
    "        return len(self.image_lists)\n",
    "\n"
   ]
  },
  {
   "cell_type": "code",
   "execution_count": 7,
   "id": "ab758c3e",
   "metadata": {
    "execution": {
     "iopub.execute_input": "2025-06-09T17:09:38.597929Z",
     "iopub.status.busy": "2025-06-09T17:09:38.597727Z",
     "iopub.status.idle": "2025-06-09T17:09:38.601651Z",
     "shell.execute_reply": "2025-06-09T17:09:38.600970Z"
    },
    "papermill": {
     "duration": 0.009646,
     "end_time": "2025-06-09T17:09:38.602647",
     "exception": false,
     "start_time": "2025-06-09T17:09:38.593001",
     "status": "completed"
    },
    "tags": []
   },
   "outputs": [],
   "source": [
    "def clear_heic2jpeg():\n",
    "    if not os.path.exists(\"heic2jpeg\"):\n",
    "        os.makedirs(\"heic2jpeg\")\n",
    "    else:\n",
    "        shutil.rmtree(\"heic2jpeg\")\n",
    "        print(\"deleted old folder 'heic2jpeg'\")\n",
    "        os.makedirs(\"heic2jpeg\")\n",
    "        print(\"Created new 'heic2jpeg'\")\n",
    "\n",
    "\n",
    "clear_heic2jpeg()\n"
   ]
  },
  {
   "cell_type": "code",
   "execution_count": 8,
   "id": "0ba6ec09",
   "metadata": {
    "execution": {
     "iopub.execute_input": "2025-06-09T17:09:38.611617Z",
     "iopub.status.busy": "2025-06-09T17:09:38.611422Z",
     "iopub.status.idle": "2025-06-09T17:09:38.684593Z",
     "shell.execute_reply": "2025-06-09T17:09:38.683923Z"
    },
    "papermill": {
     "duration": 0.078876,
     "end_time": "2025-06-09T17:09:38.685689",
     "exception": false,
     "start_time": "2025-06-09T17:09:38.606813",
     "status": "completed"
    },
    "tags": []
   },
   "outputs": [
    {
     "name": "stdout",
     "output_type": "stream",
     "text": [
      "label: 7\n",
      "/kaggle/input/handwritten-tl/digits_data/train/7/train_7_7_b_002_0135.jpg\n"
     ]
    },
    {
     "data": {
      "image/jpeg": "[encoded data removed]",
      "image/png": "[encoded data removed]",
      "text/plain": [
       "<PIL.Image.Image image mode=L size=100x100>"
      ]
     },
     "metadata": {},
     "output_type": "display_data"
    }
   ],
   "source": [
    "temp = custom_image_dataset(train_list[:10], transform=transform)\n",
    "it = iter(temp)\n",
    "img, truth, path = next(it)\n",
    "\n",
    "print(f\"label: {truth}\")\n",
    "print(path)\n",
    "\n",
    "display(to_pil_image(img))\n"
   ]
  },
  {
   "cell_type": "code",
   "execution_count": 9,
   "id": "627c77e5",
   "metadata": {
    "execution": {
     "iopub.execute_input": "2025-06-09T17:09:38.695634Z",
     "iopub.status.busy": "2025-06-09T17:09:38.695440Z",
     "iopub.status.idle": "2025-06-09T17:09:38.701573Z",
     "shell.execute_reply": "2025-06-09T17:09:38.700916Z"
    },
    "papermill": {
     "duration": 0.011933,
     "end_time": "2025-06-09T17:09:38.702564",
     "exception": false,
     "start_time": "2025-06-09T17:09:38.690631",
     "status": "completed"
    },
    "tags": []
   },
   "outputs": [
    {
     "name": "stdout",
     "output_type": "stream",
     "text": [
      "Num workers: 4\n"
     ]
    },
    {
     "data": {
      "text/plain": [
       "[0, 1, 2, 3, 4, 5, 6, 7, 8, 9]"
      ]
     },
     "execution_count": 9,
     "metadata": {},
     "output_type": "execute_result"
    }
   ],
   "source": [
    "BATCH_SIZE = 128\n",
    "num_workers = os.cpu_count()\n",
    "print(f\"Num workers: {num_workers}\")\n",
    "trainset = custom_image_dataset(train_list,transform=train_transform)\n",
    "trainloader = torch.utils.data.DataLoader(trainset, batch_size=BATCH_SIZE, num_workers=num_workers)\n",
    "\n",
    "valset = custom_image_dataset(val_list, transform=test_transform)\n",
    "valloader = torch.utils.data.DataLoader(valset, batch_size=BATCH_SIZE, num_workers=num_workers)\n",
    "\n",
    "classes = [i for i in range(10)]\n",
    "classes"
   ]
  },
  {
   "cell_type": "markdown",
   "id": "ecfde0a9",
   "metadata": {
    "papermill": {
     "duration": 0.004296,
     "end_time": "2025-06-09T17:09:38.711341",
     "exception": false,
     "start_time": "2025-06-09T17:09:38.707045",
     "status": "completed"
    },
    "tags": []
   },
   "source": [
    "# **Model config**"
   ]
  },
  {
   "cell_type": "code",
   "execution_count": 10,
   "id": "a88ce9dd",
   "metadata": {
    "execution": {
     "iopub.execute_input": "2025-06-09T17:09:38.720717Z",
     "iopub.status.busy": "2025-06-09T17:09:38.720494Z",
     "iopub.status.idle": "2025-06-09T17:09:38.727557Z",
     "shell.execute_reply": "2025-06-09T17:09:38.726911Z"
    },
    "papermill": {
     "duration": 0.012904,
     "end_time": "2025-06-09T17:09:38.728563",
     "exception": false,
     "start_time": "2025-06-09T17:09:38.715659",
     "status": "completed"
    },
    "tags": []
   },
   "outputs": [],
   "source": [
    "import sys\n",
    "from tqdm import tqdm\n",
    "import logging\n",
    "from contextlib import redirect_stdout\n",
    "\n",
    "# Ghi cả ra file và màn hình\n",
    "class DualWriter:\n",
    "    def __init__(self, file):\n",
    "        self.file = file\n",
    "        self.stdout = sys.__stdout__  # console thật\n",
    "\n",
    "    def write(self, text):\n",
    "        self.stdout.write(text)\n",
    "        self.file.write(text)\n",
    "\n",
    "    def flush(self):\n",
    "        self.stdout.flush()\n",
    "        self.file.flush()\n",
    "\n",
    "class SaveBestModel:\n",
    "    def __init__(self, save_path=\"best_model.pth\", mode='min'):\n",
    "        self.best_value = float('inf') if mode == 'min' else -float('inf')\n",
    "        self.save_path = save_path\n",
    "        self.mode = mode\n",
    "\n",
    "    def __call__(self, current_value, model):\n",
    "        is_better = current_value < self.best_value if self.mode == 'min' else current_value > self.best_value\n",
    "        if is_better:\n",
    "            self.best_value = current_value\n",
    "            torch.save(model.state_dict(), self.save_path)\n",
    "            print(f\"✅ Saved new best model ({self.mode} = {current_value:.4f})\")\n",
    "\n",
    "class EarlyStopping:\n",
    "    def __init__(self, patience=5, mode='min'):\n",
    "        self.patience = patience\n",
    "        self.counter = 0\n",
    "        self.best_value = float('inf') if mode == 'min' else -float('inf')\n",
    "        self.early_stop = False\n",
    "        self.mode = mode\n",
    "\n",
    "    def __call__(self, current_value):\n",
    "        is_better = current_value < self.best_value if self.mode == 'min' else current_value > self.best_value\n",
    "\n",
    "        if is_better:\n",
    "            self.best_value = current_value\n",
    "            self.counter = 0\n",
    "        else:\n",
    "            self.counter += 1\n",
    "            print(f\"⚠️ No improvement. EarlyStopping counter: {self.counter}/{self.patience}\")\n",
    "            if self.counter >= self.patience:\n",
    "                self.early_stop = True\n",
    "    \n"
   ]
  },
  {
   "cell_type": "code",
   "execution_count": 11,
   "id": "cfc6d499",
   "metadata": {
    "execution": {
     "iopub.execute_input": "2025-06-09T17:09:38.738481Z",
     "iopub.status.busy": "2025-06-09T17:09:38.737946Z",
     "iopub.status.idle": "2025-06-09T17:09:40.192295Z",
     "shell.execute_reply": "2025-06-09T17:09:40.191694Z"
    },
    "papermill": {
     "duration": 1.460457,
     "end_time": "2025-06-09T17:09:40.193587",
     "exception": false,
     "start_time": "2025-06-09T17:09:38.733130",
     "status": "completed"
    },
    "tags": []
   },
   "outputs": [
    {
     "name": "stderr",
     "output_type": "stream",
     "text": [
      "Downloading: \"https://download.pytorch.org/models/efficientnet_v2_s-dd5fe13b.pth\" to /root/.cache/torch/hub/checkpoints/efficientnet_v2_s-dd5fe13b.pth\n",
      "100%|██████████| 82.7M/82.7M [00:00<00:00, 213MB/s]\n"
     ]
    }
   ],
   "source": [
    "import torch\n",
    "import torch.nn as nn\n",
    "import torchvision.models as models\n",
    "\n",
    "class EfficientNetV2S(nn.Module):\n",
    "    def __init__(self, num_classes=10, pretrained=True):\n",
    "        super(EfficientNetV2S, self).__init__()\n",
    "        # Tải mô hình EfficientNetV2-S pre-trained\n",
    "        self.model = models.efficientnet_v2_s(weights='IMAGENET1K_V1' if pretrained else None)\n",
    "        \n",
    "        # Đóng băng các tham số của mô hình pre-trained (nếu muốn)\n",
    "        for param in self.model.parameters():\n",
    "            param.requires_grad = False\n",
    "        \n",
    "        # Thay thế lớp fully connected cuối cùng\n",
    "        # EfficientNetV2-S có lớp cuối là Linear(in_features=1280, out_features=1000) (ImageNet có 1000 lớp)\n",
    "        # Ta thay bằng Linear(in_features=1280, out_features=num_classes)\n",
    "        self.model.classifier = nn.Sequential(\n",
    "            nn.Dropout(p=0.2, inplace=True),  # Giữ dropout như trong mô hình gốc\n",
    "            nn.Linear(1280, num_classes)      # Thay đổi đầu ra thành num_classes\n",
    "        )\n",
    "        \n",
    "        # Mở khóa các tham số của lớp classifier để huấn luyện\n",
    "        for param in self.model.classifier.parameters():\n",
    "            param.requires_grad = True\n",
    "\n",
    "    def forward(self, x):\n",
    "        return self.model(x)\n",
    "\n",
    "# Khởi tạo mô hình\n",
    "device = torch.device(\"cuda\" if torch.cuda.is_available() else \"cpu\")\n",
    "model = EfficientNetV2S(num_classes=10, pretrained=True).to(device)\n",
    "\n",
    "# Định nghĩa loss function và optimizer\n",
    "import torch.optim as optim\n",
    "criterion = nn.CrossEntropyLoss()\n",
    "optimizer = optim.Adam(model.parameters(), lr=0.001)  # Chỉ tối ưu hóa lớp classifier"
   ]
  },
  {
   "cell_type": "code",
   "execution_count": 12,
   "id": "e381e681",
   "metadata": {
    "execution": {
     "iopub.execute_input": "2025-06-09T17:09:40.204752Z",
     "iopub.status.busy": "2025-06-09T17:09:40.204529Z",
     "iopub.status.idle": "2025-06-09T17:09:40.209803Z",
     "shell.execute_reply": "2025-06-09T17:09:40.209162Z"
    },
    "papermill": {
     "duration": 0.011972,
     "end_time": "2025-06-09T17:09:40.210748",
     "exception": false,
     "start_time": "2025-06-09T17:09:40.198776",
     "status": "completed"
    },
    "tags": []
   },
   "outputs": [
    {
     "name": "stdout",
     "output_type": "stream",
     "text": [
      "Số tham số huấn luyện được: 12810\n"
     ]
    }
   ],
   "source": [
    "trainable_params = sum(p.numel() for p in model.parameters() if p.requires_grad)\n",
    "print(f\"Số tham số huấn luyện được: {trainable_params}\")\n",
    "\n",
    "\n",
    "\n"
   ]
  },
  {
   "cell_type": "code",
   "execution_count": 13,
   "id": "372caf84",
   "metadata": {
    "execution": {
     "iopub.execute_input": "2025-06-09T17:09:40.221016Z",
     "iopub.status.busy": "2025-06-09T17:09:40.220826Z",
     "iopub.status.idle": "2025-06-09T17:16:51.226961Z",
     "shell.execute_reply": "2025-06-09T17:16:51.226091Z"
    },
    "papermill": {
     "duration": 431.018406,
     "end_time": "2025-06-09T17:16:51.233940",
     "exception": false,
     "start_time": "2025-06-09T17:09:40.215534",
     "status": "completed"
    },
    "tags": []
   },
   "outputs": [
    {
     "name": "stderr",
     "output_type": "stream",
     "text": [
      "Epochs:   0%|          | 0/2 [00:00<?, ?it/s]"
     ]
    },
    {
     "name": "stdout",
     "output_type": "stream",
     "text": [
      "Using: cuda\n",
      "\n"
     ]
    },
    {
     "name": "stderr",
     "output_type": "stream",
     "text": [
      "Epochs:  50%|█████     | 1/2 [03:36<03:36, 216.63s/it]"
     ]
    },
    {
     "name": "stdout",
     "output_type": "stream",
     "text": [
      "Epoch 1 loss: 2.1974 - time: 216.4623851776123s\n",
      "✅ Saved new best model (min = 2.1974)\n",
      "\n"
     ]
    },
    {
     "name": "stderr",
     "output_type": "stream",
     "text": [
      "Epochs: 100%|██████████| 2/2 [07:10<00:00, 215.50s/it]"
     ]
    },
    {
     "name": "stdout",
     "output_type": "stream",
     "text": [
      "🟢 Đã ra khỏi with, chỉ in ra console, không ghi file\n"
     ]
    },
    {
     "name": "stderr",
     "output_type": "stream",
     "text": [
      "\n"
     ]
    }
   ],
   "source": [
    "import time\n",
    "if os.path.exists('train_log.txt'):\n",
    "    os.remove('train_log.txt')\n",
    "    print(\"Deleted old 'train_log'.\")\n",
    "# Ghi log ra log.txt\n",
    "log_file = open(\"train_log.txt\", \"a\")  # mở log file\n",
    "dual_output = DualWriter(log_file)\n",
    "save_best_model = SaveBestModel(\"best_model.pth\", mode='min')\n",
    "early_stopping = EarlyStopping(patience=5, mode='min')\n",
    "\n",
    "device = torch.device(\"cuda\" if torch.cuda.is_available() else \"cpu\")\n",
    "print(f\"Using: {device}\")\n",
    "model.to(device)\n",
    "start_time = time.time()\n",
    "\n",
    "\n",
    "with redirect_stdout(dual_output):\n",
    "    for epoch in tqdm(range(2), desc=\"Epochs: \"):  # loop over the dataset multiple times\n",
    "        running_loss = 0.0\n",
    "        print()\n",
    "        epoch_start = time.time()\n",
    "        for i, data in enumerate(trainloader, 0):\n",
    "            inputs, labels, _ = data\n",
    "            inputs = inputs.to(device)\n",
    "            labels = labels.to(device)\n",
    "            # print(inputs.device, labels.device, next(net.parameters()).device)\n",
    "            optimizer.zero_grad()\n",
    "            outputs = model(inputs)\n",
    "            loss = criterion(outputs, labels)\n",
    "            loss.backward()\n",
    "            optimizer.step()\n",
    "            running_loss += loss.item()\n",
    "\n",
    "        epoch_loss = running_loss / len(trainloader)\n",
    "        print(f\"Epoch {epoch+1} loss: {epoch_loss:.4f} - time: {time.time() - epoch_start}s\")\n",
    "\n",
    "        # Gọi callback\n",
    "        save_best_model(epoch_loss, model)\n",
    "        early_stopping(epoch_loss)\n",
    "        \n",
    "        if early_stopping.early_stop:\n",
    "            print(\"⛔ Early stopping triggered.\")\n",
    "            break\n",
    "\n",
    "    total_time = time.time() - start_time\n",
    "    print(f'Finished Training in: {total_time}s')\n",
    "    \n",
    "print(\"🟢 Đã ra khỏi with, chỉ in ra console, không ghi file\")\n",
    "log_file.close()\n"
   ]
  },
  {
   "cell_type": "code",
   "execution_count": 14,
   "id": "287a84e8",
   "metadata": {
    "execution": {
     "iopub.execute_input": "2025-06-09T17:16:51.245500Z",
     "iopub.status.busy": "2025-06-09T17:16:51.245261Z",
     "iopub.status.idle": "2025-06-09T17:17:40.006212Z",
     "shell.execute_reply": "2025-06-09T17:17:40.005163Z"
    },
    "papermill": {
     "duration": 48.772869,
     "end_time": "2025-06-09T17:17:40.012256",
     "exception": false,
     "start_time": "2025-06-09T17:16:51.239387",
     "status": "completed"
    },
    "tags": []
   },
   "outputs": [
    {
     "name": "stdout",
     "output_type": "stream",
     "text": [
      "deleted old folder 'heic2jpeg'\n",
      "Created new 'heic2jpeg'\n",
      "Accuracy of the network on the test images: 36.69 %\n"
     ]
    }
   ],
   "source": [
    "#validate\n",
    "if not os.path.exists(\"heic2jpeg\"):\n",
    "    os.makedirs(\"heic2jpeg\")\n",
    "else:\n",
    "    shutil.rmtree(\"heic2jpeg\")\n",
    "    print(\"deleted old folder 'heic2jpeg'\")\n",
    "    os.makedirs(\"heic2jpeg\")\n",
    "    print(\"Created new 'heic2jpeg'\")\n",
    "\n",
    "\n",
    "\n",
    "device = torch.device(\"cuda\" if torch.cuda.is_available() else \"cpu\")\n",
    "model = EfficientNetV2S(num_classes=10, pretrained=True)\n",
    "model.load_state_dict(torch.load('best_model.pth', map_location=device))\n",
    "model.to(device)\n",
    "\n",
    "model.eval()\n",
    "\n",
    "correct = 0\n",
    "total = 0\n",
    "\n",
    "# since we're not training, we don't need to calculate the gradients for our outputs\n",
    "with torch.no_grad():\n",
    "    for data in valloader:\n",
    "        images, labels,_ = data\n",
    "        images = images.to(device)\n",
    "        labels = labels.to(device)\n",
    "\n",
    "        # calculate outputs by running images through the network\n",
    "        outputs = model(images)\n",
    "        _, predicted = torch.max(outputs, 1)\n",
    "\n",
    "        total += labels.size(0)\n",
    "        correct += (predicted == labels).sum().item()\n",
    "\n",
    "accuracy = 100 * correct / total\n",
    "print(f'Accuracy of the network on the test images: {accuracy:.2f} %')\n"
   ]
  },
  {
   "cell_type": "markdown",
   "id": "940c5fe4",
   "metadata": {
    "papermill": {
     "duration": 0.00513,
     "end_time": "2025-06-09T17:17:40.022825",
     "exception": false,
     "start_time": "2025-06-09T17:17:40.017695",
     "status": "completed"
    },
    "tags": []
   },
   "source": [
    "# **PREDICT**"
   ]
  },
  {
   "cell_type": "code",
   "execution_count": 15,
   "id": "deb328b3",
   "metadata": {
    "execution": {
     "iopub.execute_input": "2025-06-09T17:17:40.035451Z",
     "iopub.status.busy": "2025-06-09T17:17:40.035196Z",
     "iopub.status.idle": "2025-06-09T17:18:48.559736Z",
     "shell.execute_reply": "2025-06-09T17:18:48.558901Z"
    },
    "papermill": {
     "duration": 68.532888,
     "end_time": "2025-06-09T17:18:48.560998",
     "exception": false,
     "start_time": "2025-06-09T17:17:40.028110",
     "status": "completed"
    },
    "tags": []
   },
   "outputs": [
    {
     "name": "stdout",
     "output_type": "stream",
     "text": [
      "deleted old folder 'heic2jpeg'\n",
      "Created new 'heic2jpeg'\n",
      "samples: 2939\n",
      "--> Converted to JPEG\n",
      "--> Converted to JPEG\n",
      "Found markdown\n",
      "--> Converted to JPEG\n",
      "--> Converted to JPEG\n",
      "--> Converted to JPEG\n",
      "--> Converted to JPEG\n",
      "Found markdown\n",
      "Found markdown\n",
      "--> Converted to JPEG\n",
      "--> Converted to JPEG\n",
      "Found markdown\n",
      "--> Converted to JPEG\n",
      "--> Converted to JPEG\n",
      "Found markdown\n",
      "--> Converted to JPEG\n",
      "Found markdown\n",
      "--> Converted to JPEG\n",
      "--> Converted to JPEG\n",
      "Found markdown\n",
      "--> Converted to JPEG\n",
      "--> Converted to JPEG\n",
      "Found markdown\n",
      "--> Converted to JPEG\n",
      "--> Converted to JPEG\n",
      "Found markdown\n",
      "--> Converted to JPEG\n",
      "--> Converted to JPEG\n",
      "Found markdown\n",
      "--> Converted to JPEG\n",
      "--> Converted to JPEG\n",
      "--> Converted to JPEG\n",
      "--> Converted to JPEG\n",
      "--> Converted to JPEG\n",
      "--> Converted to JPEG\n",
      "--> Converted to JPEG\n",
      "--> Converted to JPEG\n",
      "Found markdown\n",
      "--> Converted to JPEG\n",
      "--> Converted to JPEG\n",
      "--> Converted to JPEG\n",
      "Predictions saved in 'predict.txt'\n"
     ]
    }
   ],
   "source": [
    "# PREDICT\n",
    "clear_heic2jpeg()\n",
    "test_dir = \"/kaggle/input/handwritten-test-cs114\"\n",
    "test_list = [os.path.join(test_dir, img) for img in os.listdir(test_dir)]\n",
    "print(f\"samples: {len(test_list)}\")\n",
    "testset = custom_image_dataset(test_list, transform=test_transform, test=True)\n",
    "testloader = torch.utils.data.DataLoader(testset,batch_size=BATCH_SIZE, num_workers=num_workers)\n",
    "\n",
    "predict_txt = \"\"\n",
    "with torch.no_grad():\n",
    "    for data in testloader:\n",
    "        images, labels, paths = data\n",
    "        images = images.to(device)\n",
    "        labels = labels.to(device)\n",
    "\n",
    "        # calculate outputs by running images through the network\n",
    "        outputs = model(images)\n",
    "        _, predicted = torch.max(outputs, 1)\n",
    "\n",
    "        # save\n",
    "        for path, pred in zip(paths, predicted):\n",
    "            path = path.replace(test_dir, \"\").lstrip(os.sep)  # Strip test_dir and leading separator\n",
    "            predict_txt += f\"{path},{pred.item()}\\n\"\n",
    "\n",
    "# Write to file in text mode\n",
    "with open(\"/kaggle/working/predict.txt\", \"w\") as file:\n",
    "    file.write(predict_txt)\n",
    "print(\"Predictions saved in 'predict.txt'\")"
   ]
  },
  {
   "cell_type": "code",
   "execution_count": 16,
   "id": "64935bbf",
   "metadata": {
    "execution": {
     "iopub.execute_input": "2025-06-09T17:18:48.579434Z",
     "iopub.status.busy": "2025-06-09T17:18:48.579194Z",
     "iopub.status.idle": "2025-06-09T17:18:48.670595Z",
     "shell.execute_reply": "2025-06-09T17:18:48.669832Z"
    },
    "papermill": {
     "duration": 0.101761,
     "end_time": "2025-06-09T17:18:48.671761",
     "exception": false,
     "start_time": "2025-06-09T17:18:48.570000",
     "status": "completed"
    },
    "tags": []
   },
   "outputs": [
    {
     "name": "stdout",
     "output_type": "stream",
     "text": [
      "label: -1\n",
      "/kaggle/input/handwritten-test-cs114/389269258327f495063eeb7863aeb323  -.jpg\n"
     ]
    },
    {
     "data": {
      "image/jpeg": "[encoded data removed]",
      "image/png": "[encoded data removed]",
      "text/plain": [
       "<PIL.Image.Image image mode=L size=100x100>"
      ]
     },
     "metadata": {},
     "output_type": "display_data"
    }
   ],
   "source": [
    "temp = custom_image_dataset(test_list[:10], transform=transform, test=True)\n",
    "it = iter(temp)\n",
    "img, truth, path = next(it)\n",
    "\n",
    "\n",
    "print(f\"label: {truth}\")\n",
    "print(path)\n",
    "\n",
    "display(to_pil_image(img))"
   ]
  },
  {
   "cell_type": "code",
   "execution_count": null,
   "id": "94c9a1a4",
   "metadata": {
    "papermill": {
     "duration": 0.008514,
     "end_time": "2025-06-09T17:18:48.689305",
     "exception": false,
     "start_time": "2025-06-09T17:18:48.680791",
     "status": "completed"
    },
    "tags": []
   },
   "outputs": [],
   "source": []
  },
  {
   "cell_type": "markdown",
   "id": "a12e1277",
   "metadata": {
    "papermill": {
     "duration": 0.008278,
     "end_time": "2025-06-09T17:18:48.705994",
     "exception": false,
     "start_time": "2025-06-09T17:18:48.697716",
     "status": "completed"
    },
    "tags": []
   },
   "source": [
    "# **PREDICT 10K**"
   ]
  },
  {
   "cell_type": "code",
   "execution_count": 17,
   "id": "321a8eba",
   "metadata": {
    "execution": {
     "iopub.execute_input": "2025-06-09T17:18:48.724069Z",
     "iopub.status.busy": "2025-06-09T17:18:48.723549Z",
     "iopub.status.idle": "2025-06-09T17:23:45.248560Z",
     "shell.execute_reply": "2025-06-09T17:23:45.247510Z"
    },
    "papermill": {
     "duration": 296.544045,
     "end_time": "2025-06-09T17:23:45.258496",
     "exception": false,
     "start_time": "2025-06-09T17:18:48.714451",
     "status": "completed"
    },
    "tags": []
   },
   "outputs": [
    {
     "name": "stdout",
     "output_type": "stream",
     "text": [
      "deleted old folder 'heic2jpeg'\n",
      "Created new 'heic2jpeg'\n",
      "samples: 9974\n",
      "Predictions saved in 'predict_10k.txt'\n"
     ]
    }
   ],
   "source": [
    "# PREDICT\n",
    "clear_heic2jpeg()\n",
    "test_dir = \"/kaggle/input/handwritten-test-10k\"\n",
    "test_list = [os.path.join(test_dir, img) for img in os.listdir(test_dir)]\n",
    "print(f\"samples: {len(test_list)}\")\n",
    "testset = custom_image_dataset(test_list, transform=test_transform, test=True)\n",
    "testloader = torch.utils.data.DataLoader(testset,batch_size=BATCH_SIZE, num_workers=num_workers)\n",
    "\n",
    "predict_txt = \"\"\n",
    "with torch.no_grad():\n",
    "    for data in testloader:\n",
    "        images, labels, paths = data\n",
    "        images = images.to(device)\n",
    "        labels = labels.to(device)\n",
    "\n",
    "        # calculate outputs by running images through the network\n",
    "        outputs = model(images)\n",
    "        _, predicted = torch.max(outputs, 1)\n",
    "\n",
    "        # save\n",
    "        for path, pred in zip(paths, predicted):\n",
    "            path = path.replace(test_dir, \"\").lstrip(os.sep)  # Strip test_dir and leading separator\n",
    "            predict_txt += f\"{path},{pred.item()}\\n\"\n",
    "\n",
    "# Write to file in text mode\n",
    "with open(\"/kaggle/working/predict_10k.txt\", \"w\") as file:\n",
    "    file.write(predict_txt)\n",
    "print(\"Predictions saved in 'predict_10k.txt'\")\n"
   ]
  },
  {
   "cell_type": "code",
   "execution_count": 18,
   "id": "7f7638f7",
   "metadata": {
    "execution": {
     "iopub.execute_input": "2025-06-09T17:23:45.326755Z",
     "iopub.status.busy": "2025-06-09T17:23:45.325881Z",
     "iopub.status.idle": "2025-06-09T17:23:45.407517Z",
     "shell.execute_reply": "2025-06-09T17:23:45.406813Z"
    },
    "papermill": {
     "duration": 0.092655,
     "end_time": "2025-06-09T17:23:45.408619",
     "exception": false,
     "start_time": "2025-06-09T17:23:45.315964",
     "status": "completed"
    },
    "tags": []
   },
   "outputs": [
    {
     "name": "stdout",
     "output_type": "stream",
     "text": [
      "label: -1\n",
      "/kaggle/input/handwritten-test-10k/167144297687438af7bff077e768440c.jpg\n"
     ]
    },
    {
     "data": {
      "image/jpeg": "[encoded data removed]",
      "image/png": "[encoded data removed]",
      "text/plain": [
       "<PIL.Image.Image image mode=L size=100x100>"
      ]
     },
     "metadata": {},
     "output_type": "display_data"
    }
   ],
   "source": [
    "temp = custom_image_dataset(test_list[:10], transform=transform, test=True)\n",
    "it = iter(temp)\n",
    "img, truth, path = next(it)\n",
    "\n",
    "\n",
    "print(f\"label: {truth}\")\n",
    "print(path)\n",
    "\n",
    "display(to_pil_image(img))"
   ]
  },
  {
   "cell_type": "markdown",
   "id": "17e91560",
   "metadata": {
    "papermill": {
     "duration": 0.008712,
     "end_time": "2025-06-09T17:23:45.426832",
     "exception": false,
     "start_time": "2025-06-09T17:23:45.418120",
     "status": "completed"
    },
    "tags": []
   },
   "source": [
    "# **Save**"
   ]
  },
  {
   "cell_type": "code",
   "execution_count": 19,
   "id": "afc83e41",
   "metadata": {
    "execution": {
     "iopub.execute_input": "2025-06-09T17:23:45.445359Z",
     "iopub.status.busy": "2025-06-09T17:23:45.444883Z",
     "iopub.status.idle": "2025-06-09T17:23:45.450157Z",
     "shell.execute_reply": "2025-06-09T17:23:45.449463Z"
    },
    "papermill": {
     "duration": 0.015665,
     "end_time": "2025-06-09T17:23:45.451196",
     "exception": false,
     "start_time": "2025-06-09T17:23:45.435531",
     "status": "completed"
    },
    "tags": []
   },
   "outputs": [],
   "source": [
    "log_path = \"train_log.txt\"\n",
    "with open(log_path, \"a\") as f:\n",
    "    f.write(\"\\n\\n\" + \"=\"*60 + \"\\n\")\n",
    "    f.write(\"Training Summary\\n\")\n",
    "    f.write(\"=\"*60 + \"\\n\")\n",
    "    f.write(f\"Time: {total_time//60:.0f}m {total_time%60:.0f}s\\n\")\n",
    "    f.write(f\"Best Validation Accuracy: {accuracy:.4f}\\n\")\n",
    "    f.write(f\"\\nOptimizer: {optimizer.__class__.__name__} - {optimizer.state_dict()['param_groups'][0]}\\n\")\n",
    "    f.write(f\"Loss Function: {criterion.__class__.__name__}\\n\")\n",
    "    f.write(\"=\"*60 + \"\\n\\n\")"
   ]
  },
  {
   "cell_type": "code",
   "execution_count": 20,
   "id": "893086c3",
   "metadata": {
    "execution": {
     "iopub.execute_input": "2025-06-09T17:23:45.469455Z",
     "iopub.status.busy": "2025-06-09T17:23:45.469253Z",
     "iopub.status.idle": "2025-06-09T17:23:49.732950Z",
     "shell.execute_reply": "2025-06-09T17:23:49.732195Z"
    },
    "papermill": {
     "duration": 4.274586,
     "end_time": "2025-06-09T17:23:49.734560",
     "exception": false,
     "start_time": "2025-06-09T17:23:45.459974",
     "status": "completed"
    },
    "tags": []
   },
   "outputs": [
    {
     "name": "stdout",
     "output_type": "stream",
     "text": [
      "  adding: kaggle/working/ (stored 0%)\r\n",
      "  adding: kaggle/working/best_model.pth (deflated 7%)\r\n",
      "  adding: kaggle/working/predict.txt (deflated 50%)\r\n",
      "  adding: kaggle/working/__notebook__.ipynb (deflated 65%)\r\n",
      "  adding: kaggle/working/heic2jpeg/ (stored 0%)\r\n",
      "  adding: kaggle/working/train_log.txt (deflated 56%)\r\n",
      "  adding: kaggle/working/predict_10k.txt (deflated 47%)\r\n"
     ]
    }
   ],
   "source": [
    "!zip -r working.zip /kaggle/working"
   ]
  },
  {
   "cell_type": "code",
   "execution_count": 21,
   "id": "546daca4",
   "metadata": {
    "execution": {
     "iopub.execute_input": "2025-06-09T17:23:49.754453Z",
     "iopub.status.busy": "2025-06-09T17:23:49.754190Z",
     "iopub.status.idle": "2025-06-09T17:23:49.776968Z",
     "shell.execute_reply": "2025-06-09T17:23:49.776462Z"
    },
    "papermill": {
     "duration": 0.03389,
     "end_time": "2025-06-09T17:23:49.778007",
     "exception": false,
     "start_time": "2025-06-09T17:23:49.744117",
     "status": "completed"
    },
    "tags": []
   },
   "outputs": [],
   "source": [
    "os.remove(\"working.zip\")"
   ]
  },
  {
   "cell_type": "markdown",
   "id": "2071e826",
   "metadata": {
    "papermill": {
     "duration": 0.008888,
     "end_time": "2025-06-09T17:23:49.796196",
     "exception": false,
     "start_time": "2025-06-09T17:23:49.787308",
     "status": "completed"
    },
    "tags": []
   },
   "source": [
    "# **TEST**"
   ]
  },
  {
   "cell_type": "code",
   "execution_count": null,
   "id": "d9e41b9f",
   "metadata": {
    "execution": {
     "iopub.execute_input": "2025-06-09T17:23:49.815122Z",
     "iopub.status.busy": "2025-06-09T17:23:49.814894Z",
     "iopub.status.idle": "2025-06-09T17:23:49.818005Z",
     "shell.execute_reply": "2025-06-09T17:23:49.817527Z"
    },
    "papermill": {
     "duration": 0.013651,
     "end_time": "2025-06-09T17:23:49.818983",
     "exception": false,
     "start_time": "2025-06-09T17:23:49.805332",
     "status": "completed"
    },
    "tags": []
   },
   "outputs": [],
   "source": [
    "whats_new = \"\"\"\n",
    "- first transfer learning with EfficientNetV2-S\n",
    "- Preprocess match with EfficientNetV2-S input format\n",
    "-JUST 2 EPOCHS\n",
    "\"\"\""
   ]
  },
  {
   "cell_type": "code",
   "execution_count": 23,
   "id": "e3b0561b",
   "metadata": {
    "execution": {
     "iopub.execute_input": "2025-06-09T17:23:49.837962Z",
     "iopub.status.busy": "2025-06-09T17:23:49.837417Z",
     "iopub.status.idle": "2025-06-09T17:23:49.844452Z",
     "shell.execute_reply": "2025-06-09T17:23:49.843894Z"
    },
    "papermill": {
     "duration": 0.017704,
     "end_time": "2025-06-09T17:23:49.845532",
     "exception": false,
     "start_time": "2025-06-09T17:23:49.827828",
     "status": "completed"
    },
    "tags": []
   },
   "outputs": [
    {
     "name": "stdout",
     "output_type": "stream",
     "text": [
      "30\n",
      "0\n"
     ]
    }
   ],
   "source": [
    "heics = glob.glob(\"/kaggle/input/handwritten-test-cs114/*.HEIC\")\n",
    "print(len(heics))\n",
    "heics2jpegs = glob.glob(\"/kaggle/working/heic2jpeg/*\")\n",
    "print(len(heics2jpegs))"
   ]
  }
 ],
 "metadata": {
  "kaggle": {
   "accelerator": "nvidiaTeslaT4",
   "dataSources": [
    {
     "datasetId": 7608653,
     "sourceId": 12086766,
     "sourceType": "datasetVersion"
    },
    {
     "datasetId": 7613469,
     "sourceId": 12094235,
     "sourceType": "datasetVersion"
    },
    {
     "datasetId": 7614858,
     "sourceId": 12096088,
     "sourceType": "datasetVersion"
    }
   ],
   "dockerImageVersionId": 31041,
   "isGpuEnabled": true,
   "isInternetEnabled": true,
   "language": "python",
   "sourceType": "notebook"
  },
  "kernelspec": {
   "display_name": "Python 3",
   "language": "python",
   "name": "python3"
  },
  "language_info": {
   "codemirror_mode": {
    "name": "ipython",
    "version": 3
   },
   "file_extension": ".py",
   "mimetype": "text/x-python",
   "name": "python",
   "nbconvert_exporter": "python",
   "pygments_lexer": "ipython3",
   "version": "3.11.11"
  },
  "papermill": {
   "default_parameters": {},
   "duration": 875.521298,
   "end_time": "2025-06-09T17:23:53.163759",
   "environment_variables": {},
   "exception": null,
   "input_path": "__notebook__.ipynb",
   "output_path": "__notebook__.ipynb",
   "parameters": {},
   "start_time": "2025-06-09T17:09:17.642461",
   "version": "2.6.0"
  }
 },
 "nbformat": 4,
 "nbformat_minor": 5
}
