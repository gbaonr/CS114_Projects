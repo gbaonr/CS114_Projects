{
 "cells": [
  {
   "cell_type": "markdown",
   "metadata": {},
   "source": [
    "# **Define classes and functions in need**"
   ]
  },
  {
   "cell_type": "code",
   "execution_count": 1,
   "metadata": {
    "execution": {
     "iopub.execute_input": "2025-06-11T13:44:58.521945Z",
     "iopub.status.busy": "2025-06-11T13:44:58.521232Z",
     "iopub.status.idle": "2025-06-11T13:44:58.532552Z",
     "shell.execute_reply": "2025-06-11T13:44:58.531668Z",
     "shell.execute_reply.started": "2025-06-11T13:44:58.521896Z"
    },
    "trusted": true
   },
   "outputs": [
    {
     "name": "stdout",
     "output_type": "stream",
     "text": [
      "Last save at: 20h44p - 11/06/2025\n"
     ]
    }
   ],
   "source": [
    "import datetime\n",
    "def get_time():\n",
    "    current_time = datetime.datetime.now()\n",
    "    adjusted_time = current_time + datetime.timedelta(hours=7)\n",
    "    formatted_time = adjusted_time.strftime(\"%Hh%Mp - %d/%m/%Y\")\n",
    "    return formatted_time\n",
    "    \n",
    "print(f\"Last save at: {get_time()}\")"
   ]
  },
  {
   "cell_type": "code",
   "execution_count": 2,
   "metadata": {
    "execution": {
     "iopub.execute_input": "2025-06-11T13:44:58.534081Z",
     "iopub.status.busy": "2025-06-11T13:44:58.533792Z",
     "iopub.status.idle": "2025-06-11T13:45:03.243091Z",
     "shell.execute_reply": "2025-06-11T13:45:03.242018Z",
     "shell.execute_reply.started": "2025-06-11T13:44:58.534063Z"
    },
    "trusted": true
   },
   "outputs": [
    {
     "name": "stdout",
     "output_type": "stream",
     "text": [
      "\u001b[2K   \u001b[90m━━━━━━━━━━━━━━━━━━━━━━━━━━━━━━━━━━━━━━━━\u001b[0m \u001b[32m5.3/5.3 MB\u001b[0m \u001b[31m39.7 MB/s\u001b[0m eta \u001b[36m0:00:00\u001b[0m00:01\u001b[0m00:01\u001b[0m\n",
      "\u001b[?25h"
     ]
    }
   ],
   "source": [
    "!pip install pyheif pillow -q"
   ]
  },
  {
   "cell_type": "code",
   "execution_count": 3,
   "metadata": {
    "execution": {
     "iopub.execute_input": "2025-06-11T13:45:03.244687Z",
     "iopub.status.busy": "2025-06-11T13:45:03.244357Z",
     "iopub.status.idle": "2025-06-11T13:46:21.053863Z",
     "shell.execute_reply": "2025-06-11T13:46:21.052908Z",
     "shell.execute_reply.started": "2025-06-11T13:45:03.244635Z"
    },
    "trusted": true
   },
   "outputs": [
    {
     "name": "stdout",
     "output_type": "stream",
     "text": [
      "\u001b[2K   \u001b[90m━━━━━━━━━━━━━━━━━━━━━━━━━━━━━━━━━━━━━━━━\u001b[0m \u001b[32m363.4/363.4 MB\u001b[0m \u001b[31m4.5 MB/s\u001b[0m eta \u001b[36m0:00:00\u001b[0m0:00:01\u001b[0m00:01\u001b[0m\n",
      "\u001b[2K   \u001b[90m━━━━━━━━━━━━━━━━━━━━━━━━━━━━━━━━━━━━━━━━\u001b[0m \u001b[32m664.8/664.8 MB\u001b[0m \u001b[31m2.1 MB/s\u001b[0m eta \u001b[36m0:00:00\u001b[0m0:00:01\u001b[0m00:01\u001b[0m\n",
      "\u001b[2K   \u001b[90m━━━━━━━━━━━━━━━━━━━━━━━━━━━━━━━━━━━━━━━━\u001b[0m \u001b[32m211.5/211.5 MB\u001b[0m \u001b[31m1.9 MB/s\u001b[0m eta \u001b[36m0:00:00\u001b[0m0:00:01\u001b[0m00:01\u001b[0m\n",
      "\u001b[2K   \u001b[90m━━━━━━━━━━━━━━━━━━━━━━━━━━━━━━━━━━━━━━━━\u001b[0m \u001b[32m56.3/56.3 MB\u001b[0m \u001b[31m28.9 MB/s\u001b[0m eta \u001b[36m0:00:00\u001b[0m:00:01\u001b[0m00:01\u001b[0m\n",
      "\u001b[2K   \u001b[90m━━━━━━━━━━━━━━━━━━━━━━━━━━━━━━━━━━━━━━━━\u001b[0m \u001b[32m127.9/127.9 MB\u001b[0m \u001b[31m13.3 MB/s\u001b[0m eta \u001b[36m0:00:00\u001b[0m:00:01\u001b[0m00:01\u001b[0m\n",
      "\u001b[2K   \u001b[90m━━━━━━━━━━━━━━━━━━━━━━━━━━━━━━━━━━━━━━━━\u001b[0m \u001b[32m207.5/207.5 MB\u001b[0m \u001b[31m8.1 MB/s\u001b[0m eta \u001b[36m0:00:00\u001b[0m0:00:01\u001b[0m00:01\u001b[0m\n",
      "\u001b[2K   \u001b[90m━━━━━━━━━━━━━━━━━━━━━━━━━━━━━━━━━━━━━━━━\u001b[0m \u001b[32m21.1/21.1 MB\u001b[0m \u001b[31m73.8 MB/s\u001b[0m eta \u001b[36m0:00:00\u001b[0m:00:01\u001b[0m00:01\u001b[0m\n",
      "\u001b[?25h"
     ]
    }
   ],
   "source": [
    "!pip install torchvision -q"
   ]
  },
  {
   "cell_type": "code",
   "execution_count": 4,
   "metadata": {
    "execution": {
     "iopub.execute_input": "2025-06-11T13:46:21.056227Z",
     "iopub.status.busy": "2025-06-11T13:46:21.055985Z",
     "iopub.status.idle": "2025-06-11T13:46:26.365260Z",
     "shell.execute_reply": "2025-06-11T13:46:26.364749Z",
     "shell.execute_reply.started": "2025-06-11T13:46:21.056204Z"
    },
    "trusted": true
   },
   "outputs": [],
   "source": [
    "# transform data\n",
    "# transform data\n",
    "import torch\n",
    "import torchvision.transforms.v2 as T\n",
    "from torchvision.transforms.functional import to_pil_image\n",
    "from IPython.display import display\n",
    "from PIL import Image\n",
    "import os\n",
    "import glob\n",
    "\n",
    "import torch\n",
    "from torch.utils.data import Dataset\n",
    "from torchvision import datasets\n",
    "from torchvision import transforms\n",
    "import matplotlib.pyplot as plt\n",
    "from torchvision.io import read_image\n",
    "import random\n",
    "\n",
    "import pyheif\n",
    "import shutil\n",
    "import sys\n",
    "from tqdm import tqdm\n",
    "import logging\n",
    "from contextlib import redirect_stdout\n",
    "\n",
    "import torch.nn as nn\n",
    "import torch.nn.functional as F\n",
    "import torchvision.models as torch_models\n",
    "from torchvision.transforms import InterpolationMode\n",
    "\n",
    "import torch.optim as optim\n",
    "import time\n",
    "import functools"
   ]
  },
  {
   "cell_type": "code",
   "execution_count": 5,
   "metadata": {
    "execution": {
     "iopub.execute_input": "2025-06-11T13:46:26.366305Z",
     "iopub.status.busy": "2025-06-11T13:46:26.366018Z",
     "iopub.status.idle": "2025-06-11T13:46:26.376180Z",
     "shell.execute_reply": "2025-06-11T13:46:26.375408Z",
     "shell.execute_reply.started": "2025-06-11T13:46:26.366287Z"
    },
    "trusted": true
   },
   "outputs": [],
   "source": [
    "# CUSTOM IMAGE DATASET and process .HEIC images\n",
    "def convert_heic_to_jpeg(heic_path, jpeg_path):\n",
    "    try:\n",
    "        heif_file = pyheif.read(heic_path)\n",
    "        image = Image.frombytes(\n",
    "            heif_file.mode, \n",
    "            heif_file.size, \n",
    "            heif_file.data, \n",
    "            \"raw\", \n",
    "            heif_file.mode, \n",
    "            heif_file.stride,\n",
    "        )\n",
    "        image.save(jpeg_path, format=\"JPEG\")\n",
    "    except Exception as e:\n",
    "        print(f\"\\t🛑 Lỗi chuyển đổi .heic: {heic_path} — {e}\")\n",
    "\n",
    "\n",
    "def read_heic(img_path):\n",
    "    jpeg_path = \"heic2jpeg/\" + img_path.split(\"/\")[-1].replace(\".HEIC\", \".jpeg\")\n",
    "    convert_heic_to_jpeg(img_path, jpeg_path)\n",
    "    image = Image.open(jpeg_path).convert(\"RGB\")  # PIL.Image                \n",
    "    return image\n",
    "    \n",
    "class custom_image_dataset(torch.utils.data.IterableDataset):\n",
    "    def __init__(self, image_lists, transform=None, test=False):\n",
    "        self.image_lists = image_lists\n",
    "        self.transform = transform\n",
    "        self.test = test\n",
    "\n",
    "    def __read_image(self, img_path):\n",
    "        try:\n",
    "            if img_path.endswith(\".HEIC\"):\n",
    "                image = read_heic(img_path)\n",
    "                if image is not None:\n",
    "                    print(\"--> Converted to JPEG\")\n",
    "                else:\n",
    "                    print(\"--> Can't convert to JPEG\")\n",
    "            elif img_path.endswith(\".md\"):\n",
    "                print(\"Found markdown\")\n",
    "                return None\n",
    "            else:\n",
    "                image = Image.open(img_path).convert(\"RGB\")  # PIL.Image                \n",
    "            truth = -1\n",
    "            if not self.test:\n",
    "                label_str = os.path.basename(img_path).split(\"_\")[1]\n",
    "                truth = torch.tensor(int(label_str))\n",
    "\n",
    "            if self.transform:\n",
    "                # print(f\"Type: {type(self.transform)} \")\n",
    "                if isinstance(self.transform, functools.partial):\n",
    "                    image = self.transform()(image)  # Gọi transform với các tham số mặc định\n",
    "                else:\n",
    "                    image = self.transform(image)\n",
    "            return image.float(), truth, img_path\n",
    "        except Exception as e:\n",
    "            print(f\"\\t**Error reading imgs: {e} - for: {img_path}\")\n",
    "            return None\n",
    "\n",
    "    def __iter__(self):\n",
    "        worker_info = torch.utils.data.get_worker_info()\n",
    "        if worker_info is None:\n",
    "            iter_start = 0\n",
    "            iter_end = len(self.image_lists)\n",
    "        else:\n",
    "            per_worker = int(len(self.image_lists) / float(worker_info.num_workers))\n",
    "            worker_id = worker_info.id\n",
    "            iter_start =  worker_id * per_worker\n",
    "            iter_end = min(iter_start + per_worker, len(self.image_lists))\n",
    "        return iter(\n",
    "            filter(lambda x : x is not None\n",
    "                  , map(self.__read_image, self.image_lists[iter_start : iter_end] )\n",
    "            )\n",
    "        )\n",
    "\n",
    "    def __len__(self):\n",
    "        return len(self.image_lists)\n"
   ]
  },
  {
   "cell_type": "code",
   "execution_count": 6,
   "metadata": {
    "execution": {
     "iopub.execute_input": "2025-06-11T13:46:26.377108Z",
     "iopub.status.busy": "2025-06-11T13:46:26.376903Z",
     "iopub.status.idle": "2025-06-11T13:46:26.399476Z",
     "shell.execute_reply": "2025-06-11T13:46:26.398801Z",
     "shell.execute_reply.started": "2025-06-11T13:46:26.377083Z"
    },
    "trusted": true
   },
   "outputs": [],
   "source": [
    "# clear folder after using \n",
    "def clear_heics2jpegs():\n",
    "    if not os.path.exists(\"heic2jpeg\"):\n",
    "        os.makedirs(\"heic2jpeg\")\n",
    "    else:\n",
    "        shutil.rmtree(\"heic2jpeg\")\n",
    "        print(\"deleted old folder 'heic2jpeg'\")\n",
    "        os.makedirs(\"heic2jpeg\")\n",
    "        print(\"Created new 'heic2jpeg'\")\n",
    "\n",
    "clear_heics2jpegs()\n",
    "\n"
   ]
  },
  {
   "cell_type": "code",
   "execution_count": 7,
   "metadata": {
    "execution": {
     "iopub.execute_input": "2025-06-11T13:46:26.400343Z",
     "iopub.status.busy": "2025-06-11T13:46:26.400169Z",
     "iopub.status.idle": "2025-06-11T13:46:26.421396Z",
     "shell.execute_reply": "2025-06-11T13:46:26.420758Z",
     "shell.execute_reply.started": "2025-06-11T13:46:26.400328Z"
    },
    "trusted": true
   },
   "outputs": [],
   "source": [
    "# DEFINE CALLBACKS\n",
    "# Ghi cả ra file và màn hình\n",
    "class DualWriter:\n",
    "    def __init__(self, file):\n",
    "        self.file = file\n",
    "        self.stdout = sys.__stdout__  # console thật\n",
    "\n",
    "    def write(self, text):\n",
    "        self.stdout.write(text)\n",
    "        self.file.write(text)\n",
    "\n",
    "    def flush(self):\n",
    "        self.stdout.flush()\n",
    "        self.file.flush()\n",
    "\n",
    "class SaveBestModel:\n",
    "    def __init__(self, save_path=\"best_model.pth\", mode='min'):\n",
    "        self.best_value = float('inf') if mode == 'min' else -float('inf')\n",
    "        self.save_path = save_path\n",
    "        self.mode = mode\n",
    "\n",
    "    def __call__(self, current_value, model):\n",
    "        is_better = current_value < self.best_value if self.mode == 'min' else current_value > self.best_value\n",
    "        if is_better:\n",
    "            self.best_value = current_value\n",
    "            torch.save(model.state_dict(), self.save_path)\n",
    "            print(f\"✅ Saved new best model ({self.mode} = {current_value:.4f})\")\n",
    "\n",
    "class EarlyStopping:\n",
    "    def __init__(self, patience=5, mode='min'):\n",
    "        self.patience = patience\n",
    "        self.counter = 0\n",
    "        self.best_value = float('inf') if mode == 'min' else -float('inf')\n",
    "        self.early_stop = False\n",
    "        self.mode = mode\n",
    "\n",
    "    def __call__(self, current_value):\n",
    "        is_better = current_value < self.best_value if self.mode == 'min' else current_value > self.best_value\n",
    "\n",
    "        if is_better:\n",
    "            self.best_value = current_value\n",
    "            self.counter = 0\n",
    "        else:\n",
    "            self.counter += 1\n",
    "            print(f\"⚠️ No improvement. EarlyStopping counter: {self.counter}/{self.patience}\")\n",
    "            if self.counter >= self.patience:\n",
    "                self.early_stop = True\n",
    "    \n"
   ]
  },
  {
   "cell_type": "code",
   "execution_count": 8,
   "metadata": {
    "execution": {
     "iopub.execute_input": "2025-06-11T13:46:26.422350Z",
     "iopub.status.busy": "2025-06-11T13:46:26.422151Z",
     "iopub.status.idle": "2025-06-11T13:46:26.436290Z",
     "shell.execute_reply": "2025-06-11T13:46:26.435655Z",
     "shell.execute_reply.started": "2025-06-11T13:46:26.422334Z"
    },
    "trusted": true
   },
   "outputs": [],
   "source": [
    "# # function to process data: gray_100x100_norm\n",
    "# # DO NOT CHANGE IN THE SAME DATA VERSION\n",
    "# br = 0.65\n",
    "# ct = 0.6\n",
    "# transform = transforms.v2.Compose([\n",
    "#     T.ToImage(),\n",
    "#     T.GaussianBlur(kernel_size=(5,5), sigma=2.5),\n",
    "#     T.ColorJitter(brightness=(br, br), contrast=(ct, ct)),\n",
    "#     T.Grayscale(num_output_channels=1),\n",
    "#     T.Resize((100, 100)),\n",
    "#     T.ToDtype(torch.float32, scale=True),\n",
    "#     T.Normalize(mean=[0.5], std=[0.5]), \n",
    "# ])\n",
    "\n",
    "# # check how images are processed\n",
    "# import matplotlib.pyplot as plt\n",
    "# from torchvision.transforms.functional import to_pil_image\n",
    "\n",
    "# # Lấy 9 ảnh đầu tiên\n",
    "# temp = custom_image_dataset(train_list[:50], transform=transform)\n",
    "\n",
    "# # Tạo figure\n",
    "# fig, axes = plt.subplots(3, 3, figsize=(10, 10))  # 3x3 grid\n",
    "\n",
    "# # Flatten axes để dễ duyệt\n",
    "# axes = axes.flatten()\n",
    "# it = iter(temp)\n",
    "# for i in range(9):\n",
    "#     img, truth, path = next(it)\n",
    "\n",
    "#     # Hiển thị ảnh\n",
    "#     axes[i].imshow(to_pil_image(img), cmap='gray')\n",
    "#     axes[i].set_title(f\"Label: {truth}\")\n",
    "#     axes[i].axis(\"off\")  # Ẩn trục\n",
    "\n",
    "# plt.tight_layout()\n",
    "# plt.show()\n"
   ]
  },
  {
   "cell_type": "markdown",
   "metadata": {},
   "source": [
    "# **Initialize pretrained model**"
   ]
  },
  {
   "cell_type": "code",
   "execution_count": 30,
   "metadata": {
    "execution": {
     "iopub.execute_input": "2025-06-11T13:58:53.089192Z",
     "iopub.status.busy": "2025-06-11T13:58:53.088852Z",
     "iopub.status.idle": "2025-06-11T13:58:53.095675Z",
     "shell.execute_reply": "2025-06-11T13:58:53.094876Z",
     "shell.execute_reply.started": "2025-06-11T13:58:53.089162Z"
    },
    "trusted": true
   },
   "outputs": [
    {
     "data": {
      "text/plain": [
       "['EfficientNet',\n",
       " 'EfficientNet_B0_Weights',\n",
       " 'EfficientNet_B1_Weights',\n",
       " 'EfficientNet_B2_Weights',\n",
       " 'EfficientNet_B3_Weights',\n",
       " 'EfficientNet_B4_Weights',\n",
       " 'EfficientNet_B5_Weights',\n",
       " 'EfficientNet_B6_Weights',\n",
       " 'EfficientNet_B7_Weights',\n",
       " 'EfficientNet_V2_L_Weights',\n",
       " 'EfficientNet_V2_M_Weights',\n",
       " 'EfficientNet_V2_S_Weights',\n",
       " 'efficientnet',\n",
       " 'efficientnet_b0',\n",
       " 'efficientnet_b1',\n",
       " 'efficientnet_b2',\n",
       " 'efficientnet_b3',\n",
       " 'efficientnet_b4',\n",
       " 'efficientnet_b5',\n",
       " 'efficientnet_b6',\n",
       " 'efficientnet_b7',\n",
       " 'efficientnet_v2_l',\n",
       " 'efficientnet_v2_m',\n",
       " 'efficientnet_v2_s']"
      ]
     },
     "execution_count": 30,
     "metadata": {},
     "output_type": "execute_result"
    }
   ],
   "source": [
    "# what models to choose\n",
    "models_list = dir(torch_models)\n",
    "models_list = [m for m in models_list if \"efficient\" in m.lower()]\n",
    "models_list\n"
   ]
  },
  {
   "cell_type": "code",
   "execution_count": 31,
   "metadata": {
    "execution": {
     "iopub.execute_input": "2025-06-11T13:58:53.097048Z",
     "iopub.status.busy": "2025-06-11T13:58:53.096787Z",
     "iopub.status.idle": "2025-06-11T13:58:53.260855Z",
     "shell.execute_reply": "2025-06-11T13:58:53.260162Z",
     "shell.execute_reply.started": "2025-06-11T13:58:53.097025Z"
    },
    "trusted": true
   },
   "outputs": [
    {
     "name": "stdout",
     "output_type": "stream",
     "text": [
      "functools.partial(<class 'torchvision.transforms._presets.ImageClassification'>, crop_size=224, resize_size=256, interpolation=<InterpolationMode.BICUBIC: 'bicubic'>)\n"
     ]
    }
   ],
   "source": [
    "# init pretrained models and test_transform\n",
    "weights = torch_models.EfficientNet_B0_Weights.DEFAULT\n",
    "model = torch_models.efficientnet_b0(weights=weights)\n",
    "\n",
    "test_transform = weights.transforms\n",
    "print(test_transform)\n"
   ]
  },
  {
   "cell_type": "code",
   "execution_count": 32,
   "metadata": {
    "execution": {
     "iopub.execute_input": "2025-06-11T13:58:53.262295Z",
     "iopub.status.busy": "2025-06-11T13:58:53.261866Z",
     "iopub.status.idle": "2025-06-11T13:58:53.266315Z",
     "shell.execute_reply": "2025-06-11T13:58:53.265699Z",
     "shell.execute_reply.started": "2025-06-11T13:58:53.262271Z"
    },
    "trusted": true
   },
   "outputs": [
    {
     "name": "stdout",
     "output_type": "stream",
     "text": [
      "min_size: (1, 1)\n",
      "recipe: https://github.com/pytorch/vision/tree/main/references/classification#efficientnet-v1\n",
      "num_params: 5288548\n",
      "_metrics: {'ImageNet-1K': {'acc@1': 77.692, 'acc@5': 93.532}}\n",
      "_ops: 0.386\n",
      "_file_size: 20.451\n",
      "_docs: These weights are ported from the original paper.\n"
     ]
    }
   ],
   "source": [
    "# find trainsize in \"recipe\" link\n",
    "# find more info about model\n",
    "for key in weights.meta.keys():\n",
    "    if key == 'categories':\n",
    "        continue\n",
    "    print(f\"{key}: {weights.meta[key]}\")"
   ]
  },
  {
   "cell_type": "code",
   "execution_count": null,
   "metadata": {
    "execution": {
     "iopub.execute_input": "2025-06-11T14:02:33.135042Z",
     "iopub.status.busy": "2025-06-11T14:02:33.134291Z",
     "iopub.status.idle": "2025-06-11T14:02:33.142820Z",
     "shell.execute_reply": "2025-06-11T14:02:33.142184Z",
     "shell.execute_reply.started": "2025-06-11T14:02:33.135009Z"
    },
    "trusted": true
   },
   "outputs": [],
   "source": [
    "# create transform for training\n",
    "train_tf = T.Compose([\n",
    "    T.Grayscale(num_output_channels=1),\n",
    "    T.Resize(224),\n",
    "    T.RandomRotation(10),\n",
    "    T.RandomAffine(0, translate=(0.1,0.1)),\n",
    "    T.RandomHorizontalFlip(),\n",
    "    T.CenterCrop(200),\n",
    "    T.ToTensor(),\n",
    "    T.Lambda(lambda x: x.repeat(3,1,1)),\n",
    "    T.Normalize(mean=[0.485,0.456,0.406],\n",
    "                std =[0.229,0.224,0.225]),\n",
    "])\n",
    "test_tf = T.Compose([\n",
    "    T.Grayscale(num_output_channels=1),\n",
    "    T.Resize(224),\n",
    "    T.CenterCrop(200),\n",
    "    T.ToTensor(),\n",
    "    T.Lambda(lambda x: x.repeat(3,1,1)),\n",
    "    T.Normalize(mean=[0.485,0.456,0.406],\n",
    "                std =[0.229,0.224,0.225]),\n",
    "])\n",
    "\n",
    "train_transform = train_tf\n",
    "test_transform = test_tf"
   ]
  },
  {
   "cell_type": "markdown",
   "metadata": {},
   "source": [
    "# **Prepare data**"
   ]
  },
  {
   "cell_type": "code",
   "execution_count": 42,
   "metadata": {
    "execution": {
     "iopub.execute_input": "2025-06-11T14:02:33.144806Z",
     "iopub.status.busy": "2025-06-11T14:02:33.144139Z",
     "iopub.status.idle": "2025-06-11T14:02:33.200371Z",
     "shell.execute_reply": "2025-06-11T14:02:33.199664Z",
     "shell.execute_reply.started": "2025-06-11T14:02:33.144778Z"
    },
    "trusted": true
   },
   "outputs": [
    {
     "name": "stdout",
     "output_type": "stream",
     "text": [
      "True True\n",
      "train: 5917, val: 1354\n"
     ]
    }
   ],
   "source": [
    "# train and val \n",
    "data_dir = \"/kaggle/input/handwritten-tl/digits_data\"\n",
    "\n",
    "train_dir = os.path.join(data_dir, \"train\")\n",
    "val_dir = os.path.join(data_dir, \"val\")\n",
    "\n",
    "print(os.path.exists(train_dir), os.path.exists(val_dir))\n",
    "\n",
    "origin_train_list = glob.glob(train_dir + \"/*/*\")\n",
    "origin_val_list = glob.glob(val_dir + \"/*/*\")\n",
    "\n",
    "train_list = origin_train_list[:]\n",
    "val_list = origin_val_list[:]\n",
    "\n",
    "random.shuffle(train_list)\n",
    "random.shuffle(val_list)\n",
    "\n",
    "print(f\"train: {len(train_list)}, val: {len(val_list)}\")"
   ]
  },
  {
   "cell_type": "code",
   "execution_count": 43,
   "metadata": {
    "execution": {
     "iopub.execute_input": "2025-06-11T14:02:33.201428Z",
     "iopub.status.busy": "2025-06-11T14:02:33.201188Z",
     "iopub.status.idle": "2025-06-11T14:02:33.209067Z",
     "shell.execute_reply": "2025-06-11T14:02:33.208415Z",
     "shell.execute_reply.started": "2025-06-11T14:02:33.201410Z"
    },
    "trusted": true
   },
   "outputs": [
    {
     "name": "stdout",
     "output_type": "stream",
     "text": [
      "Num workers: 4\n"
     ]
    },
    {
     "data": {
      "text/plain": [
       "[0, 1, 2, 3, 4, 5, 6, 7, 8, 9]"
      ]
     },
     "execution_count": 43,
     "metadata": {},
     "output_type": "execute_result"
    }
   ],
   "source": [
    "BATCH_SIZE = 128\n",
    "num_workers = os.cpu_count()\n",
    "print(f\"Num workers: {num_workers}\")\n",
    "\n",
    "trainset = custom_image_dataset(train_list,transform=train_transform, test=False)\n",
    "trainloader = torch.utils.data.DataLoader(trainset, batch_size=BATCH_SIZE, num_workers=num_workers)\n",
    "\n",
    "valset = custom_image_dataset(val_list, transform=test_transform, test=False)\n",
    "valloader = torch.utils.data.DataLoader(valset, batch_size=BATCH_SIZE, num_workers=num_workers)\n",
    "\n",
    "classes = [i for i in range(10)]\n",
    "classes"
   ]
  },
  {
   "cell_type": "markdown",
   "metadata": {},
   "source": [
    "# **Config**"
   ]
  },
  {
   "cell_type": "code",
   "execution_count": 44,
   "metadata": {
    "execution": {
     "iopub.execute_input": "2025-06-11T14:02:33.211081Z",
     "iopub.status.busy": "2025-06-11T14:02:33.210802Z",
     "iopub.status.idle": "2025-06-11T14:02:33.232526Z",
     "shell.execute_reply": "2025-06-11T14:02:33.231761Z",
     "shell.execute_reply.started": "2025-06-11T14:02:33.211065Z"
    },
    "trusted": true
   },
   "outputs": [
    {
     "name": "stdout",
     "output_type": "stream",
     "text": [
      "Before moddign classifier layer:  Sequential(\n",
      "  (0): Linear(in_features=1280, out_features=10, bias=True)\n",
      ")\n",
      "\n",
      "After moddign classifier layer:  Sequential(\n",
      "  (0): Linear(in_features=1280, out_features=10, bias=True)\n",
      ")\n"
     ]
    }
   ],
   "source": [
    "# freeze parameters\n",
    "for param in model.parameters():\n",
    "    param.requires_grad = False\n",
    "    \n",
    "print(f\"Before moddign classifier layer: \", model.classifier)\n",
    "\n",
    "# change the last layer:\n",
    "model.classifier = nn.Sequential(\n",
    "    # nn.Dropout(p=0.2, inplace=True),\n",
    "    nn.Linear(1280, len(classes))\n",
    ")\n",
    "\n",
    "print(f\"\\nAfter moddign classifier layer: \", model.classifier)"
   ]
  },
  {
   "cell_type": "code",
   "execution_count": 45,
   "metadata": {
    "execution": {
     "iopub.execute_input": "2025-06-11T14:02:33.233541Z",
     "iopub.status.busy": "2025-06-11T14:02:33.233295Z",
     "iopub.status.idle": "2025-06-11T14:02:33.250632Z",
     "shell.execute_reply": "2025-06-11T14:02:33.249927Z",
     "shell.execute_reply.started": "2025-06-11T14:02:33.233519Z"
    },
    "trusted": true
   },
   "outputs": [
    {
     "name": "stdout",
     "output_type": "stream",
     "text": [
      "Name: classifier.0.weight, requires_grad: True\n",
      "Name: classifier.0.bias, requires_grad: True\n"
     ]
    }
   ],
   "source": [
    "# check if parameters freezed\n",
    "for name, param in model.named_parameters():\n",
    "    if param.requires_grad:\n",
    "        print(f\"Name: {name}, requires_grad: {param.requires_grad}\")"
   ]
  },
  {
   "cell_type": "code",
   "execution_count": 46,
   "metadata": {
    "execution": {
     "iopub.execute_input": "2025-06-11T14:02:33.251693Z",
     "iopub.status.busy": "2025-06-11T14:02:33.251432Z",
     "iopub.status.idle": "2025-06-11T14:02:33.313786Z",
     "shell.execute_reply": "2025-06-11T14:02:33.312991Z",
     "shell.execute_reply.started": "2025-06-11T14:02:33.251667Z"
    },
    "trusted": true
   },
   "outputs": [
    {
     "name": "stdout",
     "output_type": "stream",
     "text": [
      "Using deive: cuda\n"
     ]
    }
   ],
   "source": [
    "# criterion and optim\n",
    "device = torch.device(\"cuda\" if torch.cuda.is_available() else \"cpu\")\n",
    "print(f\"Using deive: {device}\")\n",
    "model = model.to(device)\n",
    "\n",
    "criterion = nn.CrossEntropyLoss()\n",
    "optimizer = optim.Adam(model.parameters(), lr=0.001)"
   ]
  },
  {
   "cell_type": "code",
   "execution_count": 47,
   "metadata": {
    "execution": {
     "iopub.execute_input": "2025-06-11T14:02:33.314939Z",
     "iopub.status.busy": "2025-06-11T14:02:33.314664Z",
     "iopub.status.idle": "2025-06-11T14:02:33.328039Z",
     "shell.execute_reply": "2025-06-11T14:02:33.327352Z",
     "shell.execute_reply.started": "2025-06-11T14:02:33.314922Z"
    },
    "trusted": true
   },
   "outputs": [
    {
     "name": "stdout",
     "output_type": "stream",
     "text": [
      "Deleted old 'train_log'.\n"
     ]
    }
   ],
   "source": [
    "# prepare log\n",
    "if os.path.exists('train_log.txt'):\n",
    "    os.remove('train_log.txt')\n",
    "    print(\"Deleted old 'train_log'.\")\n",
    "    \n",
    "# Ghi log ra log.txt\n",
    "log_file = open(\"train_log.txt\", \"a\")  # open log file\n",
    "\n",
    "# define callbacks\n",
    "dual_output = DualWriter(log_file)\n",
    "save_best_model = SaveBestModel(\"best_model.pth\", mode='min')\n",
    "early_stopping = EarlyStopping(patience=5, mode='min')"
   ]
  },
  {
   "cell_type": "markdown",
   "metadata": {},
   "source": [
    "# **TRAINING**"
   ]
  },
  {
   "cell_type": "code",
   "execution_count": 48,
   "metadata": {
    "execution": {
     "iopub.execute_input": "2025-06-11T14:02:33.329296Z",
     "iopub.status.busy": "2025-06-11T14:02:33.329007Z",
     "iopub.status.idle": "2025-06-11T14:29:43.303320Z",
     "shell.execute_reply": "2025-06-11T14:29:43.302489Z",
     "shell.execute_reply.started": "2025-06-11T14:02:33.329277Z"
    },
    "trusted": true
   },
   "outputs": [
    {
     "name": "stderr",
     "output_type": "stream",
     "text": [
      "Epochs:   0%|          | 0/20 [00:00<?, ?it/s]"
     ]
    },
    {
     "name": "stdout",
     "output_type": "stream",
     "text": [
      "\n"
     ]
    },
    {
     "name": "stderr",
     "output_type": "stream",
     "text": [
      "Epochs:   5%|▌         | 1/20 [01:25<27:11, 85.88s/it]"
     ]
    },
    {
     "name": "stdout",
     "output_type": "stream",
     "text": [
      "Epoch 1 loss: 2.1061 - time: 85.8187243938446s\n",
      "✅ Saved new best model (min = 2.1061)\n",
      "\n"
     ]
    },
    {
     "name": "stderr",
     "output_type": "stream",
     "text": [
      "Epochs:  10%|█         | 2/20 [02:48<25:08, 83.80s/it]"
     ]
    },
    {
     "name": "stdout",
     "output_type": "stream",
     "text": [
      "Epoch 2 loss: 1.7607 - time: 82.26909184455872s\n",
      "✅ Saved new best model (min = 1.7607)\n",
      "\n"
     ]
    },
    {
     "name": "stderr",
     "output_type": "stream",
     "text": [
      "Epochs:  15%|█▌        | 3/20 [04:12<23:51, 84.21s/it]"
     ]
    },
    {
     "name": "stdout",
     "output_type": "stream",
     "text": [
      "Epoch 3 loss: 1.5923 - time: 84.62770581245422s\n",
      "✅ Saved new best model (min = 1.5923)\n",
      "\n"
     ]
    },
    {
     "name": "stderr",
     "output_type": "stream",
     "text": [
      "Epochs:  20%|██        | 4/20 [05:38<22:38, 84.90s/it]"
     ]
    },
    {
     "name": "stdout",
     "output_type": "stream",
     "text": [
      "Epoch 4 loss: 1.4987 - time: 85.89392495155334s\n",
      "✅ Saved new best model (min = 1.4987)\n",
      "\n"
     ]
    },
    {
     "name": "stderr",
     "output_type": "stream",
     "text": [
      "Epochs:  25%|██▌       | 5/20 [07:01<21:00, 84.04s/it]"
     ]
    },
    {
     "name": "stdout",
     "output_type": "stream",
     "text": [
      "Epoch 5 loss: 1.4283 - time: 82.43948698043823s\n",
      "✅ Saved new best model (min = 1.4283)\n",
      "\n"
     ]
    },
    {
     "name": "stderr",
     "output_type": "stream",
     "text": [
      "Epochs:  30%|███       | 6/20 [08:22<19:23, 83.07s/it]"
     ]
    },
    {
     "name": "stdout",
     "output_type": "stream",
     "text": [
      "Epoch 6 loss: 1.3765 - time: 81.12471342086792s\n",
      "✅ Saved new best model (min = 1.3765)\n",
      "\n"
     ]
    },
    {
     "name": "stderr",
     "output_type": "stream",
     "text": [
      "Epochs:  35%|███▌      | 7/20 [09:42<17:45, 81.95s/it]"
     ]
    },
    {
     "name": "stdout",
     "output_type": "stream",
     "text": [
      "Epoch 7 loss: 1.3398 - time: 79.58641839027405s\n",
      "✅ Saved new best model (min = 1.3398)\n",
      "\n"
     ]
    },
    {
     "name": "stderr",
     "output_type": "stream",
     "text": [
      "Epochs:  40%|████      | 8/20 [11:02<16:15, 81.29s/it]"
     ]
    },
    {
     "name": "stdout",
     "output_type": "stream",
     "text": [
      "Epoch 8 loss: 1.2991 - time: 79.79686903953552s\n",
      "✅ Saved new best model (min = 1.2991)\n",
      "\n"
     ]
    },
    {
     "name": "stderr",
     "output_type": "stream",
     "text": [
      "Epochs:  45%|████▌     | 9/20 [12:21<14:45, 80.54s/it]"
     ]
    },
    {
     "name": "stdout",
     "output_type": "stream",
     "text": [
      "Epoch 9 loss: 1.2714 - time: 78.83540749549866s\n",
      "✅ Saved new best model (min = 1.2714)\n",
      "\n"
     ]
    },
    {
     "name": "stderr",
     "output_type": "stream",
     "text": [
      "Epochs:  50%|█████     | 10/20 [13:40<13:22, 80.23s/it]"
     ]
    },
    {
     "name": "stdout",
     "output_type": "stream",
     "text": [
      "Epoch 10 loss: 1.2534 - time: 79.46370124816895s\n",
      "✅ Saved new best model (min = 1.2534)\n",
      "\n"
     ]
    },
    {
     "name": "stderr",
     "output_type": "stream",
     "text": [
      "Epochs:  55%|█████▌    | 11/20 [14:58<11:57, 79.68s/it]"
     ]
    },
    {
     "name": "stdout",
     "output_type": "stream",
     "text": [
      "Epoch 11 loss: 1.2283 - time: 78.35245847702026s\n",
      "✅ Saved new best model (min = 1.2283)\n",
      "\n"
     ]
    },
    {
     "name": "stderr",
     "output_type": "stream",
     "text": [
      "Epochs:  60%|██████    | 12/20 [16:18<10:37, 79.69s/it]"
     ]
    },
    {
     "name": "stdout",
     "output_type": "stream",
     "text": [
      "Epoch 12 loss: 1.2178 - time: 79.65140438079834s\n",
      "✅ Saved new best model (min = 1.2178)\n",
      "\n"
     ]
    },
    {
     "name": "stderr",
     "output_type": "stream",
     "text": [
      "Epochs:  65%|██████▌   | 13/20 [17:37<09:16, 79.57s/it]"
     ]
    },
    {
     "name": "stdout",
     "output_type": "stream",
     "text": [
      "Epoch 13 loss: 1.2002 - time: 79.22850942611694s\n",
      "✅ Saved new best model (min = 1.2002)\n",
      "\n"
     ]
    },
    {
     "name": "stderr",
     "output_type": "stream",
     "text": [
      "Epochs:  70%|███████   | 14/20 [18:57<07:56, 79.49s/it]"
     ]
    },
    {
     "name": "stdout",
     "output_type": "stream",
     "text": [
      "Epoch 14 loss: 1.1884 - time: 79.25515532493591s\n",
      "✅ Saved new best model (min = 1.1884)\n",
      "\n"
     ]
    },
    {
     "name": "stderr",
     "output_type": "stream",
     "text": [
      "Epochs:  75%|███████▌  | 15/20 [20:17<06:38, 79.71s/it]"
     ]
    },
    {
     "name": "stdout",
     "output_type": "stream",
     "text": [
      "Epoch 15 loss: 1.1683 - time: 80.14616179466248s\n",
      "✅ Saved new best model (min = 1.1683)\n",
      "\n"
     ]
    },
    {
     "name": "stderr",
     "output_type": "stream",
     "text": [
      "Epochs:  80%|████████  | 16/20 [21:36<05:17, 79.49s/it]"
     ]
    },
    {
     "name": "stdout",
     "output_type": "stream",
     "text": [
      "Epoch 16 loss: 1.1490 - time: 78.91152572631836s\n",
      "✅ Saved new best model (min = 1.1490)\n",
      "\n"
     ]
    },
    {
     "name": "stderr",
     "output_type": "stream",
     "text": [
      "Epochs:  85%|████████▌ | 17/20 [22:58<04:00, 80.11s/it]"
     ]
    },
    {
     "name": "stdout",
     "output_type": "stream",
     "text": [
      "Epoch 17 loss: 1.1504 - time: 81.53789472579956s\n",
      "⚠️ No improvement. EarlyStopping counter: 1/5\n",
      "\n"
     ]
    },
    {
     "name": "stderr",
     "output_type": "stream",
     "text": [
      "Epochs:  90%|█████████ | 18/20 [24:19<02:40, 80.43s/it]"
     ]
    },
    {
     "name": "stdout",
     "output_type": "stream",
     "text": [
      "Epoch 18 loss: 1.1544 - time: 81.19584250450134s\n",
      "⚠️ No improvement. EarlyStopping counter: 2/5\n",
      "\n"
     ]
    },
    {
     "name": "stderr",
     "output_type": "stream",
     "text": [
      "Epochs:  95%|█████████▌| 19/20 [25:45<01:22, 82.09s/it]"
     ]
    },
    {
     "name": "stdout",
     "output_type": "stream",
     "text": [
      "Epoch 19 loss: 1.1341 - time: 85.88208842277527s\n",
      "✅ Saved new best model (min = 1.1341)\n",
      "\n"
     ]
    },
    {
     "name": "stderr",
     "output_type": "stream",
     "text": [
      "Epochs: 100%|██████████| 20/20 [27:09<00:00, 81.50s/it]"
     ]
    },
    {
     "name": "stdout",
     "output_type": "stream",
     "text": [
      "🟢 Đã ra khỏi with, chỉ in ra console, không ghi file\n"
     ]
    },
    {
     "name": "stderr",
     "output_type": "stream",
     "text": [
      "\n"
     ]
    }
   ],
   "source": [
    "# start training (finetune)\n",
    "start_time = time.time()\n",
    "model.train()\n",
    "\n",
    "with redirect_stdout(dual_output):\n",
    "    for epoch in tqdm(range(20), desc=\"Epochs: \"):  # loop over the dataset multiple times\n",
    "        running_loss = 0.0\n",
    "        print()\n",
    "        epoch_start = time.time()\n",
    "        for i, data in enumerate(trainloader, 0):\n",
    "            inputs, labels, _ = data\n",
    "            inputs = inputs.to(device)\n",
    "            labels = labels.to(device)\n",
    "            # print(inputs.device, labels.device, next(net.parameters()).device)\n",
    "            optimizer.zero_grad()\n",
    "            outputs = model(inputs)\n",
    "            loss = criterion(outputs, labels)\n",
    "            loss.backward()\n",
    "            optimizer.step()\n",
    "            running_loss += loss.item()\n",
    "\n",
    "        epoch_loss = running_loss / len(trainloader)\n",
    "        print(f\"Epoch {epoch+1} loss: {epoch_loss:.4f} - time: {time.time() - epoch_start}s\")\n",
    "\n",
    "        # call callback\n",
    "        save_best_model(epoch_loss, model)\n",
    "        early_stopping(epoch_loss)\n",
    "        \n",
    "        if early_stopping.early_stop:\n",
    "            print(\"⛔ Early stopping triggered.\")\n",
    "            break\n",
    "\n",
    "    total_time = time.time() - start_time\n",
    "    print(f'Finished Training in: {total_time//60:.0f}m {total_time%60:.0f}s\\n')\n",
    "    \n",
    "print(\"🟢 Đã ra khỏi with, chỉ in ra console, không ghi file\")\n",
    "log_file.close()\n",
    "\n",
    "\n"
   ]
  },
  {
   "cell_type": "markdown",
   "metadata": {},
   "source": [
    "# **VALIDATE**"
   ]
  },
  {
   "cell_type": "code",
   "execution_count": 50,
   "metadata": {
    "execution": {
     "iopub.execute_input": "2025-06-11T14:37:07.101657Z",
     "iopub.status.busy": "2025-06-11T14:37:07.101072Z",
     "iopub.status.idle": "2025-06-11T14:37:07.339548Z",
     "shell.execute_reply": "2025-06-11T14:37:07.338932Z",
     "shell.execute_reply.started": "2025-06-11T14:37:07.101634Z"
    },
    "trusted": true
   },
   "outputs": [
    {
     "name": "stdout",
     "output_type": "stream",
     "text": [
      "start eval\n"
     ]
    }
   ],
   "source": [
    "# load saved model in \"best_model.pth\", no need to turn on requires_grad\n",
    "model = torch_models.efficientnet_b0(weights=None)\n",
    "model.classifier = nn.Sequential(\n",
    "    # nn.Dropout(p=0.2, inplace=True),\n",
    "    nn.Linear(1280, len(classes))\n",
    ")\n",
    "model.load_state_dict(torch.load(\"best_model.pth\", map_location=device))\n",
    "\n",
    "model = model.to(device)\n",
    "model.eval()\n",
    "print(\"start eval\")"
   ]
  },
  {
   "cell_type": "code",
   "execution_count": 51,
   "metadata": {
    "execution": {
     "iopub.execute_input": "2025-06-11T14:37:12.313320Z",
     "iopub.status.busy": "2025-06-11T14:37:12.313007Z",
     "iopub.status.idle": "2025-06-11T14:37:33.754689Z",
     "shell.execute_reply": "2025-06-11T14:37:33.753004Z",
     "shell.execute_reply.started": "2025-06-11T14:37:12.313290Z"
    },
    "trusted": true
   },
   "outputs": [
    {
     "name": "stdout",
     "output_type": "stream",
     "text": [
      "Accuracy on valset: 65.68 %\n"
     ]
    }
   ],
   "source": [
    "# start validate\n",
    "correct = 0\n",
    "total = 0\n",
    "\n",
    "# since we're not training, we don't need to calculate the gradients for our outputs\n",
    "with torch.no_grad():\n",
    "    for data in valloader:\n",
    "        images, labels,_ = data\n",
    "        images = images.to(device)\n",
    "        labels = labels.to(device)\n",
    "\n",
    "        # calculate outputs by running images through the network\n",
    "        outputs = model(images)\n",
    "        _, predicted = torch.max(outputs, 1)\n",
    "\n",
    "        total += labels.size(0)\n",
    "        correct += (predicted == labels).sum().item()\n",
    "\n",
    "accuracy = 100 * correct / total\n",
    "print(f'Accuracy on valset: {accuracy:.2f} %')\n",
    "\n",
    "\n"
   ]
  },
  {
   "cell_type": "markdown",
   "metadata": {},
   "source": [
    "# **PREDICTS 2K IMAGES**"
   ]
  },
  {
   "cell_type": "code",
   "execution_count": 52,
   "metadata": {
    "execution": {
     "iopub.execute_input": "2025-06-11T14:37:33.756992Z",
     "iopub.status.busy": "2025-06-11T14:37:33.756659Z",
     "iopub.status.idle": "2025-06-11T14:37:34.128663Z",
     "shell.execute_reply": "2025-06-11T14:37:34.128013Z",
     "shell.execute_reply.started": "2025-06-11T14:37:33.756966Z"
    },
    "trusted": true
   },
   "outputs": [
    {
     "name": "stdout",
     "output_type": "stream",
     "text": [
      "deleted old folder 'heic2jpeg'\n",
      "Created new 'heic2jpeg'\n",
      "samples: 2939\n"
     ]
    }
   ],
   "source": [
    "# clear folder\n",
    "clear_heics2jpegs()\n",
    "\n",
    "# prepare data\n",
    "test_dir = \"/kaggle/input/handwritten-test-cs114\"\n",
    "test_list = [os.path.join(test_dir, img) for img in os.listdir(test_dir)]\n",
    "print(f\"samples: {len(test_list)}\")\n",
    "\n",
    "testset = custom_image_dataset(test_list, transform=test_transform, test=True)\n",
    "testloader = torch.utils.data.DataLoader(testset,batch_size=BATCH_SIZE, num_workers=num_workers)"
   ]
  },
  {
   "cell_type": "code",
   "execution_count": 53,
   "metadata": {
    "execution": {
     "iopub.execute_input": "2025-06-11T14:37:34.129591Z",
     "iopub.status.busy": "2025-06-11T14:37:34.129332Z",
     "iopub.status.idle": "2025-06-11T14:38:10.366001Z",
     "shell.execute_reply": "2025-06-11T14:38:10.364990Z",
     "shell.execute_reply.started": "2025-06-11T14:37:34.129572Z"
    },
    "trusted": true
   },
   "outputs": [
    {
     "name": "stdout",
     "output_type": "stream",
     "text": [
      "--> Converted to JPEG\n",
      "--> Converted to JPEG\n",
      "Found markdown\n",
      "--> Converted to JPEG\n",
      "--> Converted to JPEG\n",
      "--> Converted to JPEG\n",
      "Found markdown\n",
      "--> Converted to JPEG\n",
      "Found markdown\n",
      "--> Converted to JPEG\n",
      "--> Converted to JPEG\n",
      "Found markdown\n",
      "--> Converted to JPEG\n",
      "Found markdown\n",
      "--> Converted to JPEG\n",
      "--> Converted to JPEG\n",
      "--> Converted to JPEG\n",
      "Found markdown\n",
      "Found markdown\n",
      "--> Converted to JPEG\n",
      "--> Converted to JPEG\n",
      "--> Converted to JPEG\n",
      "Found markdown\n",
      "--> Converted to JPEG\n",
      "Found markdown\n",
      "--> Converted to JPEG\n",
      "--> Converted to JPEG\n",
      "--> Converted to JPEG\n",
      "Found markdown\n",
      "--> Converted to JPEG\n",
      "--> Converted to JPEG\n",
      "--> Converted to JPEG\n",
      "--> Converted to JPEG\n",
      "--> Converted to JPEG\n",
      "--> Converted to JPEG\n",
      "Found markdown\n",
      "--> Converted to JPEG\n",
      "--> Converted to JPEG\n",
      "--> Converted to JPEG\n",
      "--> Converted to JPEG\n",
      "--> Converted to JPEG\n",
      "Predictions saved in 'predict_2k.txt'\n"
     ]
    }
   ],
   "source": [
    "# start prediction\n",
    "predict_txt = \"\"\n",
    "with torch.no_grad():\n",
    "    for data in testloader:\n",
    "        images, labels, paths = data\n",
    "        images = images.to(device)\n",
    "        labels = labels.to(device)\n",
    "\n",
    "        # calculate outputs by running images through the network\n",
    "        outputs = model(images)\n",
    "        _, predicted = torch.max(outputs, 1)\n",
    "\n",
    "        # save\n",
    "        for path, pred in zip(paths, predicted):\n",
    "            path = path.replace(test_dir, \"\").lstrip(os.sep)  # Strip test_dir and leading separator\n",
    "            predict_txt += f\"{path},{pred.item()}\\n\"\n",
    "\n",
    "# Write to file in text mode\n",
    "with open(\"/kaggle/working/predict_2k.txt\", \"w\") as file:\n",
    "    file.write(predict_txt)\n",
    "print(\"Predictions saved in 'predict_2k.txt'\")\n",
    "\n"
   ]
  },
  {
   "cell_type": "code",
   "execution_count": 54,
   "metadata": {
    "execution": {
     "iopub.execute_input": "2025-06-11T14:38:10.368506Z",
     "iopub.status.busy": "2025-06-11T14:38:10.368250Z",
     "iopub.status.idle": "2025-06-11T14:38:10.480716Z",
     "shell.execute_reply": "2025-06-11T14:38:10.480025Z",
     "shell.execute_reply.started": "2025-06-11T14:38:10.368482Z"
    },
    "trusted": true
   },
   "outputs": [
    {
     "name": "stdout",
     "output_type": "stream",
     "text": [
      "label (wrong truth cause this is test phase): -1\n",
      "/kaggle/input/handwritten-test-cs114/389269258327f495063eeb7863aeb323  -.jpg\n"
     ]
    },
    {
     "data": {
      "image/jpeg": "[encoded data removed]",
      "image/png": "[encoded data removed]",
      "text/plain": [
       "<PIL.Image.Image image mode=RGB size=200x200>"
      ]
     },
     "metadata": {},
     "output_type": "display_data"
    }
   ],
   "source": [
    "# show a processed test image\n",
    "temp = custom_image_dataset(test_list[:10], transform=test_transform, test=True)\n",
    "it = iter(temp)\n",
    "img, truth, path = next(it)\n",
    "\n",
    "print(f\"label (wrong truth cause this is test phase): {truth}\")\n",
    "print(path)\n",
    "\n",
    "display(to_pil_image(img))"
   ]
  },
  {
   "cell_type": "markdown",
   "metadata": {},
   "source": [
    "# **PREDICT 10K IMAGES**"
   ]
  },
  {
   "cell_type": "code",
   "execution_count": 55,
   "metadata": {
    "execution": {
     "iopub.execute_input": "2025-06-11T14:38:10.481854Z",
     "iopub.status.busy": "2025-06-11T14:38:10.481566Z",
     "iopub.status.idle": "2025-06-11T14:38:10.793426Z",
     "shell.execute_reply": "2025-06-11T14:38:10.792668Z",
     "shell.execute_reply.started": "2025-06-11T14:38:10.481829Z"
    },
    "trusted": true
   },
   "outputs": [
    {
     "name": "stdout",
     "output_type": "stream",
     "text": [
      "deleted old folder 'heic2jpeg'\n",
      "Created new 'heic2jpeg'\n",
      "samples: 9974\n"
     ]
    }
   ],
   "source": [
    "# CLEAR folder\n",
    "clear_heics2jpegs()\n",
    "\n",
    "# prepare data\n",
    "test_dir = \"/kaggle/input/handwritten-test-10k\"\n",
    "test_list = [os.path.join(test_dir, img) for img in os.listdir(test_dir)]\n",
    "print(f\"samples: {len(test_list)}\")\n",
    "\n",
    "testset = custom_image_dataset(test_list, transform=test_transform, test=True)\n",
    "testloader = torch.utils.data.DataLoader(testset,batch_size=BATCH_SIZE, num_workers=num_workers)"
   ]
  },
  {
   "cell_type": "code",
   "execution_count": 56,
   "metadata": {
    "execution": {
     "iopub.execute_input": "2025-06-11T14:38:10.794480Z",
     "iopub.status.busy": "2025-06-11T14:38:10.794259Z",
     "iopub.status.idle": "2025-06-11T14:40:26.355105Z",
     "shell.execute_reply": "2025-06-11T14:40:26.354200Z",
     "shell.execute_reply.started": "2025-06-11T14:38:10.794463Z"
    },
    "trusted": true
   },
   "outputs": [
    {
     "name": "stdout",
     "output_type": "stream",
     "text": [
      "Predictions saved in 'predict_10k.txt'\n"
     ]
    }
   ],
   "source": [
    "# start predicting\n",
    "predict_txt = \"\"\n",
    "with torch.no_grad():\n",
    "    for data in testloader:\n",
    "        images, labels, paths = data\n",
    "        images = images.to(device)\n",
    "        labels = labels.to(device)\n",
    "\n",
    "        # calculate outputs by running images through the network\n",
    "        outputs = model(images)\n",
    "        _, predicted = torch.max(outputs, 1)\n",
    "\n",
    "        # save\n",
    "        for path, pred in zip(paths, predicted):\n",
    "            path = path.replace(test_dir, \"\").lstrip(os.sep)  # Strip test_dir and leading separator\n",
    "            predict_txt += f\"{path},{pred.item()}\\n\"\n",
    "\n",
    "# Write to file in text mode\n",
    "with open(\"/kaggle/working/predict_10k.txt\", \"w\") as file:\n",
    "    file.write(predict_txt)\n",
    "print(\"Predictions saved in 'predict_10k.txt'\")\n",
    "\n",
    "\n"
   ]
  },
  {
   "cell_type": "code",
   "execution_count": 57,
   "metadata": {
    "execution": {
     "iopub.execute_input": "2025-06-11T14:40:26.356472Z",
     "iopub.status.busy": "2025-06-11T14:40:26.356252Z",
     "iopub.status.idle": "2025-06-11T14:40:26.443100Z",
     "shell.execute_reply": "2025-06-11T14:40:26.442235Z",
     "shell.execute_reply.started": "2025-06-11T14:40:26.356451Z"
    },
    "trusted": true
   },
   "outputs": [
    {
     "name": "stdout",
     "output_type": "stream",
     "text": [
      "label: -1\n",
      "/kaggle/input/handwritten-test-10k/167144297687438af7bff077e768440c.jpg\n"
     ]
    },
    {
     "data": {
      "image/jpeg": "[encoded data removed]",
      "image/png": "[encoded data removed]",
      "text/plain": [
       "<PIL.Image.Image image mode=RGB size=200x200>"
      ]
     },
     "metadata": {},
     "output_type": "display_data"
    }
   ],
   "source": [
    "# show a processed test image\n",
    "temp = custom_image_dataset(test_list[:10], transform=test_transform, test=True)\n",
    "it = iter(temp)\n",
    "img, truth, path = next(it)\n",
    "\n",
    "print(f\"label: {truth}\")\n",
    "print(path)\n",
    "\n",
    "display(to_pil_image(img))"
   ]
  },
  {
   "cell_type": "markdown",
   "metadata": {},
   "source": [
    "# **Save**"
   ]
  },
  {
   "cell_type": "code",
   "execution_count": 58,
   "metadata": {
    "execution": {
     "iopub.execute_input": "2025-06-11T14:40:26.444375Z",
     "iopub.status.busy": "2025-06-11T14:40:26.444105Z",
     "iopub.status.idle": "2025-06-11T14:40:26.449782Z",
     "shell.execute_reply": "2025-06-11T14:40:26.449088Z",
     "shell.execute_reply.started": "2025-06-11T14:40:26.444352Z"
    },
    "trusted": true
   },
   "outputs": [],
   "source": [
    "log_path = \"train_log.txt\"\n",
    "with open(log_path, \"a\") as f:\n",
    "    f.write(\"\\n\\n\" + \"=\"*60 + \"\\n\")\n",
    "    f.write(\"Training Summary\\n\")\n",
    "    f.write(\"=\"*60 + \"\\n\")\n",
    "    f.write(f\"Time: {total_time//60:.0f}m {total_time%60:.0f}s\\n\")\n",
    "    f.write(f\"Best Validation Accuracy: {accuracy:.4f}\\n\")\n",
    "    f.write(f\"\\nOptimizer: {optimizer.__class__.__name__} - {optimizer.state_dict()['param_groups'][0]}\\n\")\n",
    "    f.write(f\"Loss Function: {criterion.__class__.__name__}\\n\")\n",
    "    f.write(\"=\"*60 + \"\\n\")\n",
    "    f.write(f\"Save on: {get_time()} \\n\\n\\n\")\n"
   ]
  },
  {
   "cell_type": "markdown",
   "metadata": {},
   "source": [
    "# **TEST**"
   ]
  },
  {
   "cell_type": "code",
   "execution_count": 60,
   "metadata": {
    "execution": {
     "iopub.execute_input": "2025-06-11T14:43:55.858956Z",
     "iopub.status.busy": "2025-06-11T14:43:55.858561Z",
     "iopub.status.idle": "2025-06-11T14:43:55.862809Z",
     "shell.execute_reply": "2025-06-11T14:43:55.861961Z",
     "shell.execute_reply.started": "2025-06-11T14:43:55.858934Z"
    },
    "trusted": true
   },
   "outputs": [],
   "source": [
    "whats_new = \"\"\"\n",
    "- EfficientNet B0\n",
    "- No dropout\n",
    "- size 224x224 for train and test\n",
    "- new transform for test and train\n",
    "\n",
    "** save: EfficientNetB0/first_run\n",
    "\"\"\""
   ]
  }
 ],
 "metadata": {
  "kaggle": {
   "accelerator": "nvidiaTeslaT4",
   "dataSources": [
    {
     "datasetId": 7608653,
     "sourceId": 12086766,
     "sourceType": "datasetVersion"
    },
    {
     "datasetId": 7613469,
     "sourceId": 12094235,
     "sourceType": "datasetVersion"
    },
    {
     "datasetId": 7614858,
     "sourceId": 12096088,
     "sourceType": "datasetVersion"
    }
   ],
   "dockerImageVersionId": 31041,
   "isGpuEnabled": true,
   "isInternetEnabled": true,
   "language": "python",
   "sourceType": "notebook"
  },
  "kernelspec": {
   "display_name": "Python 3",
   "language": "python",
   "name": "python3"
  },
  "language_info": {
   "codemirror_mode": {
    "name": "ipython",
    "version": 3
   },
   "file_extension": ".py",
   "mimetype": "text/x-python",
   "name": "python",
   "nbconvert_exporter": "python",
   "pygments_lexer": "ipython3",
   "version": "3.11.11"
  }
 },
 "nbformat": 4,
 "nbformat_minor": 4
}
