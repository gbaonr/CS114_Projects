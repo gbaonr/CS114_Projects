{
 "cells": [
  {
   "cell_type": "markdown",
   "id": "3f4c20e9",
   "metadata": {
    "papermill": {
     "duration": 0.003922,
     "end_time": "2025-06-09T11:09:34.725384",
     "exception": false,
     "start_time": "2025-06-09T11:09:34.721462",
     "status": "completed"
    },
    "tags": []
   },
   "source": [
    "# **Data preparation**"
   ]
  },
  {
   "cell_type": "code",
   "execution_count": 6,
   "id": "19f593ac",
   "metadata": {
    "execution": {
     "iopub.execute_input": "2025-06-10T13:22:44.672669Z",
     "iopub.status.busy": "2025-06-10T13:22:44.672324Z",
     "iopub.status.idle": "2025-06-10T13:22:50.470640Z",
     "shell.execute_reply": "2025-06-10T13:22:50.469653Z",
     "shell.execute_reply.started": "2025-06-10T13:22:44.672650Z"
    },
    "papermill": {
     "duration": 4.175956,
     "end_time": "2025-06-09T11:09:38.904551",
     "exception": false,
     "start_time": "2025-06-09T11:09:34.728595",
     "status": "completed"
    },
    "tags": [],
    "trusted": true
   },
   "outputs": [
    {
     "name": "stdout",
     "output_type": "stream",
     "text": [
      "\u001b[2K   \u001b[90m━━━━━━━━━━━━━━━━━━━━━━━━━━━━━━━━━━━━━━━━\u001b[0m \u001b[32m5.3/5.3 MB\u001b[0m \u001b[31m45.6 MB/s\u001b[0m eta \u001b[36m0:00:00\u001b[0m00:01\u001b[0m00:01\u001b[0m\n",
      "\u001b[?25h"
     ]
    }
   ],
   "source": [
    "!pip install pyheif pillow -q"
   ]
  },
  {
   "cell_type": "code",
   "execution_count": 5,
   "id": "846b4397",
   "metadata": {
    "execution": {
     "iopub.execute_input": "2025-06-10T13:22:33.082133Z",
     "iopub.status.busy": "2025-06-10T13:22:33.081869Z",
     "iopub.status.idle": "2025-06-10T13:22:44.670985Z",
     "shell.execute_reply": "2025-06-10T13:22:44.670153Z",
     "shell.execute_reply.started": "2025-06-10T13:22:33.082112Z"
    },
    "papermill": {
     "duration": 8.742941,
     "end_time": "2025-06-09T11:09:47.651147",
     "exception": false,
     "start_time": "2025-06-09T11:09:38.908206",
     "status": "completed"
    },
    "tags": [],
    "trusted": true
   },
   "outputs": [],
   "source": [
    "# transform data\n",
    "# transform data\n",
    "import torchvision.transforms.v2 as T\n",
    "from torchvision.transforms.functional import to_pil_image\n",
    "from IPython.display import display\n",
    "from torchvision.transforms.functional import to_pil_image\n",
    "from PIL import Image\n",
    "import os\n",
    "import glob\n",
    "\n",
    "import torch\n",
    "from torch.utils.data import Dataset\n",
    "from torchvision import datasets\n",
    "from torchvision import transforms\n",
    "import matplotlib.pyplot as plt\n",
    "from torchvision.io import read_image\n",
    "from torchvision.io import decode_image"
   ]
  },
  {
   "cell_type": "code",
   "execution_count": 8,
   "id": "4cffe856",
   "metadata": {
    "execution": {
     "iopub.execute_input": "2025-06-10T13:22:56.898785Z",
     "iopub.status.busy": "2025-06-10T13:22:56.898225Z",
     "iopub.status.idle": "2025-06-10T13:22:56.943934Z",
     "shell.execute_reply": "2025-06-10T13:22:56.943155Z",
     "shell.execute_reply.started": "2025-06-10T13:22:56.898760Z"
    },
    "papermill": {
     "duration": 0.331972,
     "end_time": "2025-06-09T11:09:47.986774",
     "exception": false,
     "start_time": "2025-06-09T11:09:47.654802",
     "status": "completed"
    },
    "tags": [],
    "trusted": true
   },
   "outputs": [
    {
     "name": "stdout",
     "output_type": "stream",
     "text": [
      "True True\n",
      "train: 5917, val: 1354\n"
     ]
    }
   ],
   "source": [
    "import random\n",
    "data_dir = \"/kaggle/input/handwritten-tl/digits_data\"\n",
    "train_dir = os.path.join(data_dir, \"train\")\n",
    "val_dir = os.path.join(data_dir, \"val\")\n",
    "print(os.path.exists(train_dir), os.path.exists(val_dir))\n",
    "\n",
    "# origin_train_list = [img for img in glob.glob(train_dir + \"/*/*\") if os.path.isfile(img)]\n",
    "# origin_val_list = [img for img in glob.glob(val_dir + \"/*/*\") if os.path.isfile(img)]\n",
    "origin_train_list = glob.glob(train_dir + \"/*/*\")\n",
    "origin_val_list = glob.glob(val_dir + \"/*/*\")\n",
    "train_list = origin_train_list[:]\n",
    "val_list = origin_val_list[:]\n",
    "random.shuffle(train_list)\n",
    "random.shuffle(val_list)\n",
    "print(f\"train: {len(train_list)}, val: {len(val_list)}\")\n"
   ]
  },
  {
   "cell_type": "code",
   "execution_count": 9,
   "id": "dcd50155",
   "metadata": {
    "execution": {
     "iopub.execute_input": "2025-06-10T13:22:56.945906Z",
     "iopub.status.busy": "2025-06-10T13:22:56.945479Z",
     "iopub.status.idle": "2025-06-10T13:22:56.950649Z",
     "shell.execute_reply": "2025-06-10T13:22:56.949908Z",
     "shell.execute_reply.started": "2025-06-10T13:22:56.945889Z"
    },
    "papermill": {
     "duration": 0.008916,
     "end_time": "2025-06-09T11:09:47.999126",
     "exception": false,
     "start_time": "2025-06-09T11:09:47.990210",
     "status": "completed"
    },
    "tags": [],
    "trusted": true
   },
   "outputs": [],
   "source": [
    "# function to process data: gray_100x100_norm\n",
    "# DO NOT CHANGE IN THE SAME DATA VERSION\n",
    "import torchvision.transforms.v2 as T\n",
    "transform = transforms.v2.Compose([\n",
    "    T.ToImage(),\n",
    "    T.Grayscale(num_output_channels=1),\n",
    "    T.Resize((100, 100)),\n",
    "    T.ToDtype(torch.float32, scale=True),\n",
    "    T.Normalize(mean=[0.5], std=[0.5]),  # Cân chỉnh lại nếu bạn có thống kê cụ thể hơn\n",
    "])\n"
   ]
  },
  {
   "cell_type": "code",
   "execution_count": 10,
   "id": "b9e65958",
   "metadata": {
    "execution": {
     "iopub.execute_input": "2025-06-10T13:22:56.951772Z",
     "iopub.status.busy": "2025-06-10T13:22:56.951500Z",
     "iopub.status.idle": "2025-06-10T13:22:56.988608Z",
     "shell.execute_reply": "2025-06-10T13:22:56.987744Z",
     "shell.execute_reply.started": "2025-06-10T13:22:56.951747Z"
    },
    "papermill": {
     "duration": 0.015691,
     "end_time": "2025-06-09T11:09:48.018175",
     "exception": false,
     "start_time": "2025-06-09T11:09:48.002484",
     "status": "completed"
    },
    "tags": [],
    "trusted": true
   },
   "outputs": [],
   "source": [
    "import pyheif\n",
    "import torch\n",
    "\n",
    "\n",
    "def convert_heic_to_jpeg(heic_path, jpeg_path):\n",
    "    try:\n",
    "        heif_file = pyheif.read(heic_path)\n",
    "        image = Image.frombytes(\n",
    "            heif_file.mode, \n",
    "            heif_file.size, \n",
    "            heif_file.data, \n",
    "            \"raw\", \n",
    "            heif_file.mode, \n",
    "            heif_file.stride,\n",
    "        )\n",
    "        image.save(jpeg_path, format=\"JPEG\")\n",
    "    except Exception as e:\n",
    "        print(f\"\\t🛑 Lỗi chuyển đổi .heic: {heic_path} — {e}\")\n"
   ]
  },
  {
   "cell_type": "code",
   "execution_count": 11,
   "id": "c8375af7",
   "metadata": {
    "execution": {
     "iopub.execute_input": "2025-06-10T13:22:56.989966Z",
     "iopub.status.busy": "2025-06-10T13:22:56.989708Z",
     "iopub.status.idle": "2025-06-10T13:22:56.999024Z",
     "shell.execute_reply": "2025-06-10T13:22:56.998155Z",
     "shell.execute_reply.started": "2025-06-10T13:22:56.989944Z"
    },
    "papermill": {
     "duration": 0.012383,
     "end_time": "2025-06-09T11:09:48.033845",
     "exception": false,
     "start_time": "2025-06-09T11:09:48.021462",
     "status": "completed"
    },
    "tags": [],
    "trusted": true
   },
   "outputs": [],
   "source": [
    "import shutil\n",
    "\n",
    "\n",
    "\n",
    "def read_heic(img_path):\n",
    "    jpeg_path = \"heic2jpeg/\" + img_path.split(\"/\")[-1].replace(\".HEIC\", \".jpeg\")\n",
    "    convert_heic_to_jpeg(img_path, jpeg_path)\n",
    "    image = read_image(jpeg_path, mode=\"RGB\")\n",
    "    if image is not None:\n",
    "        print(\"--> Converted to JPEG\")\n",
    "    else:\n",
    "        print(\"--> Can't convert to JPEG\")\n",
    "    return image\n",
    "    \n",
    "\n",
    "class custom_image_dataset(torch.utils.data.IterableDataset):\n",
    "    def __init__(self, image_lists, transform=None, test=False):\n",
    "        # self.img_labels = pd.read_csv(annotations_file)\n",
    "        self.image_lists = image_lists\n",
    "        self.transform = transform\n",
    "        self.test = test\n",
    "\n",
    "    def __read_image(self, img_path):\n",
    "        try:\n",
    "          if img_path.endswith(\".HEIC\"):\n",
    "              print(\"\\nFound heic\")\n",
    "              image = read_heic(img_path)\n",
    "          else:\n",
    "              image = read_image(img_path, mode=\"RGB\")\n",
    "          truth = -1\n",
    "          if not self.test:\n",
    "              label_str = os.path.basename(img_path).split(\"_\")[1]  \n",
    "              truth = torch.tensor(int(label_str))\n",
    "          if self.transform:\n",
    "              image = self.transform(image)\n",
    "          return image, truth, img_path # Path sẽ rất cần để debug\n",
    "        except Exception as e:\n",
    "          print(f\"**Error reading custom_image_dataset: {e}\")\n",
    "          return None\n",
    "\n",
    "    def __iter__(self):\n",
    "        worker_info = torch.utils.data.get_worker_info()\n",
    "        if worker_info is None:  # single-process data loading, return the full iterator\n",
    "            iter_start = 0\n",
    "            iter_end = len(self.image_lists)\n",
    "        else:  # in a worker process\n",
    "            # split workload\n",
    "            per_worker = int(len(self.image_lists) / float(worker_info.num_workers))\n",
    "            worker_id = worker_info.id\n",
    "            iter_start =  worker_id * per_worker\n",
    "            iter_end = min(iter_start + per_worker, len(self.image_lists))\n",
    "        return iter(\n",
    "            filter(lambda x : x is not None\n",
    "                  , map(self.__read_image, self.image_lists[iter_start : iter_end] )\n",
    "            )\n",
    "        )\n",
    "\n",
    "    def __len__(self):\n",
    "        return len(self.image_lists)\n",
    "\n"
   ]
  },
  {
   "cell_type": "code",
   "execution_count": 12,
   "id": "c93fdc60",
   "metadata": {
    "execution": {
     "iopub.execute_input": "2025-06-10T13:22:57.000887Z",
     "iopub.status.busy": "2025-06-10T13:22:57.000606Z",
     "iopub.status.idle": "2025-06-10T13:22:57.022270Z",
     "shell.execute_reply": "2025-06-10T13:22:57.021596Z",
     "shell.execute_reply.started": "2025-06-10T13:22:57.000864Z"
    },
    "papermill": {
     "duration": 0.00856,
     "end_time": "2025-06-09T11:09:48.045739",
     "exception": false,
     "start_time": "2025-06-09T11:09:48.037179",
     "status": "completed"
    },
    "tags": [],
    "trusted": true
   },
   "outputs": [],
   "source": [
    "if not os.path.exists(\"heic2jpeg\"):\n",
    "    os.makedirs(\"heic2jpeg\")\n",
    "else:\n",
    "    shutil.rmtree(\"heic2jpeg\")\n",
    "    print(\"deleted old folder 'heic2jpeg'\")\n",
    "    os.makedirs(\"heic2jpeg\")\n",
    "    print(\"Created new 'heic2jpeg'\")\n",
    "\n",
    "\n"
   ]
  },
  {
   "cell_type": "code",
   "execution_count": 13,
   "id": "4f99c99d",
   "metadata": {
    "execution": {
     "iopub.execute_input": "2025-06-10T13:22:57.023262Z",
     "iopub.status.busy": "2025-06-10T13:22:57.023018Z",
     "iopub.status.idle": "2025-06-10T13:22:57.139532Z",
     "shell.execute_reply": "2025-06-10T13:22:57.138496Z",
     "shell.execute_reply.started": "2025-06-10T13:22:57.023241Z"
    },
    "papermill": {
     "duration": 0.29075,
     "end_time": "2025-06-09T11:09:48.339873",
     "exception": false,
     "start_time": "2025-06-09T11:09:48.049123",
     "status": "completed"
    },
    "tags": [],
    "trusted": true
   },
   "outputs": [
    {
     "name": "stdout",
     "output_type": "stream",
     "text": [
      "label: 2\n",
      "/kaggle/input/handwritten-tl/digits_data/train/2/train_2_2_05_0377.jpg\n"
     ]
    },
    {
     "data": {
      "image/jpeg": "[encoded data removed]",
      "image/png": "[encoded data removed]",
      "text/plain": [
       "<PIL.Image.Image image mode=L size=100x100>"
      ]
     },
     "metadata": {},
     "output_type": "display_data"
    }
   ],
   "source": [
    "temp = custom_image_dataset(train_list[:10], transform=transform)\n",
    "it = iter(temp)\n",
    "img, truth, path = next(it)\n",
    "\n",
    "print(f\"label: {truth}\")\n",
    "print(path)\n",
    "\n",
    "display(to_pil_image(img))\n"
   ]
  },
  {
   "cell_type": "code",
   "execution_count": 14,
   "id": "380dd3ea",
   "metadata": {
    "execution": {
     "iopub.execute_input": "2025-06-10T13:22:57.140455Z",
     "iopub.status.busy": "2025-06-10T13:22:57.140230Z",
     "iopub.status.idle": "2025-06-10T13:22:57.148742Z",
     "shell.execute_reply": "2025-06-10T13:22:57.148068Z",
     "shell.execute_reply.started": "2025-06-10T13:22:57.140437Z"
    },
    "papermill": {
     "duration": 0.011983,
     "end_time": "2025-06-09T11:09:48.355605",
     "exception": false,
     "start_time": "2025-06-09T11:09:48.343622",
     "status": "completed"
    },
    "tags": [],
    "trusted": true
   },
   "outputs": [
    {
     "name": "stdout",
     "output_type": "stream",
     "text": [
      "Num workers: 4\n"
     ]
    },
    {
     "data": {
      "text/plain": [
       "[0, 1, 2, 3, 4, 5, 6, 7, 8, 9]"
      ]
     },
     "execution_count": 14,
     "metadata": {},
     "output_type": "execute_result"
    }
   ],
   "source": [
    "BATCH_SIZE = 128\n",
    "num_workers = os.cpu_count()\n",
    "print(f\"Num workers: {num_workers}\")\n",
    "trainset = custom_image_dataset(train_list,transform=transform)\n",
    "trainloader = torch.utils.data.DataLoader(trainset, batch_size=BATCH_SIZE, num_workers=num_workers)\n",
    "\n",
    "valset = custom_image_dataset(val_list, transform=transform)\n",
    "valloader = torch.utils.data.DataLoader(valset, batch_size=BATCH_SIZE, num_workers=num_workers)\n",
    "\n",
    "classes = [i for i in range(10)]\n",
    "classes"
   ]
  },
  {
   "cell_type": "markdown",
   "id": "2508736b",
   "metadata": {
    "papermill": {
     "duration": 0.00342,
     "end_time": "2025-06-09T11:09:48.362614",
     "exception": false,
     "start_time": "2025-06-09T11:09:48.359194",
     "status": "completed"
    },
    "tags": []
   },
   "source": [
    "# **Model config**"
   ]
  },
  {
   "cell_type": "code",
   "execution_count": 15,
   "id": "68c38cb2",
   "metadata": {
    "execution": {
     "iopub.execute_input": "2025-06-10T13:22:57.150492Z",
     "iopub.status.busy": "2025-06-10T13:22:57.150244Z",
     "iopub.status.idle": "2025-06-10T13:22:57.181609Z",
     "shell.execute_reply": "2025-06-10T13:22:57.180948Z",
     "shell.execute_reply.started": "2025-06-10T13:22:57.150466Z"
    },
    "papermill": {
     "duration": 0.021532,
     "end_time": "2025-06-09T11:09:48.387662",
     "exception": false,
     "start_time": "2025-06-09T11:09:48.366130",
     "status": "completed"
    },
    "tags": [],
    "trusted": true
   },
   "outputs": [],
   "source": [
    "import torch.nn as nn\n",
    "import torch.nn.functional as F\n",
    "\n",
    "\n",
    "class Net(nn.Module):\n",
    "    def __init__(self):\n",
    "        super().__init__()\n",
    "        self.conv1 = nn.Conv2d(1, 6, 5) # in_chanels, out_chanels, kernel size \n",
    "        self.pool = nn.MaxPool2d(2, 2)\n",
    "        self.conv2 = nn.Conv2d(6, 16, 5)\n",
    "        self.fc1 = nn.Linear(7744, 120)\n",
    "        self.fc2 = nn.Linear(120, 84)\n",
    "        self.fc3 = nn.Linear(84, 10)\n",
    "\n",
    "    def forward(self, x):\n",
    "        # print(f\"input: {x.shape}\")\n",
    "        x = self.pool(F.relu(self.conv1(x)))\n",
    "        # print(f\"after conv2d and pooling: {x.shape}\")\n",
    "        x = self.pool(F.relu(self.conv2(x)))\n",
    "        # print(f\"after conv2d_2 and pooling: {x.shape}\")\n",
    "        x = torch.flatten(x, 1) # flatten all dimensions except batch\n",
    "        # print(f\"after flatten: {x.shape}\")\n",
    "        x = F.relu(self.fc1(x))\n",
    "        # print(f\"after fc1: {x.shape}\")\n",
    "        x = F.relu(self.fc2(x))\n",
    "        # print(f\"after fc2: {x.shape}\")\n",
    "        x = self.fc3(x)\n",
    "        return x\n",
    "\n",
    "\n",
    "net = Net()\n",
    "\n",
    "import torch.optim as optim\n",
    "\n",
    "criterion = nn.CrossEntropyLoss()\n",
    "optimizer = torch.optim.Adam(net.parameters(), lr=0.001)"
   ]
  },
  {
   "cell_type": "code",
   "execution_count": 16,
   "id": "58cb277a",
   "metadata": {
    "execution": {
     "iopub.execute_input": "2025-06-10T13:22:57.182773Z",
     "iopub.status.busy": "2025-06-10T13:22:57.182566Z",
     "iopub.status.idle": "2025-06-10T13:22:57.191358Z",
     "shell.execute_reply": "2025-06-10T13:22:57.190450Z",
     "shell.execute_reply.started": "2025-06-10T13:22:57.182757Z"
    },
    "papermill": {
     "duration": 0.014385,
     "end_time": "2025-06-09T11:09:48.405565",
     "exception": false,
     "start_time": "2025-06-09T11:09:48.391180",
     "status": "completed"
    },
    "tags": [],
    "trusted": true
   },
   "outputs": [],
   "source": [
    "import sys\n",
    "from tqdm import tqdm\n",
    "import logging\n",
    "from contextlib import redirect_stdout\n",
    "\n",
    "# Ghi cả ra file và màn hình\n",
    "class DualWriter:\n",
    "    def __init__(self, file):\n",
    "        self.file = file\n",
    "        self.stdout = sys.__stdout__  # console thật\n",
    "\n",
    "    def write(self, text):\n",
    "        self.stdout.write(text)\n",
    "        self.file.write(text)\n",
    "\n",
    "    def flush(self):\n",
    "        self.stdout.flush()\n",
    "        self.file.flush()\n",
    "\n",
    "class SaveBestModel:\n",
    "    def __init__(self, save_path=\"best_model.pth\", mode='min'):\n",
    "        self.best_value = float('inf') if mode == 'min' else -float('inf')\n",
    "        self.save_path = save_path\n",
    "        self.mode = mode\n",
    "\n",
    "    def __call__(self, current_value, model):\n",
    "        is_better = current_value < self.best_value if self.mode == 'min' else current_value > self.best_value\n",
    "        if is_better:\n",
    "            self.best_value = current_value\n",
    "            torch.save(model.state_dict(), self.save_path)\n",
    "            print(f\"✅ Saved new best model ({self.mode} = {current_value:.4f})\")\n",
    "\n",
    "class EarlyStopping:\n",
    "    def __init__(self, patience=5, mode='min'):\n",
    "        self.patience = patience\n",
    "        self.counter = 0\n",
    "        self.best_value = float('inf') if mode == 'min' else -float('inf')\n",
    "        self.early_stop = False\n",
    "        self.mode = mode\n",
    "\n",
    "    def __call__(self, current_value):\n",
    "        is_better = current_value < self.best_value if self.mode == 'min' else current_value > self.best_value\n",
    "\n",
    "        if is_better:\n",
    "            self.best_value = current_value\n",
    "            self.counter = 0\n",
    "        else:\n",
    "            self.counter += 1\n",
    "            print(f\"⚠️ No improvement. EarlyStopping counter: {self.counter}/{self.patience}\")\n",
    "            if self.counter >= self.patience:\n",
    "                self.early_stop = True\n",
    "    \n"
   ]
  },
  {
   "cell_type": "code",
   "execution_count": 17,
   "id": "e0f8b4f7",
   "metadata": {
    "execution": {
     "iopub.execute_input": "2025-06-10T13:22:57.192468Z",
     "iopub.status.busy": "2025-06-10T13:22:57.192185Z",
     "iopub.status.idle": "2025-06-10T13:23:05.945695Z",
     "shell.execute_reply": "2025-06-10T13:23:05.944486Z",
     "shell.execute_reply.started": "2025-06-10T13:22:57.192442Z"
    },
    "papermill": {
     "duration": 2382.731854,
     "end_time": "2025-06-09T11:49:31.140982",
     "exception": false,
     "start_time": "2025-06-09T11:09:48.409128",
     "status": "completed"
    },
    "tags": [],
    "trusted": true
   },
   "outputs": [
    {
     "name": "stdout",
     "output_type": "stream",
     "text": [
      "Using: cuda\n"
     ]
    },
    {
     "name": "stderr",
     "output_type": "stream",
     "text": [
      "Epochs:   0%|          | 0/20 [00:00<?, ?it/s]"
     ]
    },
    {
     "name": "stdout",
     "output_type": "stream",
     "text": [
      "\n"
     ]
    },
    {
     "name": "stderr",
     "output_type": "stream",
     "text": [
      "Epochs:   0%|          | 0/20 [00:08<?, ?it/s]\n"
     ]
    },
    {
     "ename": "KeyboardInterrupt",
     "evalue": "",
     "output_type": "error",
     "traceback": [
      "\u001b[0;31m---------------------------------------------------------------------------\u001b[0m",
      "\u001b[0;31mKeyboardInterrupt\u001b[0m                         Traceback (most recent call last)",
      "\u001b[0;32m/tmp/ipykernel_35/165253596.py\u001b[0m in \u001b[0;36m<cell line: 0>\u001b[0;34m()\u001b[0m\n\u001b[1;32m     17\u001b[0m         \u001b[0mprint\u001b[0m\u001b[0;34m(\u001b[0m\u001b[0;34m)\u001b[0m\u001b[0;34m\u001b[0m\u001b[0;34m\u001b[0m\u001b[0m\n\u001b[1;32m     18\u001b[0m         \u001b[0mepoch_start\u001b[0m \u001b[0;34m=\u001b[0m \u001b[0mtime\u001b[0m\u001b[0;34m.\u001b[0m\u001b[0mtime\u001b[0m\u001b[0;34m(\u001b[0m\u001b[0;34m)\u001b[0m\u001b[0;34m\u001b[0m\u001b[0;34m\u001b[0m\u001b[0m\n\u001b[0;32m---> 19\u001b[0;31m         \u001b[0;32mfor\u001b[0m \u001b[0mi\u001b[0m\u001b[0;34m,\u001b[0m \u001b[0mdata\u001b[0m \u001b[0;32min\u001b[0m \u001b[0menumerate\u001b[0m\u001b[0;34m(\u001b[0m\u001b[0mtrainloader\u001b[0m\u001b[0;34m,\u001b[0m \u001b[0;36m0\u001b[0m\u001b[0;34m)\u001b[0m\u001b[0;34m:\u001b[0m\u001b[0;34m\u001b[0m\u001b[0;34m\u001b[0m\u001b[0m\n\u001b[0m\u001b[1;32m     20\u001b[0m             \u001b[0minputs\u001b[0m\u001b[0;34m,\u001b[0m \u001b[0mlabels\u001b[0m\u001b[0;34m,\u001b[0m \u001b[0m_\u001b[0m \u001b[0;34m=\u001b[0m \u001b[0mdata\u001b[0m\u001b[0;34m\u001b[0m\u001b[0;34m\u001b[0m\u001b[0m\n\u001b[1;32m     21\u001b[0m             \u001b[0minputs\u001b[0m \u001b[0;34m=\u001b[0m \u001b[0minputs\u001b[0m\u001b[0;34m.\u001b[0m\u001b[0mto\u001b[0m\u001b[0;34m(\u001b[0m\u001b[0mdevice\u001b[0m\u001b[0;34m)\u001b[0m\u001b[0;34m\u001b[0m\u001b[0;34m\u001b[0m\u001b[0m\n",
      "\u001b[0;32m/usr/local/lib/python3.11/dist-packages/torch/utils/data/dataloader.py\u001b[0m in \u001b[0;36m__next__\u001b[0;34m(self)\u001b[0m\n\u001b[1;32m    706\u001b[0m                 \u001b[0;31m# TODO(https://github.com/pytorch/pytorch/issues/76750)\u001b[0m\u001b[0;34m\u001b[0m\u001b[0;34m\u001b[0m\u001b[0m\n\u001b[1;32m    707\u001b[0m                 \u001b[0mself\u001b[0m\u001b[0;34m.\u001b[0m\u001b[0m_reset\u001b[0m\u001b[0;34m(\u001b[0m\u001b[0;34m)\u001b[0m  \u001b[0;31m# type: ignore[call-arg]\u001b[0m\u001b[0;34m\u001b[0m\u001b[0;34m\u001b[0m\u001b[0m\n\u001b[0;32m--> 708\u001b[0;31m             \u001b[0mdata\u001b[0m \u001b[0;34m=\u001b[0m \u001b[0mself\u001b[0m\u001b[0;34m.\u001b[0m\u001b[0m_next_data\u001b[0m\u001b[0;34m(\u001b[0m\u001b[0;34m)\u001b[0m\u001b[0;34m\u001b[0m\u001b[0;34m\u001b[0m\u001b[0m\n\u001b[0m\u001b[1;32m    709\u001b[0m             \u001b[0mself\u001b[0m\u001b[0;34m.\u001b[0m\u001b[0m_num_yielded\u001b[0m \u001b[0;34m+=\u001b[0m \u001b[0;36m1\u001b[0m\u001b[0;34m\u001b[0m\u001b[0;34m\u001b[0m\u001b[0m\n\u001b[1;32m    710\u001b[0m             if (\n",
      "\u001b[0;32m/usr/local/lib/python3.11/dist-packages/torch/utils/data/dataloader.py\u001b[0m in \u001b[0;36m_next_data\u001b[0;34m(self)\u001b[0m\n\u001b[1;32m   1456\u001b[0m \u001b[0;34m\u001b[0m\u001b[0m\n\u001b[1;32m   1457\u001b[0m             \u001b[0;32massert\u001b[0m \u001b[0;32mnot\u001b[0m \u001b[0mself\u001b[0m\u001b[0;34m.\u001b[0m\u001b[0m_shutdown\u001b[0m \u001b[0;32mand\u001b[0m \u001b[0mself\u001b[0m\u001b[0;34m.\u001b[0m\u001b[0m_tasks_outstanding\u001b[0m \u001b[0;34m>\u001b[0m \u001b[0;36m0\u001b[0m\u001b[0;34m\u001b[0m\u001b[0;34m\u001b[0m\u001b[0m\n\u001b[0;32m-> 1458\u001b[0;31m             \u001b[0midx\u001b[0m\u001b[0;34m,\u001b[0m \u001b[0mdata\u001b[0m \u001b[0;34m=\u001b[0m \u001b[0mself\u001b[0m\u001b[0;34m.\u001b[0m\u001b[0m_get_data\u001b[0m\u001b[0;34m(\u001b[0m\u001b[0;34m)\u001b[0m\u001b[0;34m\u001b[0m\u001b[0;34m\u001b[0m\u001b[0m\n\u001b[0m\u001b[1;32m   1459\u001b[0m             \u001b[0mself\u001b[0m\u001b[0;34m.\u001b[0m\u001b[0m_tasks_outstanding\u001b[0m \u001b[0;34m-=\u001b[0m \u001b[0;36m1\u001b[0m\u001b[0;34m\u001b[0m\u001b[0;34m\u001b[0m\u001b[0m\n\u001b[1;32m   1460\u001b[0m             \u001b[0;32mif\u001b[0m \u001b[0mself\u001b[0m\u001b[0;34m.\u001b[0m\u001b[0m_dataset_kind\u001b[0m \u001b[0;34m==\u001b[0m \u001b[0m_DatasetKind\u001b[0m\u001b[0;34m.\u001b[0m\u001b[0mIterable\u001b[0m\u001b[0;34m:\u001b[0m\u001b[0;34m\u001b[0m\u001b[0;34m\u001b[0m\u001b[0m\n",
      "\u001b[0;32m/usr/local/lib/python3.11/dist-packages/torch/utils/data/dataloader.py\u001b[0m in \u001b[0;36m_get_data\u001b[0;34m(self)\u001b[0m\n\u001b[1;32m   1418\u001b[0m         \u001b[0;32melse\u001b[0m\u001b[0;34m:\u001b[0m\u001b[0;34m\u001b[0m\u001b[0;34m\u001b[0m\u001b[0m\n\u001b[1;32m   1419\u001b[0m             \u001b[0;32mwhile\u001b[0m \u001b[0;32mTrue\u001b[0m\u001b[0;34m:\u001b[0m\u001b[0;34m\u001b[0m\u001b[0;34m\u001b[0m\u001b[0m\n\u001b[0;32m-> 1420\u001b[0;31m                 \u001b[0msuccess\u001b[0m\u001b[0;34m,\u001b[0m \u001b[0mdata\u001b[0m \u001b[0;34m=\u001b[0m \u001b[0mself\u001b[0m\u001b[0;34m.\u001b[0m\u001b[0m_try_get_data\u001b[0m\u001b[0;34m(\u001b[0m\u001b[0;34m)\u001b[0m\u001b[0;34m\u001b[0m\u001b[0;34m\u001b[0m\u001b[0m\n\u001b[0m\u001b[1;32m   1421\u001b[0m                 \u001b[0;32mif\u001b[0m \u001b[0msuccess\u001b[0m\u001b[0;34m:\u001b[0m\u001b[0;34m\u001b[0m\u001b[0;34m\u001b[0m\u001b[0m\n\u001b[1;32m   1422\u001b[0m                     \u001b[0;32mreturn\u001b[0m \u001b[0mdata\u001b[0m\u001b[0;34m\u001b[0m\u001b[0;34m\u001b[0m\u001b[0m\n",
      "\u001b[0;32m/usr/local/lib/python3.11/dist-packages/torch/utils/data/dataloader.py\u001b[0m in \u001b[0;36m_try_get_data\u001b[0;34m(self, timeout)\u001b[0m\n\u001b[1;32m   1249\u001b[0m         \u001b[0;31m#   (bool: whether successfully get data, any: data if successful else None)\u001b[0m\u001b[0;34m\u001b[0m\u001b[0;34m\u001b[0m\u001b[0m\n\u001b[1;32m   1250\u001b[0m         \u001b[0;32mtry\u001b[0m\u001b[0;34m:\u001b[0m\u001b[0;34m\u001b[0m\u001b[0;34m\u001b[0m\u001b[0m\n\u001b[0;32m-> 1251\u001b[0;31m             \u001b[0mdata\u001b[0m \u001b[0;34m=\u001b[0m \u001b[0mself\u001b[0m\u001b[0;34m.\u001b[0m\u001b[0m_data_queue\u001b[0m\u001b[0;34m.\u001b[0m\u001b[0mget\u001b[0m\u001b[0;34m(\u001b[0m\u001b[0mtimeout\u001b[0m\u001b[0;34m=\u001b[0m\u001b[0mtimeout\u001b[0m\u001b[0;34m)\u001b[0m\u001b[0;34m\u001b[0m\u001b[0;34m\u001b[0m\u001b[0m\n\u001b[0m\u001b[1;32m   1252\u001b[0m             \u001b[0;32mreturn\u001b[0m \u001b[0;34m(\u001b[0m\u001b[0;32mTrue\u001b[0m\u001b[0;34m,\u001b[0m \u001b[0mdata\u001b[0m\u001b[0;34m)\u001b[0m\u001b[0;34m\u001b[0m\u001b[0;34m\u001b[0m\u001b[0m\n\u001b[1;32m   1253\u001b[0m         \u001b[0;32mexcept\u001b[0m \u001b[0mException\u001b[0m \u001b[0;32mas\u001b[0m \u001b[0me\u001b[0m\u001b[0;34m:\u001b[0m\u001b[0;34m\u001b[0m\u001b[0;34m\u001b[0m\u001b[0m\n",
      "\u001b[0;32m/usr/lib/python3.11/multiprocessing/queues.py\u001b[0m in \u001b[0;36mget\u001b[0;34m(self, block, timeout)\u001b[0m\n\u001b[1;32m    111\u001b[0m                 \u001b[0;32mif\u001b[0m \u001b[0mblock\u001b[0m\u001b[0;34m:\u001b[0m\u001b[0;34m\u001b[0m\u001b[0;34m\u001b[0m\u001b[0m\n\u001b[1;32m    112\u001b[0m                     \u001b[0mtimeout\u001b[0m \u001b[0;34m=\u001b[0m \u001b[0mdeadline\u001b[0m \u001b[0;34m-\u001b[0m \u001b[0mtime\u001b[0m\u001b[0;34m.\u001b[0m\u001b[0mmonotonic\u001b[0m\u001b[0;34m(\u001b[0m\u001b[0;34m)\u001b[0m\u001b[0;34m\u001b[0m\u001b[0;34m\u001b[0m\u001b[0m\n\u001b[0;32m--> 113\u001b[0;31m                     \u001b[0;32mif\u001b[0m \u001b[0;32mnot\u001b[0m \u001b[0mself\u001b[0m\u001b[0;34m.\u001b[0m\u001b[0m_poll\u001b[0m\u001b[0;34m(\u001b[0m\u001b[0mtimeout\u001b[0m\u001b[0;34m)\u001b[0m\u001b[0;34m:\u001b[0m\u001b[0;34m\u001b[0m\u001b[0;34m\u001b[0m\u001b[0m\n\u001b[0m\u001b[1;32m    114\u001b[0m                         \u001b[0;32mraise\u001b[0m \u001b[0mEmpty\u001b[0m\u001b[0;34m\u001b[0m\u001b[0;34m\u001b[0m\u001b[0m\n\u001b[1;32m    115\u001b[0m                 \u001b[0;32melif\u001b[0m \u001b[0;32mnot\u001b[0m \u001b[0mself\u001b[0m\u001b[0;34m.\u001b[0m\u001b[0m_poll\u001b[0m\u001b[0;34m(\u001b[0m\u001b[0;34m)\u001b[0m\u001b[0;34m:\u001b[0m\u001b[0;34m\u001b[0m\u001b[0;34m\u001b[0m\u001b[0m\n",
      "\u001b[0;32m/usr/lib/python3.11/multiprocessing/connection.py\u001b[0m in \u001b[0;36mpoll\u001b[0;34m(self, timeout)\u001b[0m\n\u001b[1;32m    255\u001b[0m         \u001b[0mself\u001b[0m\u001b[0;34m.\u001b[0m\u001b[0m_check_closed\u001b[0m\u001b[0;34m(\u001b[0m\u001b[0;34m)\u001b[0m\u001b[0;34m\u001b[0m\u001b[0;34m\u001b[0m\u001b[0m\n\u001b[1;32m    256\u001b[0m         \u001b[0mself\u001b[0m\u001b[0;34m.\u001b[0m\u001b[0m_check_readable\u001b[0m\u001b[0;34m(\u001b[0m\u001b[0;34m)\u001b[0m\u001b[0;34m\u001b[0m\u001b[0;34m\u001b[0m\u001b[0m\n\u001b[0;32m--> 257\u001b[0;31m         \u001b[0;32mreturn\u001b[0m \u001b[0mself\u001b[0m\u001b[0;34m.\u001b[0m\u001b[0m_poll\u001b[0m\u001b[0;34m(\u001b[0m\u001b[0mtimeout\u001b[0m\u001b[0;34m)\u001b[0m\u001b[0;34m\u001b[0m\u001b[0;34m\u001b[0m\u001b[0m\n\u001b[0m\u001b[1;32m    258\u001b[0m \u001b[0;34m\u001b[0m\u001b[0m\n\u001b[1;32m    259\u001b[0m     \u001b[0;32mdef\u001b[0m \u001b[0m__enter__\u001b[0m\u001b[0;34m(\u001b[0m\u001b[0mself\u001b[0m\u001b[0;34m)\u001b[0m\u001b[0;34m:\u001b[0m\u001b[0;34m\u001b[0m\u001b[0;34m\u001b[0m\u001b[0m\n",
      "\u001b[0;32m/usr/lib/python3.11/multiprocessing/connection.py\u001b[0m in \u001b[0;36m_poll\u001b[0;34m(self, timeout)\u001b[0m\n\u001b[1;32m    438\u001b[0m \u001b[0;34m\u001b[0m\u001b[0m\n\u001b[1;32m    439\u001b[0m     \u001b[0;32mdef\u001b[0m \u001b[0m_poll\u001b[0m\u001b[0;34m(\u001b[0m\u001b[0mself\u001b[0m\u001b[0;34m,\u001b[0m \u001b[0mtimeout\u001b[0m\u001b[0;34m)\u001b[0m\u001b[0;34m:\u001b[0m\u001b[0;34m\u001b[0m\u001b[0;34m\u001b[0m\u001b[0m\n\u001b[0;32m--> 440\u001b[0;31m         \u001b[0mr\u001b[0m \u001b[0;34m=\u001b[0m \u001b[0mwait\u001b[0m\u001b[0;34m(\u001b[0m\u001b[0;34m[\u001b[0m\u001b[0mself\u001b[0m\u001b[0;34m]\u001b[0m\u001b[0;34m,\u001b[0m \u001b[0mtimeout\u001b[0m\u001b[0;34m)\u001b[0m\u001b[0;34m\u001b[0m\u001b[0;34m\u001b[0m\u001b[0m\n\u001b[0m\u001b[1;32m    441\u001b[0m         \u001b[0;32mreturn\u001b[0m \u001b[0mbool\u001b[0m\u001b[0;34m(\u001b[0m\u001b[0mr\u001b[0m\u001b[0;34m)\u001b[0m\u001b[0;34m\u001b[0m\u001b[0;34m\u001b[0m\u001b[0m\n\u001b[1;32m    442\u001b[0m \u001b[0;34m\u001b[0m\u001b[0m\n",
      "\u001b[0;32m/usr/lib/python3.11/multiprocessing/connection.py\u001b[0m in \u001b[0;36mwait\u001b[0;34m(object_list, timeout)\u001b[0m\n\u001b[1;32m    946\u001b[0m \u001b[0;34m\u001b[0m\u001b[0m\n\u001b[1;32m    947\u001b[0m             \u001b[0;32mwhile\u001b[0m \u001b[0;32mTrue\u001b[0m\u001b[0;34m:\u001b[0m\u001b[0;34m\u001b[0m\u001b[0;34m\u001b[0m\u001b[0m\n\u001b[0;32m--> 948\u001b[0;31m                 \u001b[0mready\u001b[0m \u001b[0;34m=\u001b[0m \u001b[0mselector\u001b[0m\u001b[0;34m.\u001b[0m\u001b[0mselect\u001b[0m\u001b[0;34m(\u001b[0m\u001b[0mtimeout\u001b[0m\u001b[0;34m)\u001b[0m\u001b[0;34m\u001b[0m\u001b[0;34m\u001b[0m\u001b[0m\n\u001b[0m\u001b[1;32m    949\u001b[0m                 \u001b[0;32mif\u001b[0m \u001b[0mready\u001b[0m\u001b[0;34m:\u001b[0m\u001b[0;34m\u001b[0m\u001b[0;34m\u001b[0m\u001b[0m\n\u001b[1;32m    950\u001b[0m                     \u001b[0;32mreturn\u001b[0m \u001b[0;34m[\u001b[0m\u001b[0mkey\u001b[0m\u001b[0;34m.\u001b[0m\u001b[0mfileobj\u001b[0m \u001b[0;32mfor\u001b[0m \u001b[0;34m(\u001b[0m\u001b[0mkey\u001b[0m\u001b[0;34m,\u001b[0m \u001b[0mevents\u001b[0m\u001b[0;34m)\u001b[0m \u001b[0;32min\u001b[0m \u001b[0mready\u001b[0m\u001b[0;34m]\u001b[0m\u001b[0;34m\u001b[0m\u001b[0;34m\u001b[0m\u001b[0m\n",
      "\u001b[0;32m/usr/lib/python3.11/selectors.py\u001b[0m in \u001b[0;36mselect\u001b[0;34m(self, timeout)\u001b[0m\n\u001b[1;32m    413\u001b[0m         \u001b[0mready\u001b[0m \u001b[0;34m=\u001b[0m \u001b[0;34m[\u001b[0m\u001b[0;34m]\u001b[0m\u001b[0;34m\u001b[0m\u001b[0;34m\u001b[0m\u001b[0m\n\u001b[1;32m    414\u001b[0m         \u001b[0;32mtry\u001b[0m\u001b[0;34m:\u001b[0m\u001b[0;34m\u001b[0m\u001b[0;34m\u001b[0m\u001b[0m\n\u001b[0;32m--> 415\u001b[0;31m             \u001b[0mfd_event_list\u001b[0m \u001b[0;34m=\u001b[0m \u001b[0mself\u001b[0m\u001b[0;34m.\u001b[0m\u001b[0m_selector\u001b[0m\u001b[0;34m.\u001b[0m\u001b[0mpoll\u001b[0m\u001b[0;34m(\u001b[0m\u001b[0mtimeout\u001b[0m\u001b[0;34m)\u001b[0m\u001b[0;34m\u001b[0m\u001b[0;34m\u001b[0m\u001b[0m\n\u001b[0m\u001b[1;32m    416\u001b[0m         \u001b[0;32mexcept\u001b[0m \u001b[0mInterruptedError\u001b[0m\u001b[0;34m:\u001b[0m\u001b[0;34m\u001b[0m\u001b[0;34m\u001b[0m\u001b[0m\n\u001b[1;32m    417\u001b[0m             \u001b[0;32mreturn\u001b[0m \u001b[0mready\u001b[0m\u001b[0;34m\u001b[0m\u001b[0;34m\u001b[0m\u001b[0m\n",
      "\u001b[0;31mKeyboardInterrupt\u001b[0m: "
     ]
    }
   ],
   "source": [
    "import time\n",
    "# Ghi log ra log.txt\n",
    "log_file = open(\"train_log.txt\", \"a\")  # mở log file\n",
    "dual_output = DualWriter(log_file)\n",
    "save_best_model = SaveBestModel(\"best_model.pth\", mode='min')\n",
    "early_stopping = EarlyStopping(patience=5, mode='min')\n",
    "\n",
    "device = torch.device(\"cuda\" if torch.cuda.is_available() else \"cpu\")\n",
    "print(f\"Using: {device}\")\n",
    "net.to(device)\n",
    "start_time = time.time()\n",
    "\n",
    "\n",
    "with redirect_stdout(dual_output):\n",
    "    for epoch in tqdm(range(20), desc=\"Epochs: \"):  # loop over the dataset multiple times\n",
    "        running_loss = 0.0\n",
    "        print()\n",
    "        epoch_start = time.time()\n",
    "        for i, data in enumerate(trainloader, 0):\n",
    "            inputs, labels, _ = data\n",
    "            inputs = inputs.to(device)\n",
    "            labels = labels.to(device)\n",
    "            # print(inputs.device, labels.device, next(net.parameters()).device)\n",
    "            optimizer.zero_grad()\n",
    "            outputs = net(inputs)\n",
    "            loss = criterion(outputs, labels)\n",
    "            loss.backward()\n",
    "            optimizer.step()\n",
    "            running_loss += loss.item()\n",
    "\n",
    "        epoch_loss = running_loss / len(trainloader)\n",
    "        print(f\"Epoch {epoch+1} loss: {epoch_loss:.4f} - time: {time.time() - epoch_start}s\")\n",
    "\n",
    "        # Gọi callback\n",
    "        save_best_model(epoch_loss, net)\n",
    "        early_stopping(epoch_loss)\n",
    "        \n",
    "        if early_stopping.early_stop:\n",
    "            print(\"⛔ Early stopping triggered.\")\n",
    "            break\n",
    "\n",
    "    total_time = time.time() - start_time\n",
    "    print(f'Finished Training in: {total_time}s')\n",
    "    \n",
    "print(\"🟢 Đã ra khỏi with, chỉ in ra console, không ghi file\")\n",
    "log_file.close()\n"
   ]
  },
  {
   "cell_type": "code",
   "execution_count": 18,
   "id": "6c30980b",
   "metadata": {
    "execution": {
     "iopub.execute_input": "2025-06-10T13:24:33.389748Z",
     "iopub.status.busy": "2025-06-10T13:24:33.389001Z",
     "iopub.status.idle": "2025-06-10T13:25:06.945701Z",
     "shell.execute_reply": "2025-06-10T13:25:06.944849Z",
     "shell.execute_reply.started": "2025-06-10T13:24:33.389706Z"
    },
    "papermill": {
     "duration": 31.412307,
     "end_time": "2025-06-09T11:50:02.558804",
     "exception": false,
     "start_time": "2025-06-09T11:49:31.146497",
     "status": "completed"
    },
    "tags": [],
    "trusted": true
   },
   "outputs": [
    {
     "name": "stdout",
     "output_type": "stream",
     "text": [
      "Accuracy of the network on the test images: 62.28 %\n"
     ]
    }
   ],
   "source": [
    "#validate\n",
    "\n",
    "device = torch.device(\"cuda\" if torch.cuda.is_available() else \"cpu\")\n",
    "model = Net()\n",
    "model.load_state_dict(torch.load('/kaggle/input/cnn2layers_config/pytorch/default/1/best_model.pth', map_location=device))\n",
    "model.to(device)\n",
    "\n",
    "model.eval()\n",
    "\n",
    "correct = 0\n",
    "total = 0\n",
    "\n",
    "# since we're not training, we don't need to calculate the gradients for our outputs\n",
    "with torch.no_grad():\n",
    "    for data in valloader:\n",
    "        images, labels,_ = data\n",
    "        images = images.to(device)\n",
    "        labels = labels.to(device)\n",
    "\n",
    "        # calculate outputs by running images through the network\n",
    "        outputs = model(images)\n",
    "        _, predicted = torch.max(outputs, 1)\n",
    "\n",
    "        total += labels.size(0)\n",
    "        correct += (predicted == labels).sum().item()\n",
    "\n",
    "accuracy = 100 * correct / total\n",
    "print(f'Accuracy of the network on the test images: {accuracy:.2f} %')\n"
   ]
  },
  {
   "cell_type": "markdown",
   "id": "9b06fa39",
   "metadata": {
    "papermill": {
     "duration": 0.005256,
     "end_time": "2025-06-09T11:50:02.569696",
     "exception": false,
     "start_time": "2025-06-09T11:50:02.564440",
     "status": "completed"
    },
    "tags": []
   },
   "source": [
    "# **PREDICT**"
   ]
  },
  {
   "cell_type": "code",
   "execution_count": 19,
   "id": "06307e7b",
   "metadata": {
    "execution": {
     "iopub.execute_input": "2025-06-10T13:28:19.256048Z",
     "iopub.status.busy": "2025-06-10T13:28:19.255327Z",
     "iopub.status.idle": "2025-06-10T13:29:04.231899Z",
     "shell.execute_reply": "2025-06-10T13:29:04.231110Z",
     "shell.execute_reply.started": "2025-06-10T13:28:19.256018Z"
    },
    "papermill": {
     "duration": 40.875105,
     "end_time": "2025-06-09T11:50:43.450205",
     "exception": false,
     "start_time": "2025-06-09T11:50:02.575100",
     "status": "completed"
    },
    "tags": [],
    "trusted": true
   },
   "outputs": [
    {
     "name": "stdout",
     "output_type": "stream",
     "text": [
      "samples: 2939\n",
      "\n",
      "Found heic\n",
      "\n",
      "Found heic\n",
      "--> Converted to JPEG\n",
      "--> Converted to JPEG\n",
      "**Error reading custom_image_dataset: Unsupported image file. Only jpeg, png, webp and gif are currently supported. For avif and heic format, please rely on `decode_avif` and `decode_heic` directly.\n",
      "\n",
      "Found heic\n",
      "\n",
      "Found heic\n",
      "\n",
      "Found heic\n",
      "--> Converted to JPEG\n",
      "--> Converted to JPEG\n",
      "--> Converted to JPEG\n",
      "**Error reading custom_image_dataset: Unsupported image file. Only jpeg, png, webp and gif are currently supported. For avif and heic format, please rely on `decode_avif` and `decode_heic` directly.\n",
      "\n",
      "Found heic\n",
      "--> Converted to JPEG\n",
      "**Error reading custom_image_dataset: Unsupported image file. Only jpeg, png, webp and gif are currently supported. For avif and heic format, please rely on `decode_avif` and `decode_heic` directly.\n",
      "\n",
      "Found heic\n",
      "--> Converted to JPEG\n",
      "\n",
      "Found heic\n",
      "--> Converted to JPEG\n",
      "\n",
      "Found heic\n",
      "**Error reading custom_image_dataset: Unsupported image file. Only jpeg, png, webp and gif are currently supported. For avif and heic format, please rely on `decode_avif` and `decode_heic` directly.\n",
      "--> Converted to JPEG\n",
      "\n",
      "Found heic\n",
      "--> Converted to JPEG\n",
      "\n",
      "Found heic\n",
      "**Error reading custom_image_dataset: Unsupported image file. Only jpeg, png, webp and gif are currently supported. For avif and heic format, please rely on `decode_avif` and `decode_heic` directly.\n",
      "\n",
      "Found heic\n",
      "--> Converted to JPEG\n",
      "\n",
      "Found heic\n",
      "\n",
      "Found heic\n",
      "--> Converted to JPEG\n",
      "**Error reading custom_image_dataset: Unsupported image file. Only jpeg, png, webp and gif are currently supported. For avif and heic format, please rely on `decode_avif` and `decode_heic` directly.\n",
      "--> Converted to JPEG\n",
      "--> Converted to JPEG\n",
      "**Error reading custom_image_dataset: Unsupported image file. Only jpeg, png, webp and gif are currently supported. For avif and heic format, please rely on `decode_avif` and `decode_heic` directly.\n",
      "\n",
      "Found heic\n",
      "\n",
      "Found heic\n",
      "--> Converted to JPEG\n",
      "--> Converted to JPEG\n",
      "\n",
      "Found heic\n",
      "**Error reading custom_image_dataset: Unsupported image file. Only jpeg, png, webp and gif are currently supported. For avif and heic format, please rely on `decode_avif` and `decode_heic` directly.\n",
      "--> Converted to JPEG\n",
      "\n",
      "Found heic\n",
      "--> Converted to JPEG\n",
      "**Error reading custom_image_dataset: Unsupported image file. Only jpeg, png, webp and gif are currently supported. For avif and heic format, please rely on `decode_avif` and `decode_heic` directly.\n",
      "\n",
      "Found heic\n",
      "--> Converted to JPEG\n",
      "**Error reading custom_image_dataset: Unsupported image file. Only jpeg, png, webp and gif are currently supported. For avif and heic format, please rely on `decode_avif` and `decode_heic` directly.\n",
      "\n",
      "Found heic\n",
      "--> Converted to JPEG\n",
      "\n",
      "Found heic\n",
      "--> Converted to JPEG\n",
      "\n",
      "Found heic\n",
      "\n",
      "Found heic\n",
      "--> Converted to JPEG\n",
      "--> Converted to JPEG\n",
      "\n",
      "Found heic\n",
      "--> Converted to JPEG\n",
      "\n",
      "Found heic\n",
      "--> Converted to JPEG\n",
      "\n",
      "Found heic\n",
      "\n",
      "Found heic\n",
      "--> Converted to JPEG\n",
      "**Error reading custom_image_dataset: Unsupported image file. Only jpeg, png, webp and gif are currently supported. For avif and heic format, please rely on `decode_avif` and `decode_heic` directly.\n",
      "--> Converted to JPEG\n",
      "\n",
      "Found heic\n",
      "--> Converted to JPEG\n",
      "\n",
      "Found heic\n",
      "--> Converted to JPEG\n",
      "\n",
      "Found heic\n",
      "--> Converted to JPEG\n",
      "Predictions saved in 'predict_2k.txt'\n"
     ]
    }
   ],
   "source": [
    "# PREDICT\n",
    "test_dir = \"/kaggle/input/handwritten-test-cs114\"\n",
    "test_list = [os.path.join(test_dir, img) for img in os.listdir(test_dir)]\n",
    "print(f\"samples: {len(test_list)}\")\n",
    "testset = custom_image_dataset(test_list, transform=transform, test=True)\n",
    "testloader = torch.utils.data.DataLoader(testset,batch_size=BATCH_SIZE, num_workers=num_workers)\n",
    "\n",
    "predict_txt = \"\"\n",
    "with torch.no_grad():\n",
    "    for data in testloader:\n",
    "        images, labels, paths = data\n",
    "        images = images.to(device)\n",
    "        labels = labels.to(device)\n",
    "\n",
    "        # calculate outputs by running images through the network\n",
    "        outputs = model(images)\n",
    "        _, predicted = torch.max(outputs, 1)\n",
    "\n",
    "        # save\n",
    "        for path, pred in zip(paths, predicted):\n",
    "            path = path.replace(test_dir, \"\").lstrip(os.sep)  # Strip test_dir and leading separator\n",
    "            predict_txt += f\"{path},{pred.item()}\\n\"\n",
    "\n",
    "# Write to file in text mode\n",
    "with open(\"/kaggle/working/predict_2k.txt\", \"w\") as file:\n",
    "    file.write(predict_txt)\n",
    "print(\"Predictions saved in 'predict_2k.txt'\")"
   ]
  },
  {
   "cell_type": "code",
   "execution_count": 20,
   "id": "bfc6b48e",
   "metadata": {
    "execution": {
     "iopub.execute_input": "2025-06-10T13:29:04.233521Z",
     "iopub.status.busy": "2025-06-10T13:29:04.233284Z",
     "iopub.status.idle": "2025-06-10T13:29:04.323970Z",
     "shell.execute_reply": "2025-06-10T13:29:04.323177Z",
     "shell.execute_reply.started": "2025-06-10T13:29:04.233499Z"
    },
    "papermill": {
     "duration": 0.099775,
     "end_time": "2025-06-09T11:50:43.561461",
     "exception": false,
     "start_time": "2025-06-09T11:50:43.461686",
     "status": "completed"
    },
    "tags": [],
    "trusted": true
   },
   "outputs": [
    {
     "name": "stdout",
     "output_type": "stream",
     "text": [
      "label: -1\n",
      "/kaggle/input/handwritten-test-cs114/389269258327f495063eeb7863aeb323  -.jpg\n"
     ]
    },
    {
     "data": {
      "image/jpeg": "[encoded data removed]",
      "image/png": "[encoded data removed]",
      "text/plain": [
       "<PIL.Image.Image image mode=L size=100x100>"
      ]
     },
     "metadata": {},
     "output_type": "display_data"
    }
   ],
   "source": [
    "temp = custom_image_dataset(test_list[:10], transform=transform, test=True)\n",
    "it = iter(temp)\n",
    "img, truth, path = next(it)\n",
    "\n",
    "\n",
    "print(f\"label: {truth}\")\n",
    "print(path)\n",
    "\n",
    "display(to_pil_image(img))"
   ]
  },
  {
   "cell_type": "markdown",
   "id": "bf8f245d-58a5-4c96-9870-9335f1f326f7",
   "metadata": {},
   "source": [
    "# **PREDICT 10K**"
   ]
  },
  {
   "cell_type": "code",
   "execution_count": 21,
   "id": "37597590-d85d-4112-a070-3ee3d818ca8e",
   "metadata": {
    "execution": {
     "iopub.execute_input": "2025-06-10T13:29:04.324962Z",
     "iopub.status.busy": "2025-06-10T13:29:04.324741Z",
     "iopub.status.idle": "2025-06-10T13:32:17.013622Z",
     "shell.execute_reply": "2025-06-10T13:32:17.012462Z",
     "shell.execute_reply.started": "2025-06-10T13:29:04.324941Z"
    },
    "trusted": true
   },
   "outputs": [
    {
     "name": "stdout",
     "output_type": "stream",
     "text": [
      "samples: 9974\n",
      "Predictions saved in 'predict_10k.txt'\n"
     ]
    }
   ],
   "source": [
    "# PREDICT\n",
    "test_dir = \"/kaggle/input/handwritten-test-10k\"\n",
    "test_list = [os.path.join(test_dir, img) for img in os.listdir(test_dir)]\n",
    "print(f\"samples: {len(test_list)}\")\n",
    "testset = custom_image_dataset(test_list, transform=transform, test=True)\n",
    "testloader = torch.utils.data.DataLoader(testset,batch_size=BATCH_SIZE, num_workers=num_workers)\n",
    "\n",
    "predict_txt = \"\"\n",
    "with torch.no_grad():\n",
    "    for data in testloader:\n",
    "        images, labels, paths = data\n",
    "        images = images.to(device)\n",
    "        labels = labels.to(device)\n",
    "\n",
    "        # calculate outputs by running images through the network\n",
    "        outputs = model(images)\n",
    "        _, predicted = torch.max(outputs, 1)\n",
    "\n",
    "        # save\n",
    "        for path, pred in zip(paths, predicted):\n",
    "            path = path.replace(test_dir, \"\").lstrip(os.sep)  # Strip test_dir and leading separator\n",
    "            predict_txt += f\"{path},{pred.item()}\\n\"\n",
    "\n",
    "# Write to file in text mode\n",
    "with open(\"/kaggle/working/predict_10k.txt\", \"w\") as file:\n",
    "    file.write(predict_txt)\n",
    "print(\"Predictions saved in 'predict_10k.txt'\")"
   ]
  },
  {
   "cell_type": "markdown",
   "id": "c1edb94b",
   "metadata": {
    "papermill": {
     "duration": 0.01206,
     "end_time": "2025-06-09T11:50:43.606884",
     "exception": false,
     "start_time": "2025-06-09T11:50:43.594824",
     "status": "completed"
    },
    "tags": []
   },
   "source": [
    "# **Save**"
   ]
  },
  {
   "cell_type": "code",
   "execution_count": null,
   "id": "d6dd9456",
   "metadata": {
    "execution": {
     "iopub.status.busy": "2025-06-10T13:23:05.951366Z",
     "iopub.status.idle": "2025-06-10T13:23:05.951665Z",
     "shell.execute_reply": "2025-06-10T13:23:05.951564Z",
     "shell.execute_reply.started": "2025-06-10T13:23:05.951551Z"
    },
    "papermill": {
     "duration": 0.017689,
     "end_time": "2025-06-09T11:50:43.635500",
     "exception": false,
     "start_time": "2025-06-09T11:50:43.617811",
     "status": "completed"
    },
    "tags": [],
    "trusted": true
   },
   "outputs": [],
   "source": [
    "log_path = \"train_log.txt\"\n",
    "with open(log_path, \"a\") as f:\n",
    "    f.write(\"\\n\\n\" + \"=\"*60 + \"\\n\")\n",
    "    f.write(\"Training Summary\\n\")\n",
    "    f.write(\"=\"*60 + \"\\n\")\n",
    "    f.write(f\"Time: {total_time//60:.0f}m {total_time%60:.0f}s\\n\")\n",
    "    f.write(f\"Best Validation Accuracy: {accuracy:.4f}\\n\")\n",
    "    f.write(f\"\\nOptimizer: {optimizer.__class__.__name__} - {optimizer.state_dict()['param_groups'][0]}\\n\")\n",
    "    f.write(f\"Loss Function: {criterion.__class__.__name__}\\n\")\n",
    "    f.write(\"=\"*60 + \"\\n\\n\")"
   ]
  },
  {
   "cell_type": "markdown",
   "id": "ca936443",
   "metadata": {
    "papermill": {
     "duration": 0.011311,
     "end_time": "2025-06-09T11:50:43.657703",
     "exception": false,
     "start_time": "2025-06-09T11:50:43.646392",
     "status": "completed"
    },
    "tags": []
   },
   "source": [
    "# **TEST**"
   ]
  }
 ],
 "metadata": {
  "kaggle": {
   "accelerator": "nvidiaTeslaT4",
   "dataSources": [
    {
     "datasetId": 7608653,
     "sourceId": 12086766,
     "sourceType": "datasetVersion"
    },
    {
     "datasetId": 7613469,
     "sourceId": 12094235,
     "sourceType": "datasetVersion"
    },
    {
     "datasetId": 7614858,
     "sourceId": 12096088,
     "sourceType": "datasetVersion"
    },
    {
     "isSourceIdPinned": true,
     "modelId": 372611,
     "modelInstanceId": 351363,
     "sourceId": 431041,
     "sourceType": "modelInstanceVersion"
    }
   ],
   "dockerImageVersionId": 31041,
   "isGpuEnabled": true,
   "isInternetEnabled": true,
   "language": "python",
   "sourceType": "notebook"
  },
  "kernelspec": {
   "display_name": "Python 3",
   "language": "python",
   "name": "python3"
  },
  "language_info": {
   "codemirror_mode": {
    "name": "ipython",
    "version": 3
   },
   "file_extension": ".py",
   "mimetype": "text/x-python",
   "name": "python",
   "nbconvert_exporter": "python",
   "pygments_lexer": "ipython3",
   "version": "3.11.11"
  },
  "papermill": {
   "default_parameters": {},
   "duration": 2475.969652,
   "end_time": "2025-06-09T11:50:46.658274",
   "environment_variables": {},
   "exception": null,
   "input_path": "__notebook__.ipynb",
   "output_path": "__notebook__.ipynb",
   "parameters": {},
   "start_time": "2025-06-09T11:09:30.688622",
   "version": "2.6.0"
  }
 },
 "nbformat": 4,
 "nbformat_minor": 5
}
